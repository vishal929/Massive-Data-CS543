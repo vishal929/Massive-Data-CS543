{
 "cells": [
  {
   "cell_type": "code",
   "execution_count": 4,
   "id": "534bb7a9-705e-4a30-afd5-a3cfe0d42539",
   "metadata": {},
   "outputs": [
    {
     "name": "stdout",
     "output_type": "stream",
     "text": [
      "root\n",
      " |-- Year: integer (nullable = true)\n",
      " |-- Month: integer (nullable = true)\n",
      " |-- DayofMonth: integer (nullable = true)\n",
      " |-- DayOfWeek: integer (nullable = true)\n",
      " |-- DepTime: string (nullable = true)\n",
      " |-- CRSDepTime: integer (nullable = true)\n",
      " |-- ArrTime: string (nullable = true)\n",
      " |-- CRSArrTime: integer (nullable = true)\n",
      " |-- UniqueCarrier: string (nullable = true)\n",
      " |-- FlightNum: integer (nullable = true)\n",
      " |-- TailNum: string (nullable = true)\n",
      " |-- ActualElapsedTime: string (nullable = true)\n",
      " |-- CRSElapsedTime: string (nullable = true)\n",
      " |-- AirTime: string (nullable = true)\n",
      " |-- ArrDelay: string (nullable = true)\n",
      " |-- DepDelay: string (nullable = true)\n",
      " |-- Origin: string (nullable = true)\n",
      " |-- Dest: string (nullable = true)\n",
      " |-- Distance: string (nullable = true)\n",
      " |-- TaxiIn: string (nullable = true)\n",
      " |-- TaxiOut: string (nullable = true)\n",
      " |-- Cancelled: integer (nullable = true)\n",
      " |-- CancellationCode: string (nullable = true)\n",
      " |-- Diverted: integer (nullable = true)\n",
      " |-- CarrierDelay: string (nullable = true)\n",
      " |-- WeatherDelay: string (nullable = true)\n",
      " |-- NASDelay: string (nullable = true)\n",
      " |-- SecurityDelay: string (nullable = true)\n",
      " |-- LateAircraftDelay: string (nullable = true)\n",
      "\n",
      "None\n"
     ]
    }
   ],
   "source": [
    "# loading in our raw data\n",
    "raw = spark.read.options(header=True,inferSchema=True).csv('airplane_raw')\n",
    "\n",
    "\n",
    "# only selecting columns which we need\n",
    "# also, we do not want flights which were cancelled (only valid flights or delays)\n",
    "filtered_raw = raw.where(raw.Cancelled == 0).select('Year','Month','DayofMonth','Origin','Dest',\\\n",
    "                                                       'ArrDelay','DepDelay','ActualElapsedTime','Distance')\n",
    "print(raw.printSchema())\n",
    "#filtered_raw = filtered_raw.repartition(15)\n",
    "# Got 116684126 records\n",
    "#print(filtered_raw.count())"
   ]
  },
  {
   "cell_type": "code",
   "execution_count": 5,
   "id": "3a1f4c27-bba4-47b2-90c3-e06c263b504f",
   "metadata": {},
   "outputs": [
    {
     "name": "stdout",
     "output_type": "stream",
     "text": [
      "root\n",
      " |-- iata: string (nullable = true)\n",
      " |-- airport: string (nullable = true)\n",
      " |-- city: string (nullable = true)\n",
      " |-- state: string (nullable = true)\n",
      " |-- country: string (nullable = true)\n",
      " |-- lat: double (nullable = true)\n",
      " |-- long: double (nullable = true)\n",
      "\n",
      "None\n",
      "root\n",
      " |-- Dest: string (nullable = true)\n",
      " |-- Origin: string (nullable = true)\n",
      " |-- Year: integer (nullable = true)\n",
      " |-- Month: integer (nullable = true)\n",
      " |-- DayofMonth: integer (nullable = true)\n",
      " |-- ArrDelay: string (nullable = true)\n",
      " |-- DepDelay: string (nullable = true)\n",
      " |-- ActualElapsedTime: string (nullable = true)\n",
      " |-- Distance: string (nullable = true)\n",
      " |-- origin_lat: double (nullable = true)\n",
      " |-- origin_long: double (nullable = true)\n",
      " |-- dest_lat: double (nullable = true)\n",
      " |-- dest_long: double (nullable = true)\n",
      "\n",
      "None\n"
     ]
    }
   ],
   "source": [
    "# joining latitude and longitude values to the dataset\n",
    "airport_metadata = spark.read.options(header=True,inferSchema=True).csv('./airplane_raw/metadata/airports.csv')\n",
    "print(airport_metadata.printSchema())\n",
    "\n",
    "filtered_raw = filtered_raw.join(airport_metadata.select('iata','lat','long')\\\n",
    "                             .withColumnRenamed('iata','Origin')\\\n",
    "                             .withColumnRenamed('lat','origin_lat')\\\n",
    "                             .withColumnRenamed('long','origin_long'), ['Origin'])\n",
    "\n",
    "filtered_raw = filtered_raw.join(airport_metadata.select('iata','lat','long')\\\n",
    "                             .withColumnRenamed('iata','Dest')\\\n",
    "                             .withColumnRenamed('lat','dest_lat')\\\n",
    "                             .withColumnRenamed('long','dest_long'), ['Dest'])\n",
    "\n",
    "print(filtered_raw.printSchema())"
   ]
  },
  {
   "cell_type": "code",
   "execution_count": 6,
   "id": "116ebad1-8750-4b5b-9f3e-b5eec84ca7d2",
   "metadata": {},
   "outputs": [
    {
     "name": "stdout",
     "output_type": "stream",
     "text": [
      "root\n",
      " |-- Year: integer (nullable = true)\n",
      " |-- Month: integer (nullable = true)\n",
      " |-- DayofMonth: integer (nullable = true)\n",
      " |-- Airport: string (nullable = true)\n",
      " |-- id: long (nullable = true)\n",
      "\n",
      "None\n",
      "root\n",
      " |-- id: long (nullable = true)\n",
      " |-- ACSH: long (nullable = true)\n",
      " |-- WSFG: long (nullable = true)\n",
      " |-- WSFM: long (nullable = true)\n",
      " |-- SNOW: long (nullable = true)\n",
      " |-- TMAX: long (nullable = true)\n",
      " |-- SNWD: long (nullable = true)\n",
      " |-- PRCP: long (nullable = true)\n",
      " |-- AWND: long (nullable = true)\n",
      " |-- ACMH: long (nullable = true)\n",
      " |-- ACMC: long (nullable = true)\n",
      " |-- TMIN: long (nullable = true)\n",
      "\n",
      "None\n"
     ]
    }
   ],
   "source": [
    "# loading or mapping from (year,month,day,airport) to id\n",
    "airport_date_to_id_mapping = spark.read.parquet('./airport_date_to_id_mapping')\n",
    "print(airport_date_to_id_mapping.printSchema())\n",
    "\n",
    "\n",
    "\n",
    "# loading mapping from id to weather conditions\n",
    "id_to_weather_mapping = spark.read.parquet('./id_to_weather_mapping')\n",
    "print(id_to_weather_mapping.printSchema())"
   ]
  },
  {
   "cell_type": "code",
   "execution_count": 7,
   "id": "2f18a1cb-762d-4217-ae09-a7e73583bbf7",
   "metadata": {},
   "outputs": [
    {
     "name": "stdout",
     "output_type": "stream",
     "text": [
      "1336772\n"
     ]
    }
   ],
   "source": [
    "# dropping columns in the mapping which we do not need\n",
    "\n",
    "final_weather_mapping = id_to_weather_mapping.select('id','PRCP','TMAX','TMIN','AWND')\\\n",
    "                                             .where(\\\n",
    "                                             (id_to_weather_mapping.PRCP!=-9999) &     \\\n",
    "                                             (id_to_weather_mapping.TMAX!=-9999) & \\\n",
    "                                             (id_to_weather_mapping.TMIN!=-9999) & \\\n",
    "                                             (id_to_weather_mapping.AWND!=-9999) \\\n",
    "                                             )\n",
    "print(final_weather_mapping.count())\n",
    "\n"
   ]
  },
  {
   "cell_type": "code",
   "execution_count": 8,
   "id": "f15ae911-cc43-4a91-a097-42550e5a2917",
   "metadata": {},
   "outputs": [
    {
     "name": "stdout",
     "output_type": "stream",
     "text": [
      "root\n",
      " |-- ArrDelay: string (nullable = true)\n",
      " |-- DepDelay: string (nullable = true)\n",
      " |-- ActualElapsedTime: string (nullable = true)\n",
      " |-- Distance: string (nullable = true)\n",
      " |-- origin_lat: double (nullable = true)\n",
      " |-- origin_long: double (nullable = true)\n",
      " |-- dest_lat: double (nullable = true)\n",
      " |-- dest_long: double (nullable = true)\n",
      " |-- origin_id: long (nullable = true)\n",
      " |-- dest_id: long (nullable = true)\n",
      " |-- Season: integer (nullable = true)\n",
      "\n",
      "None\n",
      "[Row(ArrDelay='-1', DepDelay='-4', ActualElapsedTime='141', Distance='837', origin_lat=41.979595, origin_long=-87.90446417, dest_lat=29.99338889, dest_long=-90.25802778, origin_id=94489280720, dest_id=103079215211, Season=0)]\n"
     ]
    }
   ],
   "source": [
    "from pyspark.sql import functions as F\n",
    "from pyspark.sql import types as T\n",
    "\n",
    "# mapping location and day,time to ids in the raw df\n",
    "filtered_raw = filtered_raw.join(airport_date_to_id_mapping.withColumnRenamed('Airport','Origin').withColumnRenamed('id','origin_id'), \\\n",
    "                                ['Year','Month','DayofMonth','Origin'])\n",
    "filtered_raw = filtered_raw.join(airport_date_to_id_mapping.withColumnRenamed('Airport','Dest').withColumnRenamed('id','dest_id'), \\\n",
    "                                ['Year','Month','DayofMonth','Dest'])\n",
    "\n",
    "# adding a dayOfYear column\n",
    "@F.udf(returnType = T.StringType())\n",
    "def date_string(year,month,day):\n",
    "    return year+'-'+month+'-'+day\n",
    "\n",
    "# 12-2 is winter =0, 3-5 is spring=1, 6-8 is summer=2, 9-11 is fall=3\n",
    "@F.udf(returnType = T.IntegerType())\n",
    "def map_month_to_season(month):\n",
    "    if month in {12,1,2}:\n",
    "        return 0\n",
    "    elif month in {3,4,5}:\n",
    "        return 1\n",
    "    elif month in {6,7,8}:\n",
    "        return 2\n",
    "    else:\n",
    "        return 3\n",
    "\n",
    "\n",
    "# dropping the year, month, dayofMonth, Origin,and Dest columns, since we have their unique ids\n",
    "#filtered_raw = filtered_raw.withColumn('Date',F.concat_ws(\"-\",filtered_raw.Year,filtered_raw.Month,filtered_raw.DayofMonth).cast(\"date\"))\n",
    "#filtered_raw = filtered_raw.withColumn('Date', F.dayofyear(filtered_raw.Date)).withColumnRenamed('Date','DayOfYear')\n",
    "filtered_raw = filtered_raw.withColumn('Season',map_month_to_season(filtered_raw.Month))\n",
    "filtered_raw = filtered_raw.drop('Year','Month','DayofMonth','Origin','Dest')\n",
    "print(filtered_raw.printSchema())\n",
    "print(filtered_raw.take(1))"
   ]
  },
  {
   "cell_type": "code",
   "execution_count": 9,
   "id": "85ca00f3-8646-41ba-9bc1-58f9ff101fd2",
   "metadata": {},
   "outputs": [
    {
     "name": "stdout",
     "output_type": "stream",
     "text": [
      "95830696\n"
     ]
    }
   ],
   "source": [
    "from math import isnan\n",
    "# checking exactly how many records with weather that we have\n",
    "\n",
    "# below collects map of (id -> [Weather conditions])\n",
    "collect_weather = final_weather_mapping.rdd.map(lambda x: (x['id'],(x['PRCP'],x['TMAX'],x['TMIN'],x['AWND']))).collectAsMap()\n",
    "\n",
    "collect_weather_broadcast = sc.broadcast(collect_weather)\n",
    "\n",
    "# basically just grabbing records which are valid\n",
    "def test_good_records(record):\n",
    "    if record['ArrDelay'] == 'NA':\n",
    "        return False\n",
    "    elif record['DepDelay'] == 'NA':\n",
    "        return False\n",
    "    elif record['ActualElapsedTime'] == 'NA':\n",
    "        return False\n",
    "    elif record['Distance']=='NA':\n",
    "        return False\n",
    "    elif isnan(record['origin_lat']):\n",
    "        return False\n",
    "    elif isnan(record['origin_long']):\n",
    "        return False\n",
    "    elif isnan(record['dest_lat']):\n",
    "        return False\n",
    "    elif isnan(record['dest_long']):\n",
    "        return False\n",
    "    elif record['Season']==None:\n",
    "        return False\n",
    "    return True\n",
    "\n",
    "\n",
    "filtered_raw = \\\n",
    "                filtered_raw.rdd\\\n",
    "                             .filter(test_good_records)\\\n",
    "                             .filter(lambda x: x['origin_id'] in collect_weather_broadcast.value \\\n",
    "                             and x['dest_id'] in collect_weather_broadcast.value).toDF()\n",
    "\n",
    "#print(filtered_raw.where(filtered_raw.ArrDelay == 'NA').count())\n",
    "#print(filtered_raw.where(filtered_raw.ActualElapsedTime == 'NA').count())\n",
    "# 95830696\n",
    "print(filtered_raw.count())\n",
    "# turning string columns into ints, so we can run BFR\n",
    "\n",
    "filtered_raw = filtered_raw\\\n",
    "                           .withColumn('ArrDelay',filtered_raw.ArrDelay.cast('int'))\\\n",
    "                           .withColumn('DepDelay',filtered_raw.DepDelay.cast('int'))\\\n",
    "                           .withColumn('ActualElapsedTime',filtered_raw.ActualElapsedTime.cast('int'))\\\n",
    "                           .withColumn('Distance',filtered_raw.Distance.cast('int'))\n",
    "\n"
   ]
  },
  {
   "cell_type": "code",
   "execution_count": 10,
   "id": "d3c78712-282e-47ff-91d6-f99599153837",
   "metadata": {},
   "outputs": [
    {
     "name": "stdout",
     "output_type": "stream",
     "text": [
      "Row(ArrDelay_mean=7.159954113241544, DepDelay_mean=8.155785553305384, ActualElapsedTime_mean=122.11903171401364, Distance_mean=715.1781956065518, origin_lat_mean=37.09965985734687, origin_long_mean=-92.27161607310381, dest_lat_mean=37.09915724194126, dest_long_mean=-92.26712071711091, Season_mean=1.4983448205364176, origin_prcp_mean=25.696228836739326, origin_tmax_mean=205.3709193033514, origin_tmin_mean=94.5765910747429, origin_awnd_mean=38.636158741871185, dest_prcp_mean=25.612486723460716, dest_tmax_mean=205.36587148443542, dest_tmin_mean=94.56188964755093, dest_awnd_mean=38.63819560488218, ArrDelay_stddev=30.939682127010034, DepDelay_stddev=28.437824166810316, ActualElapsedTime_stddev=70.31234179026464, Distance_stddev=569.0274209367312, origin_lat_stddev=5.599107569908235, origin_long_stddev=16.703784257869266, dest_lat_stddev=5.599707267313789, dest_long_stddev=16.697214735116148, Season_stddev=1.1130543679507328, origin_prcp_stddev=83.85304742810706, origin_tmax_stddev=105.31647510766074, origin_tmin_stddev=98.1359147879642, origin_awnd_stddev=20.659449046651936, dest_prcp_stddev=83.51747812154072, dest_tmax_stddev=105.35316315020006, dest_tmin_stddev=98.1718575656423, dest_awnd_stddev=20.577454061628448)\n",
      "[Row(ArrDelay=-0.2637374902477742, DepDelay=-0.42745132264698216, ActualElapsedTime=0.26852993095161837, Distance=0.2140877573050971, origin_lat=0.8715558830981899, origin_long=0.26144685753148555, dest_lat=-1.268953538592731, dest_long=0.12032503438346248, Season=-1.3461560043064662, origin_prcp=0.516424536632231, origin_tmax=-2.1589302060377484, origin_tmin=-1.921585909523419, origin_awnd=-0.0791966299864294, dest_prcp=-0.3066721756874359, dest_tmax=0.31925124514404024, dest_tmin=0.5647047099560132, dest_awnd=0.16337319403310954)]\n"
     ]
    }
   ],
   "source": [
    "joined = filtered_raw.join(final_weather_mapping.withColumnRenamed('id','origin_id'),'origin_id')\\\n",
    "                     .withColumnRenamed('PRCP','origin_prcp')\\\n",
    "                     .withColumnRenamed('TMAX','origin_tmax')\\\n",
    "                     .withColumnRenamed('TMIN','origin_tmin')\\\n",
    "                     .withColumnRenamed('AWND','origin_awnd')\\\n",
    "                     .join(final_weather_mapping.withColumnRenamed('id','dest_id'),'dest_id')\\\n",
    "                     .withColumnRenamed('PRCP','dest_prcp')\\\n",
    "                     .withColumnRenamed('TMAX','dest_tmax')\\\n",
    "                     .withColumnRenamed('TMIN','dest_tmin')\\\n",
    "                     .withColumnRenamed('AWND','dest_awnd')\\\n",
    "                     .drop('dest_id','origin_id')\n",
    "\n",
    "columns = joined.columns\n",
    "\n",
    "stats = joined.select(*[[F.mean(c).alias(c+'_mean') for c in joined.columns] + [F.stddev_pop(c).alias(c+'_stddev') for c in joined.columns]]).collect()[0]\n",
    "# scaling join column\n",
    "for column in columns:\n",
    "    \n",
    "    joined = joined.withColumn(column,(joined[column]-stats[column+'_mean'])/(stats[column+'_stddev']))\n",
    "    \n",
    "print(stats)\n",
    "\n",
    "print(joined.take(1))\n",
    "\n",
    "# lets write this data to parquet, just because\n",
    "joined.write.parquet('./FINAL_processed_data')"
   ]
  },
  {
   "cell_type": "markdown",
   "id": "58a784cd-4f3f-496a-91b6-f07d92380a7d",
   "metadata": {},
   "source": [
    "**Skip Pre-processing**"
   ]
  },
  {
   "cell_type": "code",
   "execution_count": 16,
   "id": "83aa2229-ce2c-40ec-aadd-be41354e210b",
   "metadata": {},
   "outputs": [],
   "source": [
    "from pyspark.sql import functions as F\n",
    "from pyspark.sql import types as T\n",
    "import numpy as np\n",
    "joined = spark.read.parquet('./FINAL_processed_data')"
   ]
  },
  {
   "cell_type": "code",
   "execution_count": 17,
   "id": "9eaa0505-2f48-47d5-9e8b-e5f3a30ca903",
   "metadata": {},
   "outputs": [
    {
     "name": "stdout",
     "output_type": "stream",
     "text": [
      "root\n",
      " |-- ArrDelay: double (nullable = true)\n",
      " |-- DepDelay: double (nullable = true)\n",
      " |-- ActualElapsedTime: double (nullable = true)\n",
      " |-- Distance: double (nullable = true)\n",
      " |-- origin_lat: double (nullable = true)\n",
      " |-- origin_long: double (nullable = true)\n",
      " |-- dest_lat: double (nullable = true)\n",
      " |-- dest_long: double (nullable = true)\n",
      " |-- Season: double (nullable = true)\n",
      " |-- origin_prcp: double (nullable = true)\n",
      " |-- origin_tmax: double (nullable = true)\n",
      " |-- origin_tmin: double (nullable = true)\n",
      " |-- origin_awnd: double (nullable = true)\n",
      " |-- dest_prcp: double (nullable = true)\n",
      " |-- dest_tmax: double (nullable = true)\n",
      " |-- dest_tmin: double (nullable = true)\n",
      " |-- dest_awnd: double (nullable = true)\n",
      "\n"
     ]
    }
   ],
   "source": [
    "joined.printSchema()"
   ]
  },
  {
   "cell_type": "markdown",
   "id": "6cfc20b5-b38d-424a-9fb7-ee907145cba7",
   "metadata": {},
   "source": [
    "**Mini Batch Class**"
   ]
  },
  {
   "cell_type": "code",
   "execution_count": 18,
   "id": "f5ecf827-7b6b-4dbe-8a9b-5cc036657d61",
   "metadata": {},
   "outputs": [],
   "source": [
    "import numpy as np\n",
    "from sklearn.cluster import KMeans\n",
    "class MiniBatch():\n",
    "    def __init__(self,k):\n",
    "        self.k = k\n",
    "        self.N = np.zeros(k)\n",
    "        self.centers = []\n",
    "        \n",
    "    def process_initial(self,sample):\n",
    "        # in the first step, we can use some main memory algorithm to cluster a sample of points\n",
    "        # lets just use k-means in sk learn library and then update our results\n",
    "        model = KMeans(n_clusters=self.k).fit(sample)\n",
    "        # creating our initial clusters\n",
    "        self.centers = model.cluster_centers_\n",
    "        for j in model.labels_:\n",
    "            self.N[j] += 1\n",
    "    \n",
    "    # given a batch, we update the cluster centers and counts\n",
    "    def process_batch(self, examples):\n",
    "        for i,example in enumerate(examples):\n",
    "            centroid_dist = np.zeros(self.k)\n",
    "            for c in range(self.k):\n",
    "                centroid_dist[c] = np.linalg.norm(example-self.centers[c])\n",
    "            C = np.argmin(centroid_dist)\n",
    "            self.N[C] = self.N[C] + 1\n",
    "            lr = 1/self.N[C]\n",
    "            self.centers[C] = ((1-lr) * self.centers[C]) + (lr * example)"
   ]
  },
  {
   "cell_type": "markdown",
   "id": "1167240e-39c6-4001-a186-5a70229832d9",
   "metadata": {},
   "source": [
    "**Mini Batch Loop**"
   ]
  },
  {
   "cell_type": "code",
   "execution_count": 19,
   "id": "379f1886-03ab-4caf-95a0-84e4938ecce4",
   "metadata": {},
   "outputs": [],
   "source": [
    "joined = joined.withColumn('Season', joined.Season+2)\n",
    "joined = joined.withColumn('Season', joined.Season.cast('int'))"
   ]
  },
  {
   "cell_type": "code",
   "execution_count": 20,
   "id": "f87b6b15-ada5-4056-b81e-0a1418e4675c",
   "metadata": {},
   "outputs": [],
   "source": [
    "season = 1\n",
    "joined = joined.where(joined.Season == season).drop('Season')"
   ]
  },
  {
   "cell_type": "code",
   "execution_count": 23,
   "id": "3c7127de-54f0-46c2-9876-56eeac850a47",
   "metadata": {},
   "outputs": [],
   "source": [
    "k = 9\n",
    "model = MiniBatch(k)\n",
    "\n",
    "sample = joined.sample(fraction=0.0001).drop('batch_id')\n",
    "#print(sample.printSchema())\n",
    "test = sample.toPandas().to_numpy()\n",
    "#print(test)\n",
    "\n",
    "model.process_initial(test)\n",
    "del(test)\n",
    "del(sample)"
   ]
  },
  {
   "cell_type": "code",
   "execution_count": 24,
   "id": "785c9edf-3f9b-4e14-98c8-1c05ab15fbc1",
   "metadata": {},
   "outputs": [
    {
     "name": "stdout",
     "output_type": "stream",
     "text": [
      "on batch partition: 0\n",
      "41044\n",
      "on batch partition: 1\n",
      "48067\n",
      "on batch partition: 2\n",
      "471349\n",
      "on batch partition: 4\n",
      "1299960\n",
      "on batch partition: 6\n",
      "243165\n",
      "on batch partition: 7\n",
      "2373686\n",
      "on batch partition: 8\n",
      "182216\n",
      "on batch partition: 9\n",
      "194208\n",
      "on batch partition: 10\n",
      "1145134\n",
      "on batch partition: 11\n",
      "147682\n",
      "on batch partition: 13\n",
      "575976\n",
      "on batch partition: 14\n",
      "1747535\n",
      "on batch partition: 15\n",
      "1587158\n",
      "on batch partition: 16\n",
      "731800\n",
      "on batch partition: 17\n",
      "679983\n",
      "on batch partition: 18\n",
      "1733804\n",
      "on batch partition: 19\n",
      "882708\n",
      "on batch partition: 20\n",
      "2216277\n",
      "on batch partition: 21\n",
      "426467\n",
      "on batch partition: 22\n",
      "1267406\n",
      "on batch partition: 23\n",
      "759399\n",
      "on batch partition: 24\n",
      "839178\n",
      "on batch partition: 25\n",
      "368115\n",
      "on batch partition: 26\n",
      "688850\n",
      "on batch partition: 27\n",
      "1091585\n",
      "on batch partition: 28\n",
      "1309604\n",
      "on batch partition: 29\n",
      "739236\n",
      "on batch partition: 30\n",
      "369074\n",
      "on batch partition: 31\n",
      "341319\n"
     ]
    }
   ],
   "source": [
    "joined = joined.withColumn('batch_id',F.spark_partition_id())\n",
    "unique_partitions = joined.select('batch_id').distinct().rdd.map(lambda x: x['batch_id']).collect()\n",
    "for i in unique_partitions:\n",
    "    print('on batch partition: ' + str(i))\n",
    "    batch = joined.filter(joined.batch_id == i).drop('batch_id').toPandas().to_numpy()\n",
    "    print(len(batch))\n",
    "    model.process_batch(batch)\n",
    "    del(batch)\n",
    "\n",
    "# writing to disk\n",
    "with open('./MiniBatch_Clusters/season='+str(season)+'/num_clusters='+str(k)+'.txt','w+') as file:\n",
    "    for i in range(k):\n",
    "        file.write(str(model.centers[i])+'\\nN: '+str(model.N[i])+'\\n')"
   ]
  },
  {
   "cell_type": "code",
   "execution_count": 18,
   "id": "150b1f14-5440-40f1-86c2-2a1ba783894e",
   "metadata": {},
   "outputs": [
    {
     "data": {
      "text/plain": [
       "array([[-5.54907360e-02, -3.96554666e-02, -3.29970063e-01,\n",
       "        -3.01156369e-01, -7.24980529e-01, -3.05297133e-01,\n",
       "        -4.27779029e-01, -2.58572097e-01,  6.73547675e-03,\n",
       "        -2.72956939e-01, -3.40506683e-01, -1.49366471e-01,\n",
       "         4.26902016e-03, -5.00154105e-01, -5.46061586e-01,\n",
       "        -8.45035679e-02],\n",
       "       [ 6.61442031e-02,  4.61507244e-02, -3.71092995e-01,\n",
       "        -4.22549948e-01,  5.20395614e-01,  4.08608109e-01,\n",
       "         5.55963390e-01,  4.28455942e-01, -8.10771554e-02,\n",
       "        -1.53315806e+00, -1.46879213e+00,  2.60795428e-01,\n",
       "        -8.29223876e-02, -1.56600068e+00, -1.50055397e+00,\n",
       "         2.73861606e-01],\n",
       "       [ 2.55737212e-01,  2.58013491e-01,  1.59968896e+00,\n",
       "         1.56913364e+00,  2.52888821e-01, -2.55768112e-01,\n",
       "        -4.58419777e-01, -3.96993089e-01,  2.05425917e-04,\n",
       "        -1.04518556e+00, -9.44179370e-01,  1.15789181e-01,\n",
       "         1.22431494e-02, -4.88564504e-01, -4.35693159e-01,\n",
       "        -4.77478107e-02]])"
      ]
     },
     "execution_count": 18,
     "metadata": {},
     "output_type": "execute_result"
    }
   ],
   "source": [
    "model.centers"
   ]
  },
  {
   "cell_type": "code",
   "execution_count": 32,
   "id": "3f16e148-4e76-45d5-88a1-6c16b7b50d2a",
   "metadata": {},
   "outputs": [
    {
     "data": {
      "text/plain": [
       "9"
      ]
     },
     "execution_count": 32,
     "metadata": {},
     "output_type": "execute_result"
    }
   ],
   "source": [
    "len(model.centers)"
   ]
  },
  {
   "cell_type": "markdown",
   "id": "dc79886d-dd63-47dd-a3bc-61f35d8b90ec",
   "metadata": {},
   "source": [
    "**Generating Elbow Plots Using Squared Distance**"
   ]
  },
  {
   "cell_type": "code",
   "execution_count": 1,
   "id": "d0cfffee-d529-4184-b840-e719a09f8bac",
   "metadata": {},
   "outputs": [],
   "source": [
    "from pyspark.sql import functions as F\n",
    "from pyspark.sql import types as T\n",
    "import numpy as np\n",
    "import matplotlib.pyplot as plt"
   ]
  },
  {
   "cell_type": "code",
   "execution_count": 2,
   "id": "1806aed3-d52a-4f59-9ef2-99fa8c239495",
   "metadata": {},
   "outputs": [],
   "source": [
    "def squared_error(centers, x):\n",
    "    dist = np.zeros(len(centers))\n",
    "    for c in range(len(centers)):\n",
    "        dist[c] = np.linalg.norm(x-centers[c])\n",
    "    return dist[np.argmin(dist)]**2"
   ]
  },
  {
   "cell_type": "code",
   "execution_count": 3,
   "id": "092e5156-2216-4a02-a55b-cf0043b75c69",
   "metadata": {},
   "outputs": [],
   "source": [
    "def obtain_centers(season, num_clusters):\n",
    "    with open('./MiniBatch_Clusters/season='+str(season)+'/num_clusters='+str(num_clusters)+'.txt','r') as f:\n",
    "        lines = f.readlines()\n",
    "        centers = np.zeros((num_clusters,16))\n",
    "        for i in range(num_clusters):\n",
    "            centers[i] = lines[i*2][1:-2].split()\n",
    "    return centers"
   ]
  },
  {
   "cell_type": "code",
   "execution_count": 5,
   "id": "6a5c5212-a1bb-4107-8a4d-1af270c0187a",
   "metadata": {},
   "outputs": [
    {
     "name": "stdout",
     "output_type": "stream",
     "text": [
      "Season = 3, K = 3, Error = 277424426.76895\n",
      "Season = 3, K = 4, Error = 271881751.5396946\n",
      "Season = 3, K = 5, Error = 241013555.88636246\n",
      "Season = 3, K = 6, Error = 214329732.2368497\n",
      "Season = 3, K = 7, Error = 206293428.51295635\n",
      "Season = 3, K = 8, Error = 194014014.8384889\n",
      "Season = 3, K = 9, Error = 186673353.3786316\n"
     ]
    }
   ],
   "source": [
    "for season in range(4):\n",
    "    joined = spark.read.parquet('./FINAL_processed_data')\n",
    "    joined = joined.withColumn('Season', joined.Season+2)\n",
    "    joined = joined.withColumn('Season', joined.Season.cast('int'))\n",
    "    joined = joined.where(joined.Season == season).drop('Season')\n",
    "    errors = np.zeros(7)\n",
    "    for k in range(3,10):\n",
    "        centers = obtain_centers(season,k)\n",
    "        errors[k-3] = joined.rdd.map(lambda x: squared_error(centers,x)).reduce(lambda x,y: x+y)\n",
    "        print('Season = '+str(season)+', K = '+str(k)+', Error = '+str(errors[k-3]))\n",
    "    with open('./MiniBatch_Errors/season='+str(season)+'.txt','w+') as file:\n",
    "        file.write(str(errors))"
   ]
  },
  {
   "cell_type": "code",
   "execution_count": 4,
   "id": "fca81465-6737-48d8-933b-da2b5ba48f57",
   "metadata": {},
   "outputs": [],
   "source": [
    "def obtain_errors(season):\n",
    "    with open('./MiniBatch_Errors/season='+str(season)+'.txt','r') as f:\n",
    "        errors = np.array(f.readline()[1:-1].split()).astype('double')\n",
    "    return errors"
   ]
  },
  {
   "cell_type": "code",
   "execution_count": 5,
   "id": "d38b4c2f-a69c-47dc-abf5-b89f62b1935e",
   "metadata": {},
   "outputs": [
    {
     "data": {
      "text/plain": [
       "Text(0.5, 1.0, 'Mini Batch K-Means: Season=0')"
      ]
     },
     "execution_count": 5,
     "metadata": {},
     "output_type": "execute_result"
    },
    {
     "data": {
      "image/png": "[encoded data removed]",
      "text/plain": [
       "<Figure size 432x288 with 1 Axes>"
      ]
     },
     "metadata": {
      "needs_background": "light"
     },
     "output_type": "display_data"
    }
   ],
   "source": [
    "plt.plot([i for i in range(3,10)],obtain_errors(0))\n",
    "plt.xlabel(\"Number of Clusters\")\n",
    "plt.ylabel(\"Sum of Squared Error\")\n",
    "plt.title(\"Mini Batch K-Means: Season=0\")"
   ]
  },
  {
   "cell_type": "markdown",
   "id": "ff49dcd3-19f1-4210-aaaa-9bc3b8a6d0c7",
   "metadata": {},
   "source": [
    "**PCA for visualizing clusters**"
   ]
  },
  {
   "cell_type": "code",
   "execution_count": 6,
   "id": "fa0788d8-3755-4d33-af67-f419c5db54cf",
   "metadata": {},
   "outputs": [],
   "source": [
    "joined = spark.read.parquet('./FINAL_processed_data')\n",
    "joined = joined.withColumn('Season', joined.Season+2)\n",
    "joined = joined.withColumn('Season', joined.Season.cast('int'))\n",
    "season = 0\n",
    "joined = joined.where(joined.Season == season).drop('Season')"
   ]
  },
  {
   "cell_type": "code",
   "execution_count": 11,
   "id": "1ccc8503-434c-4fcc-aec2-2404c6e1b9ae",
   "metadata": {},
   "outputs": [],
   "source": [
    "center_5 = obtain_centers(0,5)\n",
    "\n",
    "@F.udf(returnType = T.IntegerType())\n",
    "def tag_record_5(x):\n",
    "    dist = np.zeros(len(center_5))\n",
    "    for c in range(len(center_5)):\n",
    "        dist[c] = np.linalg.norm(np.array(x)-center_5[c])\n",
    "    return int(np.argmin(dist))"
   ]
  },
  {
   "cell_type": "code",
   "execution_count": 12,
   "id": "12a4923f-db61-4bd3-9e8a-d03549cb443c",
   "metadata": {},
   "outputs": [],
   "source": [
    "from pyspark.sql.functions import struct, array\n",
    "sample = joined.sample(fraction=0.0001)\n",
    "#print(sample.printSchema())\n",
    "\n",
    "sample = sample.withColumn(\"tag\", tag_record_5(array([sample[col] for col in sample.columns])))\n",
    "test = sample.toPandas().to_numpy()\n",
    "#print(test)"
   ]
  },
  {
   "cell_type": "code",
   "execution_count": 20,
   "id": "33824a7e-7706-4bc3-950c-648c985ee70c",
   "metadata": {},
   "outputs": [
    {
     "data": {
      "text/plain": [
       "array([[-0.45766321, -0.35712245, -0.71280561, ...,  0.05347849,\n",
       "        -0.22982034, -1.05154873],\n",
       "       [-0.19909559, -0.14613585,  1.335199  , ...,  0.52807269,\n",
       "         0.84991883, -0.95435497],\n",
       "       [ 0.44732347,  0.66264614, -0.44258278, ..., -1.89235772,\n",
       "        -1.29937329, -0.71137059],\n",
       "       ...,\n",
       "       [-0.16677463, -0.28679359,  0.63830854, ..., -0.58247773,\n",
       "        -0.96322808, -0.75996747],\n",
       "       [-0.03749082, -0.21646472, -0.10124868, ..., -1.47471482,\n",
       "        -0.85117967,  0.30916382],\n",
       "       [-0.06981177, -0.28679359, -0.74125012, ..., -0.52552643,\n",
       "        -0.16870303, -0.03101431]])"
      ]
     },
     "execution_count": 20,
     "metadata": {},
     "output_type": "execute_result"
    }
   ],
   "source": [
    "test[:,:-1]"
   ]
  },
  {
   "cell_type": "code",
   "execution_count": 26,
   "id": "da6f5bfa-a738-4895-b9ee-d6c6944268d3",
   "metadata": {},
   "outputs": [
    {
     "name": "stdout",
     "output_type": "stream",
     "text": [
      "[0.23807975 0.19351987]\n",
      "[96.37673757 86.8907944 ]\n"
     ]
    }
   ],
   "source": [
    "from sklearn.decomposition import PCA\n",
    "import seaborn as sns\n",
    "import matplotlib.pyplot as plt\n",
    "import pandas as pd\n",
    "pca = PCA(2)\n",
    "pca.fit(test[:,:-1])\n",
    "print(pca.explained_variance_ratio_)\n",
    "print(pca.singular_values_)"
   ]
  },
  {
   "cell_type": "code",
   "execution_count": 37,
   "id": "8cd39c31-a766-4af5-a121-465f09804be9",
   "metadata": {},
   "outputs": [],
   "source": [
    "pd_1 = pd.DataFrame(data = pca.transform(test[:,:-1]), columns=(\"PCA1\",\"PCA2\"))\n",
    "pd_2 = pd.DataFrame(data = test[:,-1], columns=[\"tag\"])"
   ]
  },
  {
   "cell_type": "code",
   "execution_count": 49,
   "id": "66619fcd-4e66-4655-a8e3-fbb6aaae4908",
   "metadata": {},
   "outputs": [
    {
     "data": {
      "image/png": "[encoded data removed]",
      "text/plain": [
       "<Figure size 484x432 with 1 Axes>"
      ]
     },
     "metadata": {
      "needs_background": "light"
     },
     "output_type": "display_data"
    }
   ],
   "source": [
    "pca_data = pd.concat([pd_1,pd_2], axis=1)\n",
    "sns.FacetGrid(pca_data,hue=\"tag\", height=6).map(plt.scatter, \"PCA1\", \"PCA2\").add_legend()\n",
    "plt.xlim(-3,15)\n",
    "plt.title(\"Mini Batch K-Means: Season = 0, K = 5\")\n",
    "plt.show()"
   ]
  }
 ],
 "metadata": {
  "kernelspec": {
   "display_name": "Spark 3 in Python 3",
   "language": "python",
   "name": "pyspark3"
  },
  "language_info": {
   "codemirror_mode": {
    "name": "ipython",
    "version": 3
   },
   "file_extension": ".py",
   "mimetype": "text/x-python",
   "name": "python",
   "nbconvert_exporter": "python",
   "pygments_lexer": "ipython3",
   "version": "3.9.5"
  }
 },
 "nbformat": 4,
 "nbformat_minor": 5
}
