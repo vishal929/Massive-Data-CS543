{
 "cells": [
  {
   "cell_type": "markdown",
   "id": "afd4a235-3cf1-4c99-9ae7-13da5d79ad7e",
   "metadata": {},
   "source": [
    "**Processing airline data Group 10**"
   ]
  },
  {
   "cell_type": "code",
   "execution_count": 1,
   "id": "ff9ee1ae-ee08-4f1d-8408-ea33c4b5f7d8",
   "metadata": {},
   "outputs": [],
   "source": [
    "import matplotlib.pyplot as plt\n",
    "\n",
    "\n",
    "# grabbing all csvs in raw folder just because\n",
    "raw = spark.read.options(header=True,inferSchema=True).csv('airplane_raw')\n",
    "#raw.printSchema()\n",
    "#print(raw.take(1))"
   ]
  },
  {
   "cell_type": "markdown",
   "id": "4004dff8-7f34-4d0a-91fc-53c6527e1b15",
   "metadata": {},
   "source": [
    "**What are the busiest airports that people fly out of?**"
   ]
  },
  {
   "cell_type": "code",
   "execution_count": 2,
   "id": "f5c49f6d-6bf9-4b36-901b-f0f104aa48dc",
   "metadata": {},
   "outputs": [
    {
     "name": "stdout",
     "output_type": "stream",
     "text": [
      "+----+-----+------+--------------------+---------+----------+\n",
      "|iata|Month| count|             airport|      lat|      long|\n",
      "+----+-----+------+--------------------+---------+----------+\n",
      "| ORD|    3|556663|Chicago O'Hare In...|0.5415102|0.27536625|\n",
      "| ORD|   10|548480|Chicago O'Hare In...|0.5415102|0.27536625|\n",
      "| ORD|    1|546669|Chicago O'Hare In...|0.5415102|0.27536625|\n",
      "| ORD|    4|540226|Chicago O'Hare In...|0.5415102|0.27536625|\n",
      "| ORD|    8|536420|Chicago O'Hare In...|0.5415102|0.27536625|\n",
      "| ORD|   12|534155|Chicago O'Hare In...|0.5415102|0.27536625|\n",
      "| ORD|    7|531262|Chicago O'Hare In...|0.5415102|0.27536625|\n",
      "| ORD|    5|525760|Chicago O'Hare In...|0.5415102|0.27536625|\n",
      "| ORD|   11|518190|Chicago O'Hare In...|0.5415102|0.27536625|\n",
      "| ORD|    6|516619|Chicago O'Hare In...|0.5415102|0.27536625|\n",
      "| ATL|    3|514557|William B Hartsfi...|0.4110443|0.28615704|\n",
      "| ORD|    9|507630|Chicago O'Hare In...|0.5415102|0.27536625|\n",
      "| ATL|    1|505035|William B Hartsfi...|0.4110443|0.28615704|\n",
      "| ATL|   10|504649|William B Hartsfi...|0.4110443|0.28615704|\n",
      "| ORD|    2|502996|Chicago O'Hare In...|0.5415102|0.27536625|\n",
      "| ATL|   12|495894|William B Hartsfi...|0.4110443|0.28615704|\n",
      "| ATL|    4|491713|William B Hartsfi...|0.4110443|0.28615704|\n",
      "| ATL|    8|487253|William B Hartsfi...|0.4110443|0.28615704|\n",
      "| ATL|   11|481193|William B Hartsfi...|0.4110443|0.28615704|\n",
      "| ATL|    7|479405|William B Hartsfi...|0.4110443|0.28615704|\n",
      "+----+-----+------+--------------------+---------+----------+\n",
      "only showing top 20 rows\n",
      "\n"
     ]
    }
   ],
   "source": [
    "from pyspark.sql.functions import min,max,mean \n",
    "import math\n",
    "from pyspark.sql import functions as F\n",
    "from pyspark.sql.types import FloatType\n",
    "from pyspark.sql.functions import col\n",
    "from pyspark.sql.types import FloatType\n",
    "from pyspark.sql.functions import col\n",
    "\n",
    "# simply counting records for origin airport (doesnt matter if these flights were cancelled or not, its about intent)\n",
    "\n",
    "# need to read in metadata for airport names\n",
    "airport_metadata = spark.read.options(inferSchema=True,header=True).csv('airplane_raw/metadata/airports.csv')\n",
    "iata_airport_pairs = airport_metadata.select('iata', 'airport','lat', 'long')\n",
    "# origin_top_10 = raw.select('Origin','Month').withColumnRenamed('Origin','iata')\\\n",
    "#                                     .groupBy('iata','Month')\\\n",
    "#                                     .count()\\\n",
    "#                                     .join(iata_airport_pairs,'iata','inner')\\\n",
    "#                                     .orderBy('count',ascending=False)\n",
    "origin_top_10 = raw.select('Origin','Month').withColumnRenamed('Origin','iata')\\\n",
    "                                    .groupBy('iata','Month')\\\n",
    "                                    .count()\\\n",
    "                                    .join(iata_airport_pairs,'iata','inner')\\\n",
    "                                    .orderBy('count',ascending=False)\n",
    "origin_top_10.withColumnRenamed('iata','Origin')\n",
    "# origin_top_10.show()\n",
    "\n",
    "lat_min = origin_top_10.select(min(\"lat\")).collect()\n",
    "for i in lat_min:\n",
    "    lat_min = i[0]\n",
    "long_min = origin_top_10.select(min(\"long\")).collect()\n",
    "for i in long_min:\n",
    "    long_min = i[0]\n",
    "lat_max = origin_top_10.select(max(\"lat\")).collect()\n",
    "for i in lat_max:\n",
    "    lat_max = i[0]\n",
    "long_max = origin_top_10.select(max(\"long\")).collect()\n",
    "for i in long_max:\n",
    "    long_max = i[0]\n",
    "    \n",
    "def normalize_lat(a):\n",
    "    a = (a - lat_min) / (lat_max - lat_min)\n",
    "    if a<0:\n",
    "        return 0\n",
    "    elif a>=1:\n",
    "        return 1\n",
    "    return float(a)\n",
    "\n",
    "def normalize_long(a):\n",
    "    a = (a - long_min) / (long_max - long_min)\n",
    "    if a<0:\n",
    "        return 0\n",
    "    elif a>=1:\n",
    "        return 1\n",
    "    return float(a)\n",
    "\n",
    "\n",
    "calc_normalize_lat = F.udf(lambda features : normalize_lat(features))\n",
    "calc_normalize_long = F.udf(lambda features : normalize_long(features))\n",
    "\n",
    "normalized_data = origin_top_10.withColumn('lat',calc_normalize_lat('lat'))\n",
    "normalized_data = normalized_data.withColumn('long',calc_normalize_long('long'))\n",
    "origin_top_10 = normalized_data\n",
    "\n",
    "origin_top_10 = origin_top_10.withColumn(\"lat\",origin_top_10.lat.cast(FloatType()))\n",
    "origin_top_10 = origin_top_10.withColumn(\"long\",origin_top_10.long.cast(FloatType()))\n",
    "\n",
    "origin_top_10.show()\n",
    "\n"
   ]
  },
  {
   "cell_type": "code",
   "execution_count": null,
   "id": "c55ad2d0-8ea8-48b1-bcd1-d328d3543b0d",
   "metadata": {},
   "outputs": [],
   "source": [
    "# normalize xn = (x - min) / (max - min) 0:min 1:max"
   ]
  },
  {
   "cell_type": "code",
   "execution_count": 3,
   "id": "58e492d4-29c8-4b2e-89a2-00b2d1fcde4b",
   "metadata": {},
   "outputs": [],
   "source": [
    "# from pyspark.sql.functions import min,max,mean \n",
    "\n",
    "# lat_min = origin_top_10.select(min(\"lat\")).collect()\n",
    "# for i in lat_min:\n",
    "#     lat_min = i[0]\n",
    "# long_min = origin_top_10.select(min(\"long\")).collect()\n",
    "# for i in long_min:\n",
    "#     long_min = i[0]\n",
    "# lat_max = origin_top_10.select(max(\"lat\")).collect()\n",
    "# for i in lat_max:\n",
    "#     lat_max = i[0]\n",
    "# long_max = origin_top_10.select(max(\"long\")).collect()\n",
    "# for i in long_max:\n",
    "#     long_max = i[0]\n",
    "\n",
    "# # print(long_min)\n",
    "# # print(lat_max)\n",
    "# # print(long_max)\n",
    "\n"
   ]
  },
  {
   "cell_type": "code",
   "execution_count": 3,
   "id": "9456d8e8-a980-4e79-9124-70f4d807cbe9",
   "metadata": {},
   "outputs": [
    {
     "name": "stdout",
     "output_type": "stream",
     "text": [
      "7.367222\n",
      "-176.6460306\n",
      "71.2854475\n",
      "145.621384\n"
     ]
    }
   ],
   "source": [
    "print(lat_min)\n",
    "print(long_min)\n",
    "print(lat_max)\n",
    "print(long_max)\n"
   ]
  },
  {
   "cell_type": "code",
   "execution_count": 49,
   "id": "c76a0de4-c85c-4d12-bfaa-b3852033f965",
   "metadata": {},
   "outputs": [
    {
     "name": "stdout",
     "output_type": "stream",
     "text": [
      "+----+-----+------+--------------------+---------+------------+\n",
      "|iata|Month| count|             airport|      lat|        long|\n",
      "+----+-----+------+--------------------+---------+------------+\n",
      "| ORD|    3|556663|Chicago O'Hare In...|41.979595|-87.90446417|\n",
      "| ORD|   10|548480|Chicago O'Hare In...|41.979595|-87.90446417|\n",
      "| ORD|    1|546669|Chicago O'Hare In...|41.979595|-87.90446417|\n",
      "| ORD|    4|540226|Chicago O'Hare In...|41.979595|-87.90446417|\n",
      "| ORD|    8|536420|Chicago O'Hare In...|41.979595|-87.90446417|\n",
      "+----+-----+------+--------------------+---------+------------+\n",
      "only showing top 5 rows\n",
      "\n"
     ]
    }
   ],
   "source": [
    "origin_top_10.show(5)"
   ]
  },
  {
   "cell_type": "code",
   "execution_count": 5,
   "id": "ec84cf8d-ea25-4d4a-8c88-aeacef47bedf",
   "metadata": {},
   "outputs": [
    {
     "name": "stdout",
     "output_type": "stream",
     "text": [
      "+----+-----+------+--------------------+-------------------+-------------------+\n",
      "|iata|Month| count|             airport|                lat|               long|\n",
      "+----+-----+------+--------------------+-------------------+-------------------+\n",
      "| ORD|    3|556663|Chicago O'Hare In...| 0.5415102301299025|0.27536624061153214|\n",
      "| ORD|   10|548480|Chicago O'Hare In...| 0.5415102301299025|0.27536624061153214|\n",
      "| ORD|    1|546669|Chicago O'Hare In...| 0.5415102301299025|0.27536624061153214|\n",
      "| ORD|    4|540226|Chicago O'Hare In...| 0.5415102301299025|0.27536624061153214|\n",
      "| ORD|    8|536420|Chicago O'Hare In...| 0.5415102301299025|0.27536624061153214|\n",
      "| ORD|   12|534155|Chicago O'Hare In...| 0.5415102301299025|0.27536624061153214|\n",
      "| ORD|    7|531262|Chicago O'Hare In...| 0.5415102301299025|0.27536624061153214|\n",
      "| ORD|    5|525760|Chicago O'Hare In...| 0.5415102301299025|0.27536624061153214|\n",
      "| ORD|   11|518190|Chicago O'Hare In...| 0.5415102301299025|0.27536624061153214|\n",
      "| ORD|    6|516619|Chicago O'Hare In...| 0.5415102301299025|0.27536624061153214|\n",
      "| ATL|    3|514557|William B Hartsfi...|0.41104430284911464|0.28615702978988056|\n",
      "| ORD|    9|507630|Chicago O'Hare In...| 0.5415102301299025|0.27536624061153214|\n",
      "| ATL|    1|505035|William B Hartsfi...|0.41104430284911464|0.28615702978988056|\n",
      "| ATL|   10|504649|William B Hartsfi...|0.41104430284911464|0.28615702978988056|\n",
      "| ORD|    2|502996|Chicago O'Hare In...| 0.5415102301299025|0.27536624061153214|\n",
      "| ATL|   12|495894|William B Hartsfi...|0.41104430284911464|0.28615702978988056|\n",
      "| ATL|    4|491713|William B Hartsfi...|0.41104430284911464|0.28615702978988056|\n",
      "| ATL|    8|487253|William B Hartsfi...|0.41104430284911464|0.28615702978988056|\n",
      "| ATL|   11|481193|William B Hartsfi...|0.41104430284911464|0.28615702978988056|\n",
      "| ATL|    7|479405|William B Hartsfi...|0.41104430284911464|0.28615702978988056|\n",
      "+----+-----+------+--------------------+-------------------+-------------------+\n",
      "only showing top 20 rows\n",
      "\n"
     ]
    }
   ],
   "source": [
    "# import math\n",
    "# from pyspark.sql import functions as F\n",
    "# from pyspark.sql.types import FloatType\n",
    "# from pyspark.sql.functions import col\n",
    "\n",
    "\n",
    "# def normalize_lat(a):\n",
    "#     a = (a - lat_min) / (lat_max - lat_min)\n",
    "#     if a<0:\n",
    "#         return 0\n",
    "#     elif a>=1:\n",
    "#         return 1\n",
    "#     return float(a)\n",
    "\n",
    "# def normalize_long(a):\n",
    "#     a = (a - long_min) / (long_max - long_min)\n",
    "#     if a<0:\n",
    "#         return 0\n",
    "#     elif a>=1:\n",
    "#         return 1\n",
    "#     return float(a)\n",
    "\n",
    "\n",
    "# calc_normalize_lat = F.udf(lambda features : normalize_lat(features))\n",
    "# calc_normalize_long = F.udf(lambda features : normalize_long(features))\n",
    "\n",
    "# normalized_data = origin_top_10.withColumn('lat',calc_normalize_lat('lat'))\n",
    "# normalized_data = normalized_data.withColumn('long',calc_normalize_long('long'))\n",
    "# origin_top_10 = normalized_data\n",
    "# origin_top_10.show()"
   ]
  },
  {
   "cell_type": "code",
   "execution_count": 6,
   "id": "dceb0943-c7e4-4749-82eb-31c2e5e21922",
   "metadata": {},
   "outputs": [],
   "source": [
    "# from pyspark.sql.types import FloatType\n",
    "# from pyspark.sql.functions import col\n",
    "# origin_top_10 = origin_top_10.withColumn(\"lat\",origin_top_10.lat.cast(FloatType()))\n",
    "# origin_top_10 = origin_top_10.withColumn(\"long\",origin_top_10.long.cast(FloatType()))\n"
   ]
  },
  {
   "cell_type": "code",
   "execution_count": null,
   "id": "4df99e94-72a4-4a9b-a6c8-725184431e56",
   "metadata": {},
   "outputs": [],
   "source": []
  },
  {
   "cell_type": "code",
   "execution_count": 4,
   "id": "3cb58201-ebd2-4e61-a86b-31c5be347f37",
   "metadata": {},
   "outputs": [],
   "source": [
    "# PASS centroids, cluster_K, and the field name with features\n",
    "from pyspark.ml.linalg import Vectors\n",
    "import pyspark.sql.functions as F\n",
    "from pyspark.sql import functions as F\n",
    "from pyspark.sql import SparkSession, Row\n",
    "from scipy.spatial import distance\n",
    "\n",
    "import numpy as np\n",
    "\n",
    "def Add_Distance_To_Cluster_DF(passed_centroid_feature,cluster_NUMBER,Feature_Field_Name, CLUSTER_NUMBER):\n",
    "    if CLUSTER_NUMBER == None:\n",
    "        cluster_NUMBER_center = {int(i):[float(passed_centroid_feature[i][j]) for j in range(len(passed_centroid_feature[i]))] \n",
    "              for i in range(len(passed_centroid_feature))}\n",
    "        cluster_NUMBER_newDF_to_add = spark.sparkContext.parallelize([(k,)+(v,) for k,v in cluster_NUMBER_center.items()]).toDF(['prediction','center'])\n",
    "        cluster_NUMBER = cluster_NUMBER.withColumn('prediction',F.col('prediction'))\n",
    "        cluster_NUMBER = cluster_NUMBER.join(cluster_NUMBER_newDF_to_add,on='prediction',how='left')\n",
    "\n",
    "    elif CLUSTER_NUMBER != None:\n",
    "        cluster_NUMBER_center = {}\n",
    "        cluster_NUMBER_center[CLUSTER_NUMBER] =  [float(passed_centroid_feature[0][0]),float(passed_centroid_feature[0][1])]\n",
    "        cluster_NUMBER_newDF_to_add = spark.sparkContext.parallelize([(k,)+(v,) for k,v in \n",
    "        cluster_NUMBER_center.items()]).toDF(['prediction','center'])\n",
    "        cluster_NUMBER = cluster_NUMBER.withColumn('prediction',F.col('prediction'))\n",
    "        cluster_NUMBER = cluster_NUMBER.join(cluster_NUMBER_newDF_to_add,on='prediction',how='left')\n",
    "    \n",
    "    # ADDS DISTANCE\n",
    "    # get_dist = F.udf(lambda features, center : \n",
    "    #                  float(np.linalg.norm(features-center)))  \n",
    "    get_dist = F.udf(lambda features, center : \n",
    "                     float(features.squared_distance(center)))\n",
    "    \n",
    "    cluster_NUMBER = cluster_NUMBER.withColumn('distance',get_dist(F.col(Feature_Field_Name),F.col('center')))\n",
    "\n",
    "    return cluster_NUMBER\n",
    "\n",
    "# To get the value of the hi\n",
    "# Pass the iteration value here e.g \n",
    "# RETURN : returns just the value in array [1,1]\n",
    "def get_Highest_Value_cluster_K(cluster_0_first_iteration):\n",
    "    cluster_first_k_Value = cluster_0_first_iteration.orderBy(F.desc(\"distance\")).take(1)\n",
    "    spark = SparkSession.builder.getOrCreate()\n",
    "    cluster_first_k_Value_DF = spark.createDataFrame(cluster_first_k_Value)\n",
    "    # cluster_first_k_Value_DF.show()\n",
    "\n",
    "    # Get the cluster value that are nested\n",
    "    cluster_0_first_Value = cluster_first_k_Value[0][5]\n",
    "    # cluster_0_first_Value\n",
    "\n",
    "    # Converts features of max row into array so it can work with Add_Distance_To_Cluster_DF\n",
    "    cluster_first_k_Value_max =  np.array(cluster_first_k_Value_DF.select('busy_season_fly_out_of_features').collect())\n",
    "    cluster_first_k_Value_max = cluster_first_k_Value_max[0]\n",
    "\n",
    "    return cluster_first_k_Value_max\n",
    "\n",
    "# This creates a list of the row with max distance\n",
    "# Pass the iteration value here e.g \n",
    "# RETURN : returns complete row of the max value\n",
    "def get_row_of_highest_value_in_distance_k(cluster_0_first_iteration):\n",
    "    cluster_first_k_Value = cluster_0_first_iteration.orderBy(F.desc(\"distance\")).take(1)\n",
    "    spark = SparkSession.builder.getOrCreate()\n",
    "    cluster_first_k_Value_DF = spark.createDataFrame(cluster_first_k_Value)\n",
    "    return cluster_first_k_Value_DF"
   ]
  },
  {
   "cell_type": "code",
   "execution_count": null,
   "id": "06608c29-7748-456e-9f6c-d66e90c1d90e",
   "metadata": {},
   "outputs": [],
   "source": []
  },
  {
   "cell_type": "code",
   "execution_count": null,
   "id": "7e8a590d-1603-4f72-9146-d1c0bde8ba60",
   "metadata": {},
   "outputs": [],
   "source": []
  },
  {
   "cell_type": "code",
   "execution_count": null,
   "id": "e9f2a82d-7b24-49c4-b300-30ee815930a0",
   "metadata": {},
   "outputs": [],
   "source": []
  },
  {
   "cell_type": "code",
   "execution_count": 5,
   "id": "e9da6422-4500-4021-b5a0-27b9f330864e",
   "metadata": {},
   "outputs": [
    {
     "name": "stdout",
     "output_type": "stream",
     "text": [
      "+----+-----+------+--------------------+---------+----------+-------------------------------+\n",
      "|iata|Month| count|             airport|      lat|      long|busy_season_fly_out_of_features|\n",
      "+----+-----+------+--------------------+---------+----------+-------------------------------+\n",
      "| ORD|    3|556663|Chicago O'Hare In...|0.5415102|0.27536625|           [0.27536624670028...|\n",
      "| ORD|   10|548480|Chicago O'Hare In...|0.5415102|0.27536625|           [0.27536624670028...|\n",
      "| ORD|    1|546669|Chicago O'Hare In...|0.5415102|0.27536625|           [0.27536624670028...|\n",
      "| ORD|    4|540226|Chicago O'Hare In...|0.5415102|0.27536625|           [0.27536624670028...|\n",
      "| ORD|    8|536420|Chicago O'Hare In...|0.5415102|0.27536625|           [0.27536624670028...|\n",
      "| ORD|   12|534155|Chicago O'Hare In...|0.5415102|0.27536625|           [0.27536624670028...|\n",
      "| ORD|    7|531262|Chicago O'Hare In...|0.5415102|0.27536625|           [0.27536624670028...|\n",
      "| ORD|    5|525760|Chicago O'Hare In...|0.5415102|0.27536625|           [0.27536624670028...|\n",
      "| ORD|   11|518190|Chicago O'Hare In...|0.5415102|0.27536625|           [0.27536624670028...|\n",
      "| ORD|    6|516619|Chicago O'Hare In...|0.5415102|0.27536625|           [0.27536624670028...|\n",
      "| ATL|    3|514557|William B Hartsfi...|0.4110443|0.28615704|           [0.28615704178810...|\n",
      "| ORD|    9|507630|Chicago O'Hare In...|0.5415102|0.27536625|           [0.27536624670028...|\n",
      "| ATL|    1|505035|William B Hartsfi...|0.4110443|0.28615704|           [0.28615704178810...|\n",
      "| ATL|   10|504649|William B Hartsfi...|0.4110443|0.28615704|           [0.28615704178810...|\n",
      "| ORD|    2|502996|Chicago O'Hare In...|0.5415102|0.27536625|           [0.27536624670028...|\n",
      "| ATL|   12|495894|William B Hartsfi...|0.4110443|0.28615704|           [0.28615704178810...|\n",
      "| ATL|    4|491713|William B Hartsfi...|0.4110443|0.28615704|           [0.28615704178810...|\n",
      "| ATL|    8|487253|William B Hartsfi...|0.4110443|0.28615704|           [0.28615704178810...|\n",
      "| ATL|   11|481193|William B Hartsfi...|0.4110443|0.28615704|           [0.28615704178810...|\n",
      "| ATL|    7|479405|William B Hartsfi...|0.4110443|0.28615704|           [0.28615704178810...|\n",
      "+----+-----+------+--------------------+---------+----------+-------------------------------+\n",
      "only showing top 20 rows\n",
      "\n"
     ]
    }
   ],
   "source": [
    "from pyspark.ml.feature import VectorAssembler\n",
    "\n",
    "assemble = VectorAssembler(inputCols=[\n",
    "'long',\n",
    "'lat'],outputCol = 'busy_season_fly_out_of_features')\n",
    "\n",
    "busy_season_fly_out_of_data = assemble.transform(origin_top_10)\n",
    "busy_season_fly_out_of_data.show()"
   ]
  },
  {
   "cell_type": "code",
   "execution_count": null,
   "id": "b40a3d1e-8cbb-4063-98f1-7a21d0dd2c9d",
   "metadata": {},
   "outputs": [],
   "source": []
  },
  {
   "cell_type": "code",
   "execution_count": null,
   "id": "5f5f22b0-3a44-48f5-8ab2-03fe80bcf255",
   "metadata": {},
   "outputs": [],
   "source": []
  },
  {
   "cell_type": "code",
   "execution_count": null,
   "id": "6d20ebc4-19e4-4f1f-8ea3-1cc1c98601de",
   "metadata": {},
   "outputs": [],
   "source": []
  },
  {
   "cell_type": "code",
   "execution_count": null,
   "id": "c94d5da0-b0df-4071-95a2-fb643f1f4211",
   "metadata": {},
   "outputs": [],
   "source": []
  },
  {
   "cell_type": "code",
   "execution_count": null,
   "id": "d8fc1d98-abeb-4c18-ad5b-d04573444a73",
   "metadata": {},
   "outputs": [],
   "source": []
  },
  {
   "cell_type": "code",
   "execution_count": null,
   "id": "270ff35a-dcba-4993-b456-e6c35b8cba42",
   "metadata": {},
   "outputs": [],
   "source": []
  },
  {
   "cell_type": "markdown",
   "id": "1211579c-8fa6-446b-b87d-b36929b2320d",
   "metadata": {},
   "source": [
    "## Bisecting K Means and Silhoutte score"
   ]
  },
  {
   "cell_type": "code",
   "execution_count": 6,
   "id": "aae40927-b5ce-499f-8351-c3535f876199",
   "metadata": {},
   "outputs": [
    {
     "data": {
      "image/png": "[encoded data removed]",
      "text/plain": [
       "<Figure size 720x576 with 1 Axes>"
      ]
     },
     "metadata": {
      "needs_background": "light"
     },
     "output_type": "display_data"
    }
   ],
   "source": [
    "## Add Vector Assembler for silhouette score\n",
    "\n",
    "# from pyspark.ml.feature import VectorAssembler\n",
    "\n",
    "# assemble = VectorAssembler(inputCols=[\n",
    "# 'long',\n",
    "# 'lat'],outputCol = 'busy_season_fly_out_of_features')\n",
    "\n",
    "# busy_season_fly_out_of_data = assemble.transform(origin_top_10)\n",
    "# busy_season_fly_out_of_data.show()\n",
    "\n",
    "\n",
    "# Silhoute Score before CLustering - This takes 10 mins to execute\n",
    "\n",
    "from pyspark.ml.clustering import BisectingKMeans\n",
    "from pyspark.ml.evaluation import ClusteringEvaluator\n",
    "\n",
    "silhouette_scores=[]\n",
    "evaluator = ClusteringEvaluator(featuresCol='busy_season_fly_out_of_features', \\\n",
    "metricName='silhouette')\n",
    "for K in range(2,11):\n",
    "\n",
    "    BKMeans_=BisectingKMeans(featuresCol='busy_season_fly_out_of_features', k=K, minDivisibleClusterSize =1)\n",
    "\n",
    "    BKMeans_fit=BKMeans_.fit(busy_season_fly_out_of_data)\n",
    "\n",
    "    BKMeans_transform=BKMeans_fit.transform(busy_season_fly_out_of_data) \n",
    "\n",
    "    evaluation_score=evaluator.evaluate(BKMeans_transform)\n",
    "\n",
    "    silhouette_scores.append(evaluation_score)\n",
    "\n",
    "import matplotlib.pyplot as plt\n",
    "fig, ax = plt.subplots(1,1, figsize =(10,8))\n",
    "ax.plot(range(2,11),silhouette_scores)\n",
    "ax.set_xlabel('Number of Clusters')\n",
    "ax.set_ylabel('Silhouette Score')\n",
    "\n",
    "\n",
    "### BisectingKMeans/Hierarchical Clustering\n",
    "\n",
    "BKMeans_=BisectingKMeans(featuresCol='busy_season_fly_out_of_features', k=3) \n",
    "BKMeans_Model=BKMeans_.fit(busy_season_fly_out_of_data)\n",
    "BKMeans_transform=BKMeans_Model.transform(busy_season_fly_out_of_data)\n",
    "# BKMeans_transform.show()\n",
    "\n",
    "centroids = BKMeans_Model.clusterCenters()"
   ]
  },
  {
   "cell_type": "code",
   "execution_count": 7,
   "id": "0a3ba317-0c92-48cd-8103-773eeb695602",
   "metadata": {},
   "outputs": [
    {
     "data": {
      "text/plain": [
       "[array([0.26866277, 0.37380894]),\n",
       " array([0.25218789, 0.54701842]),\n",
       " array([0.07937965, 0.82922456])]"
      ]
     },
     "execution_count": 7,
     "metadata": {},
     "output_type": "execute_result"
    }
   ],
   "source": [
    "centroids"
   ]
  },
  {
   "cell_type": "markdown",
   "id": "bc452783-d819-4eaf-b885-c64a21be1c96",
   "metadata": {},
   "source": [
    "## Plot of clusters (X/Y axis are long and lat)\n",
    "### scatters on X axis are months (Jan = 0, Feb = 1 and so on)"
   ]
  },
  {
   "cell_type": "code",
   "execution_count": 8,
   "id": "197fc7ce-d34e-419e-8f1d-7ba071c962c1",
   "metadata": {},
   "outputs": [
    {
     "data": {
      "image/png": "[encoded data removed]",
      "text/plain": [
       "<Figure size 537.375x432 with 1 Axes>"
      ]
     },
     "metadata": {
      "needs_background": "light"
     },
     "output_type": "display_data"
    }
   ],
   "source": [
    "from pyspark.ml.feature import PCA as PCAml\n",
    "import pandas as pd\n",
    "import numpy as np\n",
    "import seaborn as sns\n",
    "import matplotlib.pyplot as plt\n",
    "\n",
    "pca1 = PCAml(k=2, inputCol=\"busy_season_fly_out_of_features\", outputCol=\"pca\")\n",
    "# pca_model = pca.fit(busy_season_fly_out_of_data)\n",
    "pca_model1 = pca1.fit(BKMeans_transform)\n",
    "\n",
    "pca_transformed1 = pca_model1.transform(busy_season_fly_out_of_data)\n",
    "\n",
    "X_pca1 = pca_transformed1.rdd.map(lambda row: row.pca).collect()\n",
    "X_pca1 = np.array(X_pca1)\n",
    "\n",
    "# Retrieve cluster assigned from the above clustering\n",
    "cluster_assignment1 = np.array(BKMeans_transform.rdd.map(lambda row: row.prediction).collect()).reshape(-1,1)\n",
    "\n",
    "\n",
    "# Plotting the data\n",
    "pca_data1 = np.hstack((X_pca1,cluster_assignment1))\n",
    "\n",
    "pca_df = pd.DataFrame(data=pca_data1, columns=(\"Month\", \"count\",\"cluster_assignment\"))\n",
    "sns.FacetGrid(pca_df,hue=\"cluster_assignment\", height=6).map(plt.scatter, \"Month\", \"count\").add_legend()\n",
    "plt.show()"
   ]
  },
  {
   "cell_type": "code",
   "execution_count": null,
   "id": "7c36e1f3-ace0-4abb-89fd-e6d32aa90989",
   "metadata": {},
   "outputs": [],
   "source": []
  },
  {
   "cell_type": "markdown",
   "id": "b49d1456-a70e-40f5-be19-424b7c079f79",
   "metadata": {},
   "source": [
    "### Processing clusters to get K representative points"
   ]
  },
  {
   "cell_type": "code",
   "execution_count": 8,
   "id": "a5f02327-c564-434a-81a2-10734d4309ae",
   "metadata": {},
   "outputs": [],
   "source": [
    "cluster_0 = BKMeans_transform.filter(BKMeans_transform.prediction==0)\n",
    "cluster_1 = BKMeans_transform.filter(BKMeans_transform.prediction==1)\n",
    "cluster_2 = BKMeans_transform.filter(BKMeans_transform.prediction==2)\n"
   ]
  },
  {
   "cell_type": "code",
   "execution_count": null,
   "id": "ad635c03-addb-488f-9ad8-2efba4c87eda",
   "metadata": {},
   "outputs": [],
   "source": []
  },
  {
   "cell_type": "code",
   "execution_count": 9,
   "id": "f586bbb0-c004-44e7-9d8f-f37ef0b79545",
   "metadata": {},
   "outputs": [
    {
     "name": "stdout",
     "output_type": "stream",
     "text": [
      "+----+-----+------+--------------------+----------+----------+-------------------------------+----------+\n",
      "|iata|Month| count|             airport|       lat|      long|busy_season_fly_out_of_features|prediction|\n",
      "+----+-----+------+--------------------+----------+----------+-------------------------------+----------+\n",
      "| ORD|    3|556663|Chicago O'Hare In...| 0.5415102|0.27536625|           [0.27536624670028...|         1|\n",
      "| ORD|   10|548480|Chicago O'Hare In...| 0.5415102|0.27536625|           [0.27536624670028...|         1|\n",
      "| ORD|    1|546669|Chicago O'Hare In...| 0.5415102|0.27536625|           [0.27536624670028...|         1|\n",
      "| ORD|    4|540226|Chicago O'Hare In...| 0.5415102|0.27536625|           [0.27536624670028...|         1|\n",
      "| ORD|    8|536420|Chicago O'Hare In...| 0.5415102|0.27536625|           [0.27536624670028...|         1|\n",
      "| ORD|   12|534155|Chicago O'Hare In...| 0.5415102|0.27536625|           [0.27536624670028...|         1|\n",
      "| ORD|    7|531262|Chicago O'Hare In...| 0.5415102|0.27536625|           [0.27536624670028...|         1|\n",
      "| ORD|    5|525760|Chicago O'Hare In...| 0.5415102|0.27536625|           [0.27536624670028...|         1|\n",
      "| ORD|   11|518190|Chicago O'Hare In...| 0.5415102|0.27536625|           [0.27536624670028...|         1|\n",
      "| ORD|    6|516619|Chicago O'Hare In...| 0.5415102|0.27536625|           [0.27536624670028...|         1|\n",
      "| ORD|    9|507630|Chicago O'Hare In...| 0.5415102|0.27536625|           [0.27536624670028...|         1|\n",
      "| ORD|    2|502996|Chicago O'Hare In...| 0.5415102|0.27536625|           [0.27536624670028...|         1|\n",
      "| DEN|    3|277825|         Denver Intl|0.50832427|0.22335187|           [0.22335186600685...|         1|\n",
      "| DEN|    8|273154|         Denver Intl|0.50832427|0.22335187|           [0.22335186600685...|         1|\n",
      "| DEN|   10|270548|         Denver Intl|0.50832427|0.22335187|           [0.22335186600685...|         1|\n",
      "| DEN|    7|270389|         Denver Intl|0.50832427|0.22335187|           [0.22335186600685...|         1|\n",
      "| DEN|    1|268743|         Denver Intl|0.50832427|0.22335187|           [0.22335186600685...|         1|\n",
      "| DEN|   12|266235|         Denver Intl|0.50832427|0.22335187|           [0.22335186600685...|         1|\n",
      "| DEN|    4|264697|         Denver Intl|0.50832427|0.22335187|           [0.22335186600685...|         1|\n",
      "| DEN|    6|258692|         Denver Intl|0.50832427|0.22335187|           [0.22335186600685...|         1|\n",
      "+----+-----+------+--------------------+----------+----------+-------------------------------+----------+\n",
      "only showing top 20 rows\n",
      "\n"
     ]
    }
   ],
   "source": [
    "BKMeans_transform.filter(BKMeans_transform.prediction==1).show()"
   ]
  },
  {
   "cell_type": "code",
   "execution_count": 10,
   "id": "704bdd67-5e26-4a01-a680-2b2ef4b93b6d",
   "metadata": {},
   "outputs": [
    {
     "name": "stdout",
     "output_type": "stream",
     "text": [
      "+----+-----+-----+--------------------+----------+----------+-------------------------------+----------+\n",
      "|iata|Month|count|             airport|       lat|      long|busy_season_fly_out_of_features|prediction|\n",
      "+----+-----+-----+--------------------+----------+----------+-------------------------------+----------+\n",
      "| ANC|    7|43063|Ted Stevens Ancho...|0.84181154|0.08269482|           [0.08269482105970...|         2|\n",
      "| ANC|    8|42652|Ted Stevens Ancho...|0.84181154|0.08269482|           [0.08269482105970...|         2|\n",
      "| ANC|    6|39378|Ted Stevens Ancho...|0.84181154|0.08269482|           [0.08269482105970...|         2|\n",
      "| ANC|    9|32663|Ted Stevens Ancho...|0.84181154|0.08269482|           [0.08269482105970...|         2|\n",
      "| ANC|    5|30678|Ted Stevens Ancho...|0.84181154|0.08269482|           [0.08269482105970...|         2|\n",
      "| ANC|   10|29464|Ted Stevens Ancho...|0.84181154|0.08269482|           [0.08269482105970...|         2|\n",
      "| ANC|    3|28269|Ted Stevens Ancho...|0.84181154|0.08269482|           [0.08269482105970...|         2|\n",
      "| ANC|    1|27943|Ted Stevens Ancho...|0.84181154|0.08269482|           [0.08269482105970...|         2|\n",
      "| ANC|   12|27939|Ted Stevens Ancho...|0.84181154|0.08269482|           [0.08269482105970...|         2|\n",
      "| ANC|    4|27718|Ted Stevens Ancho...|0.84181154|0.08269482|           [0.08269482105970...|         2|\n",
      "| ANC|   11|26564|Ted Stevens Ancho...|0.84181154|0.08269482|           [0.08269482105970...|         2|\n",
      "| ANC|    2|25190|Ted Stevens Ancho...|0.84181154|0.08269482|           [0.08269482105970...|         2|\n",
      "| JNU|    7|10547|Juneau International|0.79770267|  0.130543|           [0.13054299354553...|         2|\n",
      "| JNU|    8|10533|Juneau International|0.79770267|  0.130543|           [0.13054299354553...|         2|\n",
      "| FAI|    7| 9938|Fairbanks Interna...|0.89874923|0.08932445|           [0.08932445198297...|         2|\n",
      "| FAI|    8| 9910|Fairbanks Interna...|0.89874923|0.08932445|           [0.08932445198297...|         2|\n",
      "| JNU|    6| 9504|Juneau International|0.79770267|  0.130543|           [0.13054299354553...|         2|\n",
      "| FAI|    6| 9148|Fairbanks Interna...|0.89874923|0.08932445|           [0.08932445198297...|         2|\n",
      "| FAI|    9| 8099|Fairbanks Interna...|0.89874923|0.08932445|           [0.08932445198297...|         2|\n",
      "| FAI|    5| 7922|Fairbanks Interna...|0.89874923|0.08932445|           [0.08932445198297...|         2|\n",
      "+----+-----+-----+--------------------+----------+----------+-------------------------------+----------+\n",
      "only showing top 20 rows\n",
      "\n"
     ]
    }
   ],
   "source": [
    "cluster_2.show()"
   ]
  },
  {
   "cell_type": "code",
   "execution_count": null,
   "id": "bcd702e6-64e1-477f-a0ba-2472aa76b530",
   "metadata": {},
   "outputs": [],
   "source": []
  },
  {
   "cell_type": "code",
   "execution_count": null,
   "id": "2c5dfb5c-1b6c-43da-8491-b036b42c07a6",
   "metadata": {},
   "outputs": [],
   "source": []
  },
  {
   "cell_type": "code",
   "execution_count": null,
   "id": "fe70ab10-674f-4380-ae2f-104239a31aaa",
   "metadata": {},
   "outputs": [],
   "source": []
  },
  {
   "cell_type": "code",
   "execution_count": 11,
   "id": "82eb31c9-0b3b-4b1b-a1ea-ee85af195a23",
   "metadata": {},
   "outputs": [
    {
     "name": "stdout",
     "output_type": "stream",
     "text": [
      "{'features': [0.2369309186935425, 0.30990047454833985], 'prediction': 0}\n",
      "{'features': [0.21945302486419677, 0.41977004408836366], 'prediction': 0}\n",
      "{'features': [0.8, 0.31935389041900636], 'prediction': 0}\n",
      "{'features': [0.21585235595703126, 0.5748946309089661], 'prediction': 1}\n",
      "{'features': [0.23160192966461182, 0.6030476033687592], 'prediction': 1}\n",
      "{'features': [0.2066431999206543, 0.5156459331512451], 'prediction': 1}\n",
      "{'features': [0.06755640953779221, 0.8197641618549824], 'prediction': 2}\n",
      "{'features': [0.05513942241668701, 0.6685111045837402], 'prediction': 2}\n",
      "{'features': [0.07402558475732804, 0.8], 'prediction': 2}\n"
     ]
    }
   ],
   "source": [
    "# ## Add Vector Assembler for silhouette score\n",
    "\n",
    "# PASS centroids, cluster_K, and the field name with features\n",
    "from pyspark.ml.linalg import Vectors\n",
    "import pyspark.sql.functions as F\n",
    "from pyspark.sql import functions as F\n",
    "from pyspark.sql import SparkSession, Row\n",
    "import numpy as np\n",
    "\n",
    "##################################################\n",
    "##################################################\n",
    "#####\n",
    "##### Cluster 1\n",
    "#####\n",
    "##################################################\n",
    "##################################################\n",
    "\n",
    "################################################ FIRST ITERATION\n",
    "cluster_0_first_iteration = Add_Distance_To_Cluster_DF(centroids,cluster_0,'busy_season_fly_out_of_features', None)\n",
    "# cluster_0_first_iteration.show()\n",
    "\n",
    "\n",
    "cluster_0_first_k_Value = get_Highest_Value_cluster_K(cluster_0_first_iteration) # THIS JUST GETS THE MAX DIST VALUES THAT WILL BE USED AS CENTER FOR NEXT ITERATION\n",
    "# the value below will be stored in a list and used in processing dataset again\n",
    "cluster_0_first_k_Value_row = get_row_of_highest_value_in_distance_k(cluster_0_first_iteration)\n",
    "# cluster_first_k_Value_row\n",
    "\n",
    "\n",
    "\n",
    "################################################ SECOND ITERATION\n",
    "CENTER_FEATURE_POINTS_FOR_SECOND_ITERATION = cluster_0_first_k_Value\n",
    "CURRENT_CLUSTER_BEING_PROCESSED = cluster_0\n",
    "CLUSTER_K_BEING_PROCESSED = None # for 0 its None\n",
    "\n",
    "cluster_0_second_iteration = Add_Distance_To_Cluster_DF(CENTER_FEATURE_POINTS_FOR_SECOND_ITERATION,CURRENT_CLUSTER_BEING_PROCESSED,'busy_season_fly_out_of_features',CLUSTER_K_BEING_PROCESSED)\n",
    "# cluster_0_second_iteration.show()\n",
    "\n",
    "cluster_0_second_k_Value = get_Highest_Value_cluster_K(cluster_0_second_iteration) # THIS JUST GETS THE MAX DIST VALUES THAT WILL BE USED AS CENTER FOR NEXT ITERATION\n",
    "# the value below will be stored in a list and used in processing dataset again\n",
    "cluster_0_second_k_Value_row = get_row_of_highest_value_in_distance_k(cluster_0_second_iteration)\n",
    "#cluster_0_second_k_Value\n",
    "\n",
    "\n",
    "# For third iterations distance - lets just subtrack the max value of first and second iteration and use that as center\n",
    "\n",
    "# passed max values are nested array ->\n",
    "center_for_third= (abs(cluster_0_first_k_Value[0]-cluster_0_second_k_Value[0]))\n",
    "temp_val = cluster_0_second_k_Value.copy()\n",
    "a = center_for_third[0]\n",
    "b = center_for_third[1]\n",
    "temp_val[0][0] = a.copy()\n",
    "temp_val[0][1] = b.copy()\n",
    "temp_val\n",
    "center_for_third = temp_val.copy()\n",
    "center_for_third   ### <---- This value is used to find the third k\n",
    "\n",
    "\n",
    "################################################ THIRD ITERATION\n",
    "CENTER_FEATURE_POINTS_FOR_SECOND_ITERATION = center_for_third\n",
    "CURRENT_CLUSTER_BEING_PROCESSED = cluster_0\n",
    "CLUSTER_K_BEING_PROCESSED = None # for 0 its None\n",
    "\n",
    "cluster_0_third_iteration = Add_Distance_To_Cluster_DF(CENTER_FEATURE_POINTS_FOR_SECOND_ITERATION,CURRENT_CLUSTER_BEING_PROCESSED,'busy_season_fly_out_of_features',CLUSTER_K_BEING_PROCESSED)\n",
    "# cluster_0_third_iteration.show()\n",
    "# CENTER_FEATURE_POINTS_FOR_THIRD_ITERATION = center_for_third\n",
    "# cluster_0_third_iteration = Add_Distance_To_Cluster_DF(CENTER_FEATURE_POINTS_FOR_THIRD_ITERATION, cluster_0, 'busy_season_fly_out_of_features')\n",
    "# cluster_0_third_iteration.show()\n",
    "\n",
    "cluster_0_third_k_Value = get_Highest_Value_cluster_K(cluster_0_third_iteration) # THIS JUST GETS THE MAX DIST VALUES THAT WILL BE USED AS CENTER FOR NEXT ITERATION\n",
    "# the value below will be stored in a list and used in processing dataset again\n",
    "\n",
    "cluster_0_third_k_Value_row = get_row_of_highest_value_in_distance_k(cluster_0_third_iteration)\n",
    "cluster_0_third_k_Value\n",
    "\n",
    "\n",
    "##################################################\n",
    "##################################################\n",
    "#####\n",
    "##### Cluster 2\n",
    "#####\n",
    "##################################################\n",
    "##################################################\n",
    "\n",
    "################################### First Iteration\n",
    "# first iteration has the last param as None always\n",
    "cluster_1_first_iteration = Add_Distance_To_Cluster_DF(centroids,cluster_1,'busy_season_fly_out_of_features',None)\n",
    "# cluster_1_first_iteration.show()\n",
    "\n",
    "\n",
    "cluster_1_first_k_Value = get_Highest_Value_cluster_K(cluster_1_first_iteration) # THIS JUST GETS THE MAX DIST VALUES THAT WILL BE USED AS CENTER FOR NEXT ITERATION\n",
    "# the value below will be stored in a list and used in processing dataset again\n",
    "cluster_1_first_k_Value_row = get_row_of_highest_value_in_distance_k(cluster_1_first_iteration)\n",
    "# cluster_first_k_Value_row\n",
    "\n",
    "cluster_1_first_k_Value\n",
    "\n",
    "\n",
    "\n",
    "\n",
    "################################### Second Iteration\n",
    "CENTER_FEATURE_POINTS_FOR_SECOND_ITERATION = cluster_1_first_k_Value\n",
    "CURRENT_CLUSTER_BEING_PROCESSED = cluster_1\n",
    "CLUSTER_K_BEING_PROCESSED = 1 # for 0 its None\n",
    "\n",
    "cluster_1_second_iteration = Add_Distance_To_Cluster_DF(CENTER_FEATURE_POINTS_FOR_SECOND_ITERATION,CURRENT_CLUSTER_BEING_PROCESSED,'busy_season_fly_out_of_features',CLUSTER_K_BEING_PROCESSED)\n",
    "\n",
    "#cluster_1_second_iteration.show()\n",
    "\n",
    "# CENTER_FEATURE_POINTS_FOR_SECOND_ITERATION = cluster_1_first_k_Value\n",
    "# CURRENT_CLUSTER_BEING_PROCESSED = cluster_1\n",
    "# cluster_1_second_iteration = Add_Distance_To_Cluster_DF(CENTER_FEATURE_POINTS_FOR_SECOND_ITERATION,CURRENT_CLUSTER_BEING_PROCESSED,'busy_season_fly_out_of_features')\n",
    "# cluster_1_second_iteration.show()\n",
    "\n",
    "\n",
    "cluster_1_second_k_Value = get_Highest_Value_cluster_K(cluster_1_second_iteration) # THIS JUST GETS THE MAX DIST VALUES THAT WILL BE USED AS CENTER FOR NEXT ITERATION\n",
    "# the value below will be stored in a list and used in processing dataset again\n",
    "cluster_1_second_k_Value_row = get_row_of_highest_value_in_distance_k(cluster_1_second_iteration)\n",
    "cluster_1_second_k_Value\n",
    "\n",
    "\n",
    "# For third iterations distance - lets just subtrack the max value of first and second iteration and use that as center\n",
    "\n",
    "# passed max values are nested array ->\n",
    "cluster_1_center_value_for_third= (abs(cluster_1_first_k_Value[0]-cluster_1_second_k_Value[0]))\n",
    "temp_val = cluster_1_second_k_Value.copy()\n",
    "a = cluster_1_center_value_for_third[0]\n",
    "b = cluster_1_center_value_for_third[1]\n",
    "temp_val[0][0] = a.copy()\n",
    "temp_val[0][1] = b.copy()\n",
    "temp_val\n",
    "cluster_1_center_value_for_third = temp_val.copy()\n",
    "cluster_1_center_value_for_third   ### <---- This value is used to find the third k\n",
    "\n",
    "################################### Third Iteration\n",
    "CENTER_FEATURE_POINTS_FOR_SECOND_ITERATION = cluster_1_center_value_for_third\n",
    "CURRENT_CLUSTER_BEING_PROCESSED = cluster_1\n",
    "CLUSTER_K_BEING_PROCESSED = 1 # for 0 its None\n",
    "\n",
    "cluster_1_third_iteration = Add_Distance_To_Cluster_DF(CENTER_FEATURE_POINTS_FOR_SECOND_ITERATION,CURRENT_CLUSTER_BEING_PROCESSED,'busy_season_fly_out_of_features',CLUSTER_K_BEING_PROCESSED)\n",
    "\n",
    "#cluster_1_third_iteration.show()\n",
    "# cluster_1_third_iteration = Add_Distance_To_Cluster_DF(cluster_1_center_value_for_third,cluster_1,'busy_season_fly_out_of_features')\n",
    "# cluster_1_third_iteration.show()\n",
    "\n",
    "\n",
    "\n",
    "cluster_1_third_k_Value = get_Highest_Value_cluster_K(cluster_1_third_iteration) # THIS JUST GETS THE MAX DIST VALUES THAT WILL BE USED AS CENTER FOR NEXT ITERATION\n",
    "# the value below will be stored in a list and used in processing dataset again\n",
    "\n",
    "cluster_1_third_k_Value_row = get_row_of_highest_value_in_distance_k(cluster_1_third_iteration)\n",
    "cluster_1_third_k_Value\n",
    "\n",
    "\n",
    "\n",
    "# For third iterations distance - lets just subtrack the max value of first and second iteration and use that as center\n",
    "\n",
    "# passed max values are nested array ->\n",
    "cluster_1_center_value_for_fourth = (abs(cluster_1_first_k_Value[0]-cluster_1_second_k_Value[0]-cluster_1_third_k_Value[0]))\n",
    "temp_val = cluster_1_second_k_Value.copy()\n",
    "a = cluster_1_center_value_for_fourth[0]\n",
    "b = cluster_1_center_value_for_fourth[1]\n",
    "temp_val[0][0] = a.copy()\n",
    "temp_val[0][1] = b.copy()\n",
    "temp_val\n",
    "cluster_1_center_value_for_fourth = temp_val.copy()\n",
    "cluster_1_center_value_for_fourth   ### <---- This value is used to find the third k\n",
    "\n",
    "\n",
    "##################################################\n",
    "##################################################\n",
    "#####\n",
    "##### Cluster 3\n",
    "#####\n",
    "##################################################\n",
    "##################################################\n",
    "\n",
    "##################################### FIRST ITERATION\n",
    "\n",
    "# first iteration has the last param as None always\n",
    "cluster_2_first_iteration = Add_Distance_To_Cluster_DF(centroids,cluster_2,'busy_season_fly_out_of_features',None)\n",
    "# cluster_1_first_iteration.show()\n",
    "\n",
    "\n",
    "cluster_2_first_k_Value = get_Highest_Value_cluster_K(cluster_2_first_iteration) # THIS JUST GETS THE MAX DIST VALUES THAT WILL BE USED AS CENTER FOR NEXT ITERATION\n",
    "# the value below will be stored in a list and used in processing dataset again\n",
    "cluster_2_first_k_Value_row = get_row_of_highest_value_in_distance_k(cluster_2_first_iteration)\n",
    "# cluster_first_k_Value_row\n",
    "\n",
    "cluster_2_first_k_Value\n",
    "\n",
    "\n",
    "\n",
    "##################################### SECOND ITERATION\n",
    "\n",
    "CENTER_FEATURE_POINTS_FOR_SECOND_ITERATION = cluster_2_first_k_Value\n",
    "CURRENT_CLUSTER_BEING_PROCESSED = cluster_2\n",
    "CLUSTER_K_BEING_PROCESSED = 2 # for 0 its None\n",
    "\n",
    "cluster_2_second_iteration = Add_Distance_To_Cluster_DF(CENTER_FEATURE_POINTS_FOR_SECOND_ITERATION,CURRENT_CLUSTER_BEING_PROCESSED,'busy_season_fly_out_of_features',CLUSTER_K_BEING_PROCESSED)\n",
    "\n",
    "# cluster_2_second_iteration.show()\n",
    "\n",
    "\n",
    "\n",
    "cluster_2_second_k_Value = get_Highest_Value_cluster_K(cluster_2_second_iteration) # THIS JUST GETS THE MAX DIST VALUES THAT WILL BE USED AS CENTER FOR NEXT ITERATION\n",
    "# the value below will be stored in a list and used in processing dataset again\n",
    "cluster_2_second_k_Value_row = get_row_of_highest_value_in_distance_k(cluster_2_second_iteration)\n",
    "cluster_2_second_k_Value\n",
    "\n",
    "\n",
    "\n",
    "\n",
    "\n",
    "# For third iterations distance - lets just subtrack the max value of first and second iteration and use that as center\n",
    "\n",
    "# passed max values are nested array ->\n",
    "cluster_2_center_value_for_third= (abs(cluster_2_first_k_Value[0]-cluster_2_second_k_Value[0]))\n",
    "temp_val = cluster_2_first_k_Value.copy()\n",
    "a = cluster_2_center_value_for_third[0]\n",
    "b = cluster_2_center_value_for_third[1]\n",
    "temp_val[0][0] = a.copy()\n",
    "temp_val[0][1] = b.copy()\n",
    "temp_val\n",
    "cluster_2_center_value_for_third = temp_val.copy()\n",
    "cluster_2_center_value_for_third   ### <---- This value is used to find the third k\n",
    "\n",
    "\n",
    "\n",
    "##################################### THIRD ITERATION\n",
    "\n",
    "CENTER_FEATURE_POINTS_FOR_SECOND_ITERATION = cluster_2_center_value_for_third\n",
    "CURRENT_CLUSTER_BEING_PROCESSED = cluster_2\n",
    "CLUSTER_K_BEING_PROCESSED = 2 # for 0 its None\n",
    "\n",
    "cluster_2_third_iteration = Add_Distance_To_Cluster_DF(CENTER_FEATURE_POINTS_FOR_SECOND_ITERATION,CURRENT_CLUSTER_BEING_PROCESSED,'busy_season_fly_out_of_features',CLUSTER_K_BEING_PROCESSED)\n",
    "\n",
    "# cluster_2_third_iteration.show()\n",
    "\n",
    "\n",
    "\n",
    "\n",
    "cluster_2_third_k_Value = get_Highest_Value_cluster_K(cluster_2_third_iteration) # THIS JUST GETS THE MAX DIST VALUES THAT WILL BE USED AS CENTER FOR NEXT ITERATION\n",
    "# the value below will be stored in a list and used in processing dataset again\n",
    "\n",
    "cluster_2_third_k_Value_row = get_row_of_highest_value_in_distance_k(cluster_2_third_iteration)\n",
    "cluster_2_third_k_Value\n",
    "\n",
    "\n",
    "\n",
    "def move_fraction_closer_to_centroid(passed_cluster_k_value, passed_cluster, a , b):\n",
    "    temp_a = 0\n",
    "    temp_b = 0\n",
    "    if float(passed_cluster_k_value[0][0]) >=  float(passed_cluster[0]):\n",
    "        temp_a = passed_cluster_k_value[0][0] - a        \n",
    "    if float(passed_cluster_k_value[0][1]) >=  float(passed_cluster[1]):\n",
    "        temp_b = passed_cluster_k_value[0][1] - b\n",
    "    if float(passed_cluster_k_value[0][0]) <  float(passed_cluster[0]):\n",
    "        temp_a = passed_cluster_k_value[0][0] + a     \n",
    "    if float(passed_cluster_k_value[0][1]) <  float(passed_cluster[1]):\n",
    "        temp_b = passed_cluster_k_value[0][1] + a\n",
    "        \n",
    "    passed_cluster_k_value = [temp_a, temp_b]\n",
    "    return passed_cluster_k_value\n",
    "\n",
    "\n",
    "cluster_0_first_k_Value_temp = cluster_0_first_k_Value.copy()\n",
    "cluster_0_second_k_Value_temp = cluster_0_second_k_Value.copy()\n",
    "cluster_0_third_k_Value_temp = cluster_0_third_k_Value.copy()\n",
    "\n",
    "cluster_centroid = centroids[0]\n",
    "\n",
    "a = cluster_0_first_k_Value_temp[0][0] * 0.2\n",
    "b = cluster_0_first_k_Value_temp[0][1] * 0.2\n",
    "\n",
    "cluster_0_first_k_Value_temp = move_fraction_closer_to_centroid(cluster_0_first_k_Value_temp, cluster_centroid, a, b)\n",
    "cluster_0_first_k_Value = {}\n",
    "cluster_0_first_k_Value['features'] = cluster_0_first_k_Value_temp\n",
    "cluster_0_first_k_Value['prediction'] = 0\n",
    "\n",
    "\n",
    "a = cluster_0_second_k_Value_temp[0][0] * 0.2\n",
    "b = cluster_0_second_k_Value_temp[0][1] * 0.2\n",
    "cluster_0_second_k_Value_temp = move_fraction_closer_to_centroid(cluster_0_second_k_Value_temp, cluster_centroid, a, b)\n",
    "cluster_0_second_k_Value = {}\n",
    "cluster_0_second_k_Value['features'] = cluster_0_second_k_Value_temp\n",
    "cluster_0_second_k_Value['prediction'] = 0\n",
    "\n",
    "\n",
    "a = cluster_0_third_k_Value_temp[0][0] * 0.2\n",
    "b = cluster_0_third_k_Value_temp[0][1] * 0.2\n",
    "cluster_0_third_k_Value_temp = move_fraction_closer_to_centroid(cluster_0_third_k_Value_temp, cluster_centroid, a, b)\n",
    "cluster_0_third_k_Value = {}\n",
    "cluster_0_third_k_Value['features'] = cluster_0_third_k_Value_temp\n",
    "cluster_0_third_k_Value['prediction'] = 0\n",
    "\n",
    "\n",
    "cluster_1_first_k_Value_temp = cluster_1_first_k_Value.copy()\n",
    "cluster_1_second_k_Value_temp = cluster_1_second_k_Value.copy()\n",
    "cluster_1_third_k_Value_temp = cluster_1_third_k_Value.copy()\n",
    "\n",
    "cluster_centroid = centroids[1]\n",
    "\n",
    "\n",
    "a = cluster_1_first_k_Value_temp[0][0] * 0.2\n",
    "b = cluster_1_first_k_Value_temp[0][1] * 0.2\n",
    "cluster_1_first_k_Value_temp = move_fraction_closer_to_centroid(cluster_1_first_k_Value_temp, cluster_centroid, a, b)\n",
    "cluster_1_first_k_Value = {}\n",
    "cluster_1_first_k_Value['features'] = cluster_1_first_k_Value_temp\n",
    "cluster_1_first_k_Value['prediction'] = 1\n",
    "\n",
    "a = cluster_1_second_k_Value_temp[0][0] * 0.2\n",
    "b = cluster_1_second_k_Value_temp[0][1] * 0.2\n",
    "cluster_1_second_k_Value_temp = move_fraction_closer_to_centroid(cluster_1_second_k_Value_temp, cluster_centroid, a, b)\n",
    "cluster_1_second_k_Value = {}\n",
    "cluster_1_second_k_Value['features'] = cluster_1_second_k_Value_temp\n",
    "cluster_1_second_k_Value['prediction'] = 1\n",
    "\n",
    "a = cluster_1_third_k_Value_temp[0][0] * 0.2\n",
    "b = cluster_1_third_k_Value_temp[0][1] * 0.2\n",
    "cluster_1_third_k_Value_temp = move_fraction_closer_to_centroid(cluster_1_third_k_Value_temp, cluster_centroid, a, b)\n",
    "cluster_1_third_k_Value = {}\n",
    "cluster_1_third_k_Value['features'] = cluster_1_third_k_Value_temp\n",
    "cluster_1_third_k_Value['prediction'] = 1\n",
    "\n",
    "\n",
    "\n",
    "cluster_2_first_k_Value_temp = cluster_2_first_k_Value.copy()\n",
    "cluster_2_second_k_Value_temp = cluster_2_second_k_Value.copy()\n",
    "cluster_2_third_k_Value_temp = cluster_2_third_k_Value.copy()\n",
    "\n",
    "cluster_centroid = centroids[2]\n",
    "\n",
    "\n",
    "a = cluster_2_first_k_Value_temp[0][0] * 0.2\n",
    "b = cluster_2_first_k_Value_temp[0][1] * 0.2\n",
    "cluster_2_first_k_Value_temp = move_fraction_closer_to_centroid(cluster_2_first_k_Value_temp, cluster_centroid, a, b)\n",
    "cluster_2_first_k_Value = {}\n",
    "cluster_2_first_k_Value['features'] = cluster_2_first_k_Value_temp\n",
    "cluster_2_first_k_Value['prediction'] = 2\n",
    "\n",
    "a = cluster_2_second_k_Value_temp[0][0] * 0.2\n",
    "b = cluster_2_second_k_Value_temp[0][1] * 0.2\n",
    "cluster_2_second_k_Value_temp = move_fraction_closer_to_centroid(cluster_2_second_k_Value_temp, cluster_centroid, a, b)\n",
    "cluster_2_second_k_Value = {}\n",
    "cluster_2_second_k_Value['features'] = cluster_2_second_k_Value_temp\n",
    "cluster_2_second_k_Value['prediction'] = 2\n",
    "\n",
    "a = cluster_2_third_k_Value_temp[0][0] * 0.2\n",
    "b = cluster_2_third_k_Value_temp[0][1] * 0.2\n",
    "cluster_2_third_k_Value_temp = move_fraction_closer_to_centroid(cluster_2_third_k_Value_temp, cluster_centroid, a, b)\n",
    "cluster_2_third_k_Value = {}\n",
    "cluster_2_third_k_Value['features'] = cluster_2_third_k_Value_temp\n",
    "cluster_2_third_k_Value['prediction'] = 2\n",
    "\n",
    "\n",
    "comparison = [cluster_0_first_k_Value,\n",
    "cluster_0_second_k_Value,\n",
    "cluster_0_third_k_Value,\n",
    "cluster_1_first_k_Value,\n",
    "cluster_1_second_k_Value,\n",
    "cluster_1_third_k_Value,\n",
    "cluster_2_first_k_Value,\n",
    "cluster_2_second_k_Value,\n",
    "cluster_2_third_k_Value]\n",
    "\n",
    "\n",
    "for i in comparison:\n",
    "    print(i)\n",
    "\n"
   ]
  },
  {
   "cell_type": "code",
   "execution_count": null,
   "id": "758c0714-684a-4b99-9084-3d8360ded641",
   "metadata": {},
   "outputs": [],
   "source": []
  },
  {
   "cell_type": "code",
   "execution_count": null,
   "id": "1c37bbc8-c216-4d77-b88c-ef17e082f5be",
   "metadata": {},
   "outputs": [],
   "source": []
  },
  {
   "cell_type": "markdown",
   "id": "a9b0271e-2a91-4afd-9f55-5bf55cf7790d",
   "metadata": {},
   "source": [
    "## PASS 2 OF CURE ALGORITHM\n",
    "### RESCAN WHOLE DATASET AND COMPARE EACH POINT WITH REPRESENTATIVE POINTS\n",
    "### CLOSEST POINT CAN BE TAGGED AS CLUSTER K"
   ]
  },
  {
   "cell_type": "code",
   "execution_count": null,
   "id": "55973b4e-6271-41c3-b594-5a19431d91bf",
   "metadata": {},
   "outputs": [],
   "source": [
    "\n",
    "## FOR EACH DATA POINT do this:\n",
    "### given the lat and long - use those x and y in squared distance with each x and y from comparison variable\n",
    "# calculate the distance for each value in comparison\n",
    "# then select the smallest distance\n",
    "# add prediction of that smallest to column prediction\n"
   ]
  },
  {
   "cell_type": "code",
   "execution_count": 12,
   "id": "c4e0f4fd-1eb6-45c5-8798-203b3aa41900",
   "metadata": {},
   "outputs": [
    {
     "name": "stdout",
     "output_type": "stream",
     "text": [
      "+-----+----+------+--------------------+-----------+------------+--------------+\n",
      "|Month|iata| count|             airport|        lat|        long|total_DepDelay|\n",
      "+-----+----+------+--------------------+-----------+------------+--------------+\n",
      "|    3| ORD|556663|Chicago O'Hare In...|  41.979595|-87.90446417|     6812098.0|\n",
      "|   10| ORD|548480|Chicago O'Hare In...|  41.979595|-87.90446417|     4287455.0|\n",
      "|    1| ORD|546669|Chicago O'Hare In...|  41.979595|-87.90446417|     7620616.0|\n",
      "|    4| ORD|540226|Chicago O'Hare In...|  41.979595|-87.90446417|     5320774.0|\n",
      "|    8| ORD|536420|Chicago O'Hare In...|  41.979595|-87.90446417|     6514646.0|\n",
      "|   12| ORD|534155|Chicago O'Hare In...|  41.979595|-87.90446417|     7926294.0|\n",
      "|    7| ORD|531262|Chicago O'Hare In...|  41.979595|-87.90446417|     7010633.0|\n",
      "|    5| ORD|525760|Chicago O'Hare In...|  41.979595|-87.90446417|     5428647.0|\n",
      "|   11| ORD|518190|Chicago O'Hare In...|  41.979595|-87.90446417|     4861470.0|\n",
      "|    6| ORD|516619|Chicago O'Hare In...|  41.979595|-87.90446417|     6866518.0|\n",
      "|    3| ATL|514557|William B Hartsfi...|33.64044444|-84.42694444|     5457609.0|\n",
      "|    9| ORD|507630|Chicago O'Hare In...|  41.979595|-87.90446417|     3726091.0|\n",
      "|    1| ATL|505035|William B Hartsfi...|33.64044444|-84.42694444|     5390240.0|\n",
      "|   10| ATL|504649|William B Hartsfi...|33.64044444|-84.42694444|     4066436.0|\n",
      "|    2| ORD|502996|Chicago O'Hare In...|  41.979595|-87.90446417|     5872081.0|\n",
      "|   12| ATL|495894|William B Hartsfi...|33.64044444|-84.42694444|     6012209.0|\n",
      "|    4| ATL|491713|William B Hartsfi...|33.64044444|-84.42694444|     4276152.0|\n",
      "|    8| ATL|487253|William B Hartsfi...|33.64044444|-84.42694444|     5680847.0|\n",
      "|   11| ATL|481193|William B Hartsfi...|33.64044444|-84.42694444|     4122753.0|\n",
      "|    7| ATL|479405|William B Hartsfi...|33.64044444|-84.42694444|     6381854.0|\n",
      "+-----+----+------+--------------------+-----------+------------+--------------+\n",
      "only showing top 20 rows\n",
      "\n"
     ]
    }
   ],
   "source": [
    "# simply counting records for origin airport (doesnt matter if these flights were cancelled or not, its about intent)\n",
    "\n",
    "# need to read in metadata for airport names\n",
    "airport_metadata = spark.read.options(inferSchema=True,header=True).csv('airplane_raw/metadata/airports.csv')\n",
    "iata_airport_pairs = airport_metadata.select('iata', 'airport','lat', 'long')\n",
    "\n",
    "pass_2_data_origin_top_10 = raw.select('Origin','Month', 'DepDelay').withColumnRenamed('Origin','iata').groupBy('iata','Month').count().orderBy('count',ascending=False).join(iata_airport_pairs,'iata','inner')\n",
    "df_only_month_depdelay = raw.select('Origin','Month','DepDelay').withColumnRenamed('Origin','iata').groupBy('iata','Month').agg(F.sum('DepDelay').alias(\"total_DepDelay\"))\n",
    "\n",
    "pass_2_data_origin_top_10 = pass_2_data_origin_top_10.join(df_only_month_depdelay, [\"Month\", 'iata']).orderBy('count',ascending=False)\n",
    "\n",
    "\n",
    "pass_2_data_origin_top_10.show(20)\n",
    "\n",
    "\n",
    "\n",
    "# lat|long|closest_distance|prediction"
   ]
  },
  {
   "cell_type": "code",
   "execution_count": 13,
   "id": "d5fc434c-8c02-4f1d-9bdb-0e6471b878be",
   "metadata": {},
   "outputs": [
    {
     "name": "stdout",
     "output_type": "stream",
     "text": [
      "+-----+----+------+--------------------+---------+----------+--------------+\n",
      "|Month|iata| count|             airport|      lat|      long|total_DepDelay|\n",
      "+-----+----+------+--------------------+---------+----------+--------------+\n",
      "|    3| ORD|556663|Chicago O'Hare In...|0.5415102|0.27536625|    0.27536625|\n",
      "|   10| ORD|548480|Chicago O'Hare In...|0.5415102|0.27536625|    0.27536625|\n",
      "|    1| ORD|546669|Chicago O'Hare In...|0.5415102|0.27536625|    0.27536625|\n",
      "|    4| ORD|540226|Chicago O'Hare In...|0.5415102|0.27536625|    0.27536625|\n",
      "|    8| ORD|536420|Chicago O'Hare In...|0.5415102|0.27536625|    0.27536625|\n",
      "|   12| ORD|534155|Chicago O'Hare In...|0.5415102|0.27536625|    0.27536625|\n",
      "|    7| ORD|531262|Chicago O'Hare In...|0.5415102|0.27536625|    0.27536625|\n",
      "|    5| ORD|525760|Chicago O'Hare In...|0.5415102|0.27536625|    0.27536625|\n",
      "|   11| ORD|518190|Chicago O'Hare In...|0.5415102|0.27536625|    0.27536625|\n",
      "|    6| ORD|516619|Chicago O'Hare In...|0.5415102|0.27536625|    0.27536625|\n",
      "|    3| ATL|514557|William B Hartsfi...|0.4110443|0.28615704|    0.28615704|\n",
      "|    9| ORD|507630|Chicago O'Hare In...|0.5415102|0.27536625|    0.27536625|\n",
      "|    1| ATL|505035|William B Hartsfi...|0.4110443|0.28615704|    0.28615704|\n",
      "|   10| ATL|504649|William B Hartsfi...|0.4110443|0.28615704|    0.28615704|\n",
      "|    2| ORD|502996|Chicago O'Hare In...|0.5415102|0.27536625|    0.27536625|\n",
      "|   12| ATL|495894|William B Hartsfi...|0.4110443|0.28615704|    0.28615704|\n",
      "|    4| ATL|491713|William B Hartsfi...|0.4110443|0.28615704|    0.28615704|\n",
      "|    8| ATL|487253|William B Hartsfi...|0.4110443|0.28615704|    0.28615704|\n",
      "|   11| ATL|481193|William B Hartsfi...|0.4110443|0.28615704|    0.28615704|\n",
      "|    7| ATL|479405|William B Hartsfi...|0.4110443|0.28615704|    0.28615704|\n",
      "+-----+----+------+--------------------+---------+----------+--------------+\n",
      "only showing top 20 rows\n",
      "\n"
     ]
    }
   ],
   "source": [
    "lat_min = pass_2_data_origin_top_10.select(min(\"lat\")).collect()\n",
    "for i in lat_min:\n",
    "    lat_min = i[0]\n",
    "long_min = pass_2_data_origin_top_10.select(min(\"long\")).collect()\n",
    "for i in long_min:\n",
    "    long_min = i[0]\n",
    "lat_max = pass_2_data_origin_top_10.select(max(\"lat\")).collect()\n",
    "for i in lat_max:\n",
    "    lat_max = i[0]\n",
    "long_max = pass_2_data_origin_top_10.select(max(\"long\")).collect()\n",
    "for i in long_max:\n",
    "    long_max = i[0]\n",
    "\n",
    "min_total_DepDelay = pass_2_data_origin_top_10.select(min(\"total_DepDelay\")).collect()\n",
    "for i in min_total_DepDelay:\n",
    "    min_total_DepDelay = i[0]    \n",
    "max_total_DepDelay = pass_2_data_origin_top_10.select(max(\"total_DepDelay\")).collect()\n",
    "for i in max_total_DepDelay:\n",
    "    max_total_DepDelay = i[0]       \n",
    "    \n",
    "def normalize_delay(a):\n",
    "    a = (a - min_total_DepDelay) / (max_total_DepDelay - min_total_DepDelay)\n",
    "    if a<0:\n",
    "        return 0\n",
    "    elif a>=1:\n",
    "        return 1\n",
    "    return float(a)\n",
    "\n",
    "\n",
    "calc_normalize_lat = F.udf(lambda features : normalize_lat(features))\n",
    "calc_normalize_long = F.udf(lambda features : normalize_long(features))\n",
    "calc_normalize_delay = F.udf(lambda features : normalize_delay(features))\n",
    "\n",
    "normalized_data = pass_2_data_origin_top_10.withColumn('lat',calc_normalize_lat('lat'))\n",
    "normalized_data = normalized_data.withColumn('long',calc_normalize_long('long'))\n",
    "normalized_data = normalized_data.withColumn('total_DepDelay',calc_normalize_delay('total_DepDelay'))\n",
    "pass_2_data_origin_top_10 = normalized_data\n",
    "\n",
    "pass_2_data_origin_top_10 = pass_2_data_origin_top_10.withColumn(\"lat\",pass_2_data_origin_top_10.lat.cast(FloatType()))\n",
    "pass_2_data_origin_top_10 = pass_2_data_origin_top_10.withColumn(\"long\",pass_2_data_origin_top_10.long.cast(FloatType()))\n",
    "pass_2_data_origin_top_10 = pass_2_data_origin_top_10.withColumn(\"total_DepDelay\",pass_2_data_origin_top_10.long.cast(FloatType()))\n",
    "\n",
    "\n",
    "pass_2_data_origin_top_10.show()"
   ]
  },
  {
   "cell_type": "code",
   "execution_count": 14,
   "id": "52869494-c4f2-4b2a-aff5-538994f0b5c8",
   "metadata": {},
   "outputs": [
    {
     "name": "stdout",
     "output_type": "stream",
     "text": [
      "+-----+----+------+--------------------+---------+----------+--------------+--------------------+\n",
      "|Month|iata| count|             airport|      lat|      long|total_DepDelay|            features|\n",
      "+-----+----+------+--------------------+---------+----------+--------------+--------------------+\n",
      "|    3| ORD|556663|Chicago O'Hare In...|0.5415102|0.27536625|    0.27536625|[0.27536624670028...|\n",
      "|   10| ORD|548480|Chicago O'Hare In...|0.5415102|0.27536625|    0.27536625|[0.27536624670028...|\n",
      "|    1| ORD|546669|Chicago O'Hare In...|0.5415102|0.27536625|    0.27536625|[0.27536624670028...|\n",
      "|    4| ORD|540226|Chicago O'Hare In...|0.5415102|0.27536625|    0.27536625|[0.27536624670028...|\n",
      "|    8| ORD|536420|Chicago O'Hare In...|0.5415102|0.27536625|    0.27536625|[0.27536624670028...|\n",
      "|   12| ORD|534155|Chicago O'Hare In...|0.5415102|0.27536625|    0.27536625|[0.27536624670028...|\n",
      "|    7| ORD|531262|Chicago O'Hare In...|0.5415102|0.27536625|    0.27536625|[0.27536624670028...|\n",
      "|    5| ORD|525760|Chicago O'Hare In...|0.5415102|0.27536625|    0.27536625|[0.27536624670028...|\n",
      "|   11| ORD|518190|Chicago O'Hare In...|0.5415102|0.27536625|    0.27536625|[0.27536624670028...|\n",
      "|    6| ORD|516619|Chicago O'Hare In...|0.5415102|0.27536625|    0.27536625|[0.27536624670028...|\n",
      "|    3| ATL|514557|William B Hartsfi...|0.4110443|0.28615704|    0.28615704|[0.28615704178810...|\n",
      "|    9| ORD|507630|Chicago O'Hare In...|0.5415102|0.27536625|    0.27536625|[0.27536624670028...|\n",
      "|    1| ATL|505035|William B Hartsfi...|0.4110443|0.28615704|    0.28615704|[0.28615704178810...|\n",
      "|   10| ATL|504649|William B Hartsfi...|0.4110443|0.28615704|    0.28615704|[0.28615704178810...|\n",
      "|    2| ORD|502996|Chicago O'Hare In...|0.5415102|0.27536625|    0.27536625|[0.27536624670028...|\n",
      "|   12| ATL|495894|William B Hartsfi...|0.4110443|0.28615704|    0.28615704|[0.28615704178810...|\n",
      "|    4| ATL|491713|William B Hartsfi...|0.4110443|0.28615704|    0.28615704|[0.28615704178810...|\n",
      "|    8| ATL|487253|William B Hartsfi...|0.4110443|0.28615704|    0.28615704|[0.28615704178810...|\n",
      "|   11| ATL|481193|William B Hartsfi...|0.4110443|0.28615704|    0.28615704|[0.28615704178810...|\n",
      "|    7| ATL|479405|William B Hartsfi...|0.4110443|0.28615704|    0.28615704|[0.28615704178810...|\n",
      "+-----+----+------+--------------------+---------+----------+--------------+--------------------+\n",
      "only showing top 20 rows\n",
      "\n"
     ]
    }
   ],
   "source": [
    "assemble = VectorAssembler(inputCols=[\n",
    "'long',\n",
    "'lat'],outputCol = 'features')\n",
    "\n",
    "pass_2_data_features = assemble.transform(pass_2_data_origin_top_10)\n",
    "pass_2_data_features.show()"
   ]
  },
  {
   "cell_type": "code",
   "execution_count": 59,
   "id": "b28ab75d-c107-4748-9cb8-9698c9128fc2",
   "metadata": {},
   "outputs": [],
   "source": [
    "# import math\n",
    "# x = [-76.10631056,43.11118694]\n",
    "# ggg = None\n",
    "# for i in comparison:\n",
    "#     # temp = float(x.squared_distance(i['features']))\n",
    "#     temp = int( math.sqrt( (i['features'][0] - x[0])**2 + ((i['features'][1] - x[1])**2  ) ))\n",
    "#     print(' ')\n",
    "#     print('value: ' + str(temp))\n",
    "#     if ggg == None:\n",
    "#         ggg = temp\n",
    "#         prediction = i['prediction']\n",
    "#     elif temp < ggg:\n",
    "#         ggg = temp\n",
    "#         prediction = i['prediction']\n",
    "#     print(\"dist \" + str(ggg))\n",
    "#     print(\"temp \" + str(temp))\n",
    "# print(ggg)"
   ]
  },
  {
   "cell_type": "code",
   "execution_count": 15,
   "id": "6f9cbe82-b1e6-45d8-89b1-89d7df3a5a08",
   "metadata": {},
   "outputs": [
    {
     "name": "stdout",
     "output_type": "stream",
     "text": [
      "+-----+----+------+--------------------+---------+----------+--------------+--------------------+----------+\n",
      "|Month|iata| count|             airport|      lat|      long|total_DepDelay|            features|prediction|\n",
      "+-----+----+------+--------------------+---------+----------+--------------+--------------------+----------+\n",
      "|    3| ORD|556663|Chicago O'Hare In...|0.5415102|0.27536625|    0.27536625|[0.27536624670028...|         1|\n",
      "|   10| ORD|548480|Chicago O'Hare In...|0.5415102|0.27536625|    0.27536625|[0.27536624670028...|         1|\n",
      "|    1| ORD|546669|Chicago O'Hare In...|0.5415102|0.27536625|    0.27536625|[0.27536624670028...|         1|\n",
      "|    4| ORD|540226|Chicago O'Hare In...|0.5415102|0.27536625|    0.27536625|[0.27536624670028...|         1|\n",
      "|    8| ORD|536420|Chicago O'Hare In...|0.5415102|0.27536625|    0.27536625|[0.27536624670028...|         1|\n",
      "|   12| ORD|534155|Chicago O'Hare In...|0.5415102|0.27536625|    0.27536625|[0.27536624670028...|         1|\n",
      "|    7| ORD|531262|Chicago O'Hare In...|0.5415102|0.27536625|    0.27536625|[0.27536624670028...|         1|\n",
      "|    5| ORD|525760|Chicago O'Hare In...|0.5415102|0.27536625|    0.27536625|[0.27536624670028...|         1|\n",
      "|   11| ORD|518190|Chicago O'Hare In...|0.5415102|0.27536625|    0.27536625|[0.27536624670028...|         1|\n",
      "|    6| ORD|516619|Chicago O'Hare In...|0.5415102|0.27536625|    0.27536625|[0.27536624670028...|         1|\n",
      "|    3| ATL|514557|William B Hartsfi...|0.4110443|0.28615704|    0.28615704|[0.28615704178810...|         0|\n",
      "|    9| ORD|507630|Chicago O'Hare In...|0.5415102|0.27536625|    0.27536625|[0.27536624670028...|         1|\n",
      "|    1| ATL|505035|William B Hartsfi...|0.4110443|0.28615704|    0.28615704|[0.28615704178810...|         0|\n",
      "|   10| ATL|504649|William B Hartsfi...|0.4110443|0.28615704|    0.28615704|[0.28615704178810...|         0|\n",
      "|    2| ORD|502996|Chicago O'Hare In...|0.5415102|0.27536625|    0.27536625|[0.27536624670028...|         1|\n",
      "|   12| ATL|495894|William B Hartsfi...|0.4110443|0.28615704|    0.28615704|[0.28615704178810...|         0|\n",
      "|    4| ATL|491713|William B Hartsfi...|0.4110443|0.28615704|    0.28615704|[0.28615704178810...|         0|\n",
      "|    8| ATL|487253|William B Hartsfi...|0.4110443|0.28615704|    0.28615704|[0.28615704178810...|         0|\n",
      "|   11| ATL|481193|William B Hartsfi...|0.4110443|0.28615704|    0.28615704|[0.28615704178810...|         0|\n",
      "|    7| ATL|479405|William B Hartsfi...|0.4110443|0.28615704|    0.28615704|[0.28615704178810...|         0|\n",
      "+-----+----+------+--------------------+---------+----------+--------------+--------------------+----------+\n",
      "only showing top 20 rows\n",
      "\n"
     ]
    }
   ],
   "source": [
    "import math\n",
    "\n",
    "def check_distance(x):\n",
    "    dist = None\n",
    "    prediction = None\n",
    "    for i in comparison:\n",
    "        temp = float(x.squared_distance(i['features']))\n",
    "        #temp = int( math.sqrt( (i['features'][0] - x[0])**2 + ((i['features'][1] - x[1])**2  ) ))\n",
    "        if dist == None:\n",
    "            dist = temp\n",
    "            prediction = i['prediction']\n",
    "        elif temp < dist:\n",
    "            dist = temp\n",
    "            prediction = i['prediction']\n",
    "    return prediction\n",
    "\n",
    "calc_smallest_distance = F.udf(lambda features : check_distance(features))\n",
    "pass_2_data_features = pass_2_data_features.withColumn('prediction',calc_smallest_distance('features'))\n",
    "pass_2_data_features.show()\n"
   ]
  },
  {
   "cell_type": "code",
   "execution_count": 16,
   "id": "ca9264f8-e657-40c9-b08b-cb34df2454fe",
   "metadata": {},
   "outputs": [],
   "source": [
    "cluster000 = pass_2_data_features.filter(pass_2_data_features.prediction==0)\n",
    "cluster111 = pass_2_data_features.filter(pass_2_data_features.prediction==1)\n",
    "cluster222 = pass_2_data_features.filter(pass_2_data_features.prediction==2)\n"
   ]
  },
  {
   "cell_type": "markdown",
   "id": "750d5c6f-2c23-4a00-88a0-47062e8ce46f",
   "metadata": {},
   "source": [
    "## Cluster 0 with highest count"
   ]
  },
  {
   "cell_type": "code",
   "execution_count": 12,
   "id": "0d29e5f3-b538-479d-9a33-6cd74d26c78b",
   "metadata": {},
   "outputs": [],
   "source": [
    "# aaaa = pass_2_data_features.groupBy('iata','Month','prediction')\\\n",
    "#                                     .count()\\\n",
    "#                                     .orderBy('count',ascending=False)\n",
    "# aaaa.show()"
   ]
  },
  {
   "cell_type": "code",
   "execution_count": 17,
   "id": "13ea92b6-f85a-4cde-a6f1-9e0c0bc5d3bf",
   "metadata": {},
   "outputs": [
    {
     "name": "stdout",
     "output_type": "stream",
     "text": [
      "+-----+----+------+--------------------+----------+----------+--------------+--------------------+----------+\n",
      "|Month|iata| count|             airport|       lat|      long|total_DepDelay|            features|prediction|\n",
      "+-----+----+------+--------------------+----------+----------+--------------+--------------------+----------+\n",
      "|    3| ATL|514557|William B Hartsfi...| 0.4110443|0.28615704|    0.28615704|[0.28615704178810...|         0|\n",
      "|    1| ATL|505035|William B Hartsfi...| 0.4110443|0.28615704|    0.28615704|[0.28615704178810...|         0|\n",
      "|   10| ATL|504649|William B Hartsfi...| 0.4110443|0.28615704|    0.28615704|[0.28615704178810...|         0|\n",
      "|   12| ATL|495894|William B Hartsfi...| 0.4110443|0.28615704|    0.28615704|[0.28615704178810...|         0|\n",
      "|    4| ATL|491713|William B Hartsfi...| 0.4110443|0.28615704|    0.28615704|[0.28615704178810...|         0|\n",
      "|    8| ATL|487253|William B Hartsfi...| 0.4110443|0.28615704|    0.28615704|[0.28615704178810...|         0|\n",
      "|   11| ATL|481193|William B Hartsfi...| 0.4110443|0.28615704|    0.28615704|[0.28615704178810...|         0|\n",
      "|    7| ATL|479405|William B Hartsfi...| 0.4110443|0.28615704|    0.28615704|[0.28615704178810...|         0|\n",
      "|    1| DFW|478239|Dallas-Fort Worth...|0.39939672|0.24702725|    0.24702725|[0.24702724814414...|         0|\n",
      "|    3| DFW|477682|Dallas-Fort Worth...|0.39939672|0.24702725|    0.24702725|[0.24702724814414...|         0|\n",
      "|   10| DFW|475427|Dallas-Fort Worth...|0.39939672|0.24702725|    0.24702725|[0.24702724814414...|         0|\n",
      "|    5| ATL|470616|William B Hartsfi...| 0.4110443|0.28615704|    0.28615704|[0.28615704178810...|         0|\n",
      "|   12| DFW|467000|Dallas-Fort Worth...|0.39939672|0.24702725|    0.24702725|[0.24702724814414...|         0|\n",
      "|    2| ATL|466278|William B Hartsfi...| 0.4110443|0.28615704|    0.28615704|[0.28615704178810...|         0|\n",
      "|    8| DFW|466038|Dallas-Fort Worth...|0.39939672|0.24702725|    0.24702725|[0.24702724814414...|         0|\n",
      "|    4| DFW|465179|Dallas-Fort Worth...|0.39939672|0.24702725|    0.24702725|[0.24702724814414...|         0|\n",
      "|    6| ATL|464896|William B Hartsfi...| 0.4110443|0.28615704|    0.28615704|[0.28615704178810...|         0|\n",
      "|    7| DFW|462631|Dallas-Fort Worth...|0.39939672|0.24702725|    0.24702725|[0.24702724814414...|         0|\n",
      "|    9| ATL|461965|William B Hartsfi...| 0.4110443|0.28615704|    0.28615704|[0.28615704178810...|         0|\n",
      "|    5| DFW|454407|Dallas-Fort Worth...|0.39939672|0.24702725|    0.24702725|[0.24702724814414...|         0|\n",
      "+-----+----+------+--------------------+----------+----------+--------------+--------------------+----------+\n",
      "only showing top 20 rows\n",
      "\n"
     ]
    }
   ],
   "source": [
    "cluster2_dataframe = pass_2_data_features.filter(pass_2_data_features.prediction==0)\n",
    "cluster2_dataframe.sort('count',ascending=False).show()"
   ]
  },
  {
   "cell_type": "code",
   "execution_count": 18,
   "id": "d5f159e3-2094-46ce-8409-b032056ca858",
   "metadata": {},
   "outputs": [
    {
     "name": "stdout",
     "output_type": "stream",
     "text": [
      "+-----+----+------+--------------------+----------+----------+--------------+--------------------+----------+\n",
      "|Month|iata| count|             airport|       lat|      long|total_DepDelay|            features|prediction|\n",
      "+-----+----+------+--------------------+----------+----------+--------------+--------------------+----------+\n",
      "|    3| ATL|514557|William B Hartsfi...| 0.4110443|0.28615704|    0.28615704|[0.28615704178810...|         0|\n",
      "|    1| DFW|478239|Dallas-Fort Worth...|0.39939672|0.24702725|    0.24702725|[0.24702724814414...|         0|\n",
      "|    3| LAX|340462|Los Angeles Inter...|0.41577053|0.18071313|    0.18071313|[0.18071313202381...|         0|\n",
      "|    3| PHX|298900|Phoenix Sky Harbo...| 0.4078171|0.20057248|    0.20057248|[0.20057247579097...|         0|\n",
      "|    3| IAH|245418|George Bush Inter...|0.35378408|0.25229454|    0.25229454|[0.25229454040527...|         0|\n",
      "|    3| LAS|221057|McCarran Internat...|0.44921678|0.19081575|    0.19081575|[0.19081574678421...|         0|\n",
      "|    3| CLT|213614|Charlotte/Douglas...|0.43566275|0.29696736|    0.29696736|[0.29696735739707...|         0|\n",
      "|    3| MCO|172061|Orlando Internati...|0.32950956|0.29581025|    0.29581025|[0.29581025242805...|         0|\n",
      "|    3| SAN|127969|San Diego Interna...|0.39685604| 0.1844939|     0.1844939|[0.18449389934539...|         0|\n",
      "|    3| MIA|127305| Miami International|0.28827503| 0.2989923|     0.2989923|[0.29899230599403...|         0|\n",
      "|    3| TPA|118443|Tampa International |0.32241586| 0.2920332|     0.2920332|[0.29203319549560...|         0|\n",
      "|    3| MEM|103127|Memphis Internati...|0.43297815|0.26893616|    0.26893616|[0.26893615722656...|         0|\n",
      "|   10| HOU|102710|     William P Hobby|0.34854215| 0.2524833|     0.2524833|[0.25248330831527...|         0|\n",
      "|   10| BNA| 99647|Nashville Interna...|0.44990698| 0.2791714|     0.2791714|[0.27917140722274...|         0|\n",
      "|    3| FLL| 95771|Fort Lauderdale-H...| 0.2926452| 0.2994199|     0.2994199|[0.29941990971565...|         0|\n",
      "|   10| RDU| 88466|Raleigh-Durham In...| 0.4460452| 0.3036564|     0.3036564|[0.30365639925003...|         0|\n",
      "|    3| MSY| 81744|New Orleans Inter...|0.35398614| 0.2680631|     0.2680631|[0.26806309819221...|         0|\n",
      "|    3| DAL| 80564|        Dallas Love |0.39863265|0.24760263|    0.24760263|[0.24760262668132...|         0|\n",
      "|   10| SNA| 69182|John Wayne /Orang...|0.41159523| 0.1823883|     0.1823883|[0.18238830566406...|         0|\n",
      "|   10| SAT| 68148|San Antonio Inter...|0.34679425|0.24258193|    0.24258193|[0.24258193373680...|         0|\n",
      "+-----+----+------+--------------------+----------+----------+--------------+--------------------+----------+\n",
      "only showing top 20 rows\n",
      "\n"
     ]
    }
   ],
   "source": [
    "from pyspark.sql import functions as f\n",
    "\n",
    "# cluster2_dataframe = pass_2_data_features.filter(pass_2_data_features.prediction==0)\n",
    "# cluster2_dataframe.groupBy('iata','Month','count').agg(F.max('count')).sort('count',ascending=False).show()\n",
    "\n",
    "from pyspark.sql import Window\n",
    "w = Window.partitionBy('iata')\n",
    "cluster2_dataframe.withColumn('countB', f.max('count').over(w))\\\n",
    "    .where(f.col('count') == f.col('countB'))\\\n",
    "    .drop('countB').filter(pass_2_data_features.prediction==0).sort('count',ascending=False).show()"
   ]
  },
  {
   "cell_type": "markdown",
   "id": "4a488ca7-82d0-43b5-853e-7f06318ff8b1",
   "metadata": {},
   "source": [
    "## Highest delay in cluster 0"
   ]
  },
  {
   "cell_type": "code",
   "execution_count": 19,
   "id": "d95f206b-9a2c-457f-8f02-d4886c46a382",
   "metadata": {},
   "outputs": [
    {
     "name": "stdout",
     "output_type": "stream",
     "text": [
      "+-----+----+-----+--------------------+----------+--------+--------------+--------------------+----------+\n",
      "|Month|iata|count|             airport|       lat|    long|total_DepDelay|            features|prediction|\n",
      "+-----+----+-----+--------------------+----------+--------+--------------+--------------------+----------+\n",
      "|    1| SPN|  948|Tinian Internatio...|0.11935389|     1.0|           1.0|[1.0,0.1193538904...|         0|\n",
      "|    3| SPN|  950|Tinian Internatio...|0.11935389|     1.0|           1.0|[1.0,0.1193538904...|         0|\n",
      "|    7| SPN|  756|Tinian Internatio...|0.11935389|     1.0|           1.0|[1.0,0.1193538904...|         0|\n",
      "|    5| SPN|  752|Tinian Internatio...|0.11935389|     1.0|           1.0|[1.0,0.1193538904...|         0|\n",
      "|   10| SPN|  909|Tinian Internatio...|0.11935389|     1.0|           1.0|[1.0,0.1193538904...|         0|\n",
      "|    2| SPN|  885|Tinian Internatio...|0.11935389|     1.0|           1.0|[1.0,0.1193538904...|         0|\n",
      "|    6| SPN|  736|Tinian Internatio...|0.11935389|     1.0|           1.0|[1.0,0.1193538904...|         0|\n",
      "|   11| SPN|  879|Tinian Internatio...|0.11935389|     1.0|           1.0|[1.0,0.1193538904...|         0|\n",
      "|   12| SPN|  945|Tinian Internatio...|0.11935389|     1.0|           1.0|[1.0,0.1193538904...|         0|\n",
      "|    8| SPN|  762|Tinian Internatio...|0.11935389|     1.0|           1.0|[1.0,0.1193538904...|         0|\n",
      "|    9| SPN|  756|Tinian Internatio...|0.11935389|     1.0|           1.0|[1.0,0.1193538904...|         0|\n",
      "|    4| SPN|  919|Tinian Internatio...|0.11935389|     1.0|           1.0|[1.0,0.1193538904...|         0|\n",
      "|    5| YAP|   72|   Yap International|0.03362856|0.976661|      0.976661|[0.97666102647781...|         0|\n",
      "|   12| YAP|   65|   Yap International|0.03362856|0.976661|      0.976661|[0.97666102647781...|         0|\n",
      "|    4| YAP|   71|   Yap International|0.03362856|0.976661|      0.976661|[0.97666102647781...|         0|\n",
      "|    1| YAP|   63|   Yap International|0.03362856|0.976661|      0.976661|[0.97666102647781...|         0|\n",
      "|    2| YAP|   58|   Yap International|0.03362856|0.976661|      0.976661|[0.97666102647781...|         0|\n",
      "|    3| YAP|   65|   Yap International|0.03362856|0.976661|      0.976661|[0.97666102647781...|         0|\n",
      "|   11| YAP|   63|   Yap International|0.03362856|0.976661|      0.976661|[0.97666102647781...|         0|\n",
      "|    8| YAP|   52|   Yap International|0.03362856|0.976661|      0.976661|[0.97666102647781...|         0|\n",
      "+-----+----+-----+--------------------+----------+--------+--------------+--------------------+----------+\n",
      "only showing top 20 rows\n",
      "\n"
     ]
    }
   ],
   "source": [
    "from pyspark.sql import functions as f\n",
    "\n",
    "# cluster2_dataframe = pass_2_data_features.filter(pass_2_data_features.prediction==0)\n",
    "# cluster2_dataframe.groupBy('iata','Month','count').agg(F.max('count')).sort('count',ascending=False).show()\n",
    "\n",
    "cluster2_dataframe.orderBy('total_DepDelay',ascending=False).show()"
   ]
  },
  {
   "cell_type": "code",
   "execution_count": 20,
   "id": "7dc589ac-fde9-41e7-9007-411236fc9d3f",
   "metadata": {},
   "outputs": [
    {
     "name": "stdout",
     "output_type": "stream",
     "text": [
      "+-----+----+-----+--------------------+----------+--------+--------------+--------------------+----------+\n",
      "|Month|iata|count|             airport|       lat|    long|total_DepDelay|            features|prediction|\n",
      "+-----+----+-----+--------------------+----------+--------+--------------+--------------------+----------+\n",
      "|   12| SPN|  945|Tinian Internatio...|0.11935389|     1.0|           1.0|[1.0,0.1193538904...|         0|\n",
      "|    1| SPN|  948|Tinian Internatio...|0.11935389|     1.0|           1.0|[1.0,0.1193538904...|         0|\n",
      "|    5| SPN|  752|Tinian Internatio...|0.11935389|     1.0|           1.0|[1.0,0.1193538904...|         0|\n",
      "|    6| SPN|  736|Tinian Internatio...|0.11935389|     1.0|           1.0|[1.0,0.1193538904...|         0|\n",
      "|    2| SPN|  885|Tinian Internatio...|0.11935389|     1.0|           1.0|[1.0,0.1193538904...|         0|\n",
      "|   11| SPN|  879|Tinian Internatio...|0.11935389|     1.0|           1.0|[1.0,0.1193538904...|         0|\n",
      "|    3| SPN|  950|Tinian Internatio...|0.11935389|     1.0|           1.0|[1.0,0.1193538904...|         0|\n",
      "|    8| SPN|  762|Tinian Internatio...|0.11935389|     1.0|           1.0|[1.0,0.1193538904...|         0|\n",
      "|    4| SPN|  919|Tinian Internatio...|0.11935389|     1.0|           1.0|[1.0,0.1193538904...|         0|\n",
      "|    9| SPN|  756|Tinian Internatio...|0.11935389|     1.0|           1.0|[1.0,0.1193538904...|         0|\n",
      "|    7| SPN|  756|Tinian Internatio...|0.11935389|     1.0|           1.0|[1.0,0.1193538904...|         0|\n",
      "|   10| SPN|  909|Tinian Internatio...|0.11935389|     1.0|           1.0|[1.0,0.1193538904...|         0|\n",
      "|    8| YAP|   52|   Yap International|0.03362856|0.976661|      0.976661|[0.97666102647781...|         0|\n",
      "|    3| YAP|   65|   Yap International|0.03362856|0.976661|      0.976661|[0.97666102647781...|         0|\n",
      "|    5| YAP|   72|   Yap International|0.03362856|0.976661|      0.976661|[0.97666102647781...|         0|\n",
      "|   12| YAP|   65|   Yap International|0.03362856|0.976661|      0.976661|[0.97666102647781...|         0|\n",
      "|   10| YAP|   62|   Yap International|0.03362856|0.976661|      0.976661|[0.97666102647781...|         0|\n",
      "|    4| YAP|   71|   Yap International|0.03362856|0.976661|      0.976661|[0.97666102647781...|         0|\n",
      "|    1| YAP|   63|   Yap International|0.03362856|0.976661|      0.976661|[0.97666102647781...|         0|\n",
      "|    2| YAP|   58|   Yap International|0.03362856|0.976661|      0.976661|[0.97666102647781...|         0|\n",
      "+-----+----+-----+--------------------+----------+--------+--------------+--------------------+----------+\n",
      "only showing top 20 rows\n",
      "\n"
     ]
    }
   ],
   "source": [
    "from pyspark.sql import functions as f\n",
    "\n",
    "# cluster2_dataframe = pass_2_data_features.filter(pass_2_data_features.prediction==0)\n",
    "# cluster2_dataframe.groupBy('iata','Month','count').agg(F.max('count')).sort('count',ascending=False).show()\n",
    "\n",
    "from pyspark.sql import Window\n",
    "w = Window.partitionBy('iata')\n",
    "cluster2_dataframe.withColumn('total_DepDelayB', f.max('total_DepDelay').over(w))\\\n",
    "    .where(f.col('total_DepDelay') == f.col('total_DepDelayB'))\\\n",
    "    .drop('total_DepDelayB').filter(pass_2_data_features.prediction==0).sort('total_DepDelay',ascending=False).show()"
   ]
  },
  {
   "cell_type": "code",
   "execution_count": null,
   "id": "70d75d9f-4b51-4217-9cfd-870aefbdc467",
   "metadata": {},
   "outputs": [],
   "source": []
  },
  {
   "cell_type": "code",
   "execution_count": null,
   "id": "a827e66a-cded-4f4f-86e6-aa19c86d2ab5",
   "metadata": {},
   "outputs": [],
   "source": []
  },
  {
   "cell_type": "markdown",
   "id": "1cef45be-fc15-4f1f-ac3d-17fff1be269a",
   "metadata": {},
   "source": [
    "## Cluster 1 with highest count"
   ]
  },
  {
   "cell_type": "code",
   "execution_count": 19,
   "id": "470ceb7f-04f9-4d26-903c-9d8f7160a572",
   "metadata": {},
   "outputs": [],
   "source": [
    " # aaaa.filter(aaaa.prediction==1).show()"
   ]
  },
  {
   "cell_type": "code",
   "execution_count": 21,
   "id": "a610ddc8-8f1f-4691-8c35-b215715ad358",
   "metadata": {},
   "outputs": [
    {
     "name": "stdout",
     "output_type": "stream",
     "text": [
      "+-----+----+------+--------------------+----------+----------+--------------+--------------------+----------+\n",
      "|Month|iata| count|             airport|       lat|      long|total_DepDelay|            features|prediction|\n",
      "+-----+----+------+--------------------+----------+----------+--------------+--------------------+----------+\n",
      "|    3| ORD|556663|Chicago O'Hare In...| 0.5415102|0.27536625|    0.27536625|[0.27536624670028...|         1|\n",
      "|   10| ORD|548480|Chicago O'Hare In...| 0.5415102|0.27536625|    0.27536625|[0.27536624670028...|         1|\n",
      "|    1| ORD|546669|Chicago O'Hare In...| 0.5415102|0.27536625|    0.27536625|[0.27536624670028...|         1|\n",
      "|    4| ORD|540226|Chicago O'Hare In...| 0.5415102|0.27536625|    0.27536625|[0.27536624670028...|         1|\n",
      "|    8| ORD|536420|Chicago O'Hare In...| 0.5415102|0.27536625|    0.27536625|[0.27536624670028...|         1|\n",
      "|   12| ORD|534155|Chicago O'Hare In...| 0.5415102|0.27536625|    0.27536625|[0.27536624670028...|         1|\n",
      "|    7| ORD|531262|Chicago O'Hare In...| 0.5415102|0.27536625|    0.27536625|[0.27536624670028...|         1|\n",
      "|    5| ORD|525760|Chicago O'Hare In...| 0.5415102|0.27536625|    0.27536625|[0.27536624670028...|         1|\n",
      "|   11| ORD|518190|Chicago O'Hare In...| 0.5415102|0.27536625|    0.27536625|[0.27536624670028...|         1|\n",
      "|    6| ORD|516619|Chicago O'Hare In...| 0.5415102|0.27536625|    0.27536625|[0.27536624670028...|         1|\n",
      "|    9| ORD|507630|Chicago O'Hare In...| 0.5415102|0.27536625|    0.27536625|[0.27536624670028...|         1|\n",
      "|    2| ORD|502996|Chicago O'Hare In...| 0.5415102|0.27536625|    0.27536625|[0.27536624670028...|         1|\n",
      "|    3| DEN|277825|         Denver Intl|0.50832427|0.22335187|    0.22335187|[0.22335186600685...|         1|\n",
      "|    8| DEN|273154|         Denver Intl|0.50832427|0.22335187|    0.22335187|[0.22335186600685...|         1|\n",
      "|   10| DEN|270548|         Denver Intl|0.50832427|0.22335187|    0.22335187|[0.22335186600685...|         1|\n",
      "|    7| DEN|270389|         Denver Intl|0.50832427|0.22335187|    0.22335187|[0.22335186600685...|         1|\n",
      "|    1| DEN|268743|         Denver Intl|0.50832427|0.22335187|    0.22335187|[0.22335186600685...|         1|\n",
      "|   12| DEN|266235|         Denver Intl|0.50832427|0.22335187|    0.22335187|[0.22335186600685...|         1|\n",
      "|    4| DEN|264697|         Denver Intl|0.50832427|0.22335187|    0.22335187|[0.22335186600685...|         1|\n",
      "|    6| DEN|258692|         Denver Intl|0.50832427|0.22335187|    0.22335187|[0.22335186600685...|         1|\n",
      "+-----+----+------+--------------------+----------+----------+--------------+--------------------+----------+\n",
      "only showing top 20 rows\n",
      "\n"
     ]
    }
   ],
   "source": [
    "cluster2_dataframe = pass_2_data_features.filter(pass_2_data_features.prediction==1)\n",
    "cluster2_dataframe.sort('count',ascending=False).show()"
   ]
  },
  {
   "cell_type": "code",
   "execution_count": 22,
   "id": "fbbc3294-4490-411c-bbad-c1f68537b487",
   "metadata": {},
   "outputs": [
    {
     "name": "stdout",
     "output_type": "stream",
     "text": [
      "+-----+----+------+--------------------+----------+----------+--------------+--------------------+----------+\n",
      "|Month|iata| count|             airport|       lat|      long|total_DepDelay|            features|prediction|\n",
      "+-----+----+------+--------------------+----------+----------+--------------+--------------------+----------+\n",
      "|    3| ORD|556663|Chicago O'Hare In...| 0.5415102|0.27536625|    0.27536625|[0.27536624670028...|         1|\n",
      "|    3| DEN|277825|         Denver Intl|0.50832427|0.22335187|    0.22335187|[0.22335186600685...|         1|\n",
      "|    3| DTW|252369|Detroit Metropoli...| 0.5451471| 0.2895024|     0.2895024|[0.28950241208076...|         1|\n",
      "|   10| STL|236391|Lambert-St Louis ...|0.49094707|0.26774672|    0.26774672|[0.26774671673774...|         1|\n",
      "|    8| MSP|232536|Minneapolis-St Pa...| 0.5868956| 0.2588816|     0.2588816|[0.25888159871101...|         1|\n",
      "|    3| EWR|231291|         Newark Intl|0.52137357| 0.3179886|     0.3179886|[0.31798860430717...|         1|\n",
      "|   10| SFO|230002|San Francisco Int...| 0.4732888| 0.1684042|     0.1684042|[0.16840420663356...|         1|\n",
      "|    3| LGA|196227|           LaGuardia| 0.5226995|0.31890726|    0.31890726|[0.31890726089477...|         1|\n",
      "|    3| BOS|194749|Gen Edw L Logan Intl| 0.5475297|0.32780495|    0.32780495|[0.32780495285987...|         1|\n",
      "|    3| PHL|182679|   Philadelphia Intl|0.50853616| 0.3146607|     0.3146607|[0.31466069817543...|         1|\n",
      "|   10| PIT|177953|Pittsburgh Intern...| 0.5182285| 0.2991713|     0.2991713|[0.29917129874229...|         1|\n",
      "|    8| SEA|177046| Seattle-Tacoma Intl| 0.6270787|0.16860755|    0.16860755|[0.16860754787921...|         1|\n",
      "|    3| SLC|170700| Salt Lake City Intl| 0.5228738|0.20066644|    0.20066644|[0.20066644251346...|         1|\n",
      "|    3| CVG|164925|Cincinnati Northe...| 0.4956164|0.28542712|    0.28542712|[0.28542712330818...|         1|\n",
      "|    3| DCA|156037|Ronald Reagan Was...|0.49258035|0.30908588|    0.30908588|[0.30908587574958...|         1|\n",
      "|    3| BWI|143752|Baltimore-Washing...|0.49763864|0.31023252|    0.31023252|[0.31023252010345...|         1|\n",
      "|    3| CLE|122306|Cleveland-Hopkins...| 0.5326129|0.29415518|    0.29415518|[0.29415518045425...|         1|\n",
      "|   10| IAD|113872|Washington Dulles...| 0.4940267|0.30778855|    0.30778855|[0.30778855085372...|         1|\n",
      "|    3| JFK|110593| John F Kennedy Intl| 0.5205484|0.31919798|    0.31919798|[0.31919798254966...|         1|\n",
      "|   10| MCI| 99110|Kansas City Inter...|0.49955052|0.25423646|    0.25423646|[0.25423645973205...|         1|\n",
      "+-----+----+------+--------------------+----------+----------+--------------+--------------------+----------+\n",
      "only showing top 20 rows\n",
      "\n"
     ]
    }
   ],
   "source": [
    "from pyspark.sql import Window\n",
    "w = Window.partitionBy('iata')\n",
    "cluster2_dataframe.withColumn('countB', f.max('count').over(w))\\\n",
    "    .where(f.col('count') == f.col('countB'))\\\n",
    "    .drop('countB').filter(pass_2_data_features.prediction==1).sort('count',ascending=False).show()"
   ]
  },
  {
   "cell_type": "markdown",
   "id": "d1a1d7df-6696-4e44-a06b-06b0282879b4",
   "metadata": {},
   "source": [
    "## Highest delay in Cluster 1"
   ]
  },
  {
   "cell_type": "code",
   "execution_count": 23,
   "id": "a207f83f-a7f9-479f-a81b-ce7589ffe2a9",
   "metadata": {},
   "outputs": [
    {
     "name": "stdout",
     "output_type": "stream",
     "text": [
      "+-----+----+-----+--------------------+----------+----------+--------------+--------------------+----------+\n",
      "|Month|iata|count|             airport|       lat|      long|total_DepDelay|            features|prediction|\n",
      "+-----+----+-----+--------------------+----------+----------+--------------+--------------------+----------+\n",
      "|    7| BGR| 5128|Bangor International| 0.5857519|0.33456033|    0.33456033|[0.33456033468246...|         1|\n",
      "|    8| BGR| 5149|Bangor International| 0.5857519|0.33456033|    0.33456033|[0.33456033468246...|         1|\n",
      "|   12| BGR| 3869|Bangor International| 0.5857519|0.33456033|    0.33456033|[0.33456033468246...|         1|\n",
      "|   11| BGR| 3855|Bangor International| 0.5857519|0.33456033|    0.33456033|[0.33456033468246...|         1|\n",
      "|    1| BGR| 4473|Bangor International| 0.5857519|0.33456033|    0.33456033|[0.33456033468246...|         1|\n",
      "|    3| BGR| 4468|Bangor International| 0.5857519|0.33456033|    0.33456033|[0.33456033468246...|         1|\n",
      "|    2| BGR| 4099|Bangor International| 0.5857519|0.33456033|    0.33456033|[0.33456033468246...|         1|\n",
      "|    9| BGR| 4426|Bangor International| 0.5857519|0.33456033|    0.33456033|[0.33456033468246...|         1|\n",
      "|   10| BGR| 4515|Bangor International| 0.5857519|0.33456033|    0.33456033|[0.33456033468246...|         1|\n",
      "|    4| BGR| 4367|Bangor International| 0.5857519|0.33456033|    0.33456033|[0.33456033468246...|         1|\n",
      "|    5| BGR| 4224|Bangor International| 0.5857519|0.33456033|    0.33456033|[0.33456033468246...|         1|\n",
      "|    6| BGR| 4502|Bangor International| 0.5857519|0.33456033|    0.33456033|[0.33456033468246...|         1|\n",
      "|    7| ACK|  513|  Nantucket Memorial| 0.5301435| 0.3307373|     0.3307373|[0.33073729276657...|         1|\n",
      "|    8| ACK|  522|  Nantucket Memorial| 0.5301435| 0.3307373|     0.3307373|[0.33073729276657...|         1|\n",
      "|    6| ACK|  216|  Nantucket Memorial| 0.5301435| 0.3307373|     0.3307373|[0.33073729276657...|         1|\n",
      "|    9| ACK|   96|  Nantucket Memorial| 0.5301435| 0.3307373|     0.3307373|[0.33073729276657...|         1|\n",
      "|    5| ACK|    8|  Nantucket Memorial| 0.5301435| 0.3307373|     0.3307373|[0.33073729276657...|         1|\n",
      "|    1| PWM|13033|Portland Internat...|0.56758374|0.32996598|    0.32996598|[0.32996597886085...|         1|\n",
      "|    7| PWM|14492|Portland Internat...|0.56758374|0.32996598|    0.32996598|[0.32996597886085...|         1|\n",
      "|    5| PWM|12779|Portland Internat...|0.56758374|0.32996598|    0.32996598|[0.32996597886085...|         1|\n",
      "+-----+----+-----+--------------------+----------+----------+--------------+--------------------+----------+\n",
      "only showing top 20 rows\n",
      "\n"
     ]
    }
   ],
   "source": [
    "from pyspark.sql import functions as f\n",
    "\n",
    "# cluster2_dataframe = pass_2_data_features.filter(pass_2_data_features.prediction==0)\n",
    "# cluster2_dataframe.groupBy('iata','Month','count').agg(F.max('count')).sort('count',ascending=False).show()\n",
    "\n",
    "cluster2_dataframe.orderBy('total_DepDelay',ascending=False).show()"
   ]
  },
  {
   "cell_type": "code",
   "execution_count": 24,
   "id": "e2a3b3bd-ba7a-4d31-9c98-881e104b3171",
   "metadata": {},
   "outputs": [
    {
     "name": "stdout",
     "output_type": "stream",
     "text": [
      "+-----+----+-----+--------------------+----------+----------+--------------+--------------------+----------+\n",
      "|Month|iata|count|             airport|       lat|      long|total_DepDelay|            features|prediction|\n",
      "+-----+----+-----+--------------------+----------+----------+--------------+--------------------+----------+\n",
      "|    3| BGR| 4468|Bangor International| 0.5857519|0.33456033|    0.33456033|[0.33456033468246...|         1|\n",
      "|   12| BGR| 3869|Bangor International| 0.5857519|0.33456033|    0.33456033|[0.33456033468246...|         1|\n",
      "|    2| BGR| 4099|Bangor International| 0.5857519|0.33456033|    0.33456033|[0.33456033468246...|         1|\n",
      "|   11| BGR| 3855|Bangor International| 0.5857519|0.33456033|    0.33456033|[0.33456033468246...|         1|\n",
      "|    7| BGR| 5128|Bangor International| 0.5857519|0.33456033|    0.33456033|[0.33456033468246...|         1|\n",
      "|   10| BGR| 4515|Bangor International| 0.5857519|0.33456033|    0.33456033|[0.33456033468246...|         1|\n",
      "|    9| BGR| 4426|Bangor International| 0.5857519|0.33456033|    0.33456033|[0.33456033468246...|         1|\n",
      "|    6| BGR| 4502|Bangor International| 0.5857519|0.33456033|    0.33456033|[0.33456033468246...|         1|\n",
      "|    1| BGR| 4473|Bangor International| 0.5857519|0.33456033|    0.33456033|[0.33456033468246...|         1|\n",
      "|    4| BGR| 4367|Bangor International| 0.5857519|0.33456033|    0.33456033|[0.33456033468246...|         1|\n",
      "|    5| BGR| 4224|Bangor International| 0.5857519|0.33456033|    0.33456033|[0.33456033468246...|         1|\n",
      "|    8| BGR| 5149|Bangor International| 0.5857519|0.33456033|    0.33456033|[0.33456033468246...|         1|\n",
      "|    9| ACK|   96|  Nantucket Memorial| 0.5301435| 0.3307373|     0.3307373|[0.33073729276657...|         1|\n",
      "|    6| ACK|  216|  Nantucket Memorial| 0.5301435| 0.3307373|     0.3307373|[0.33073729276657...|         1|\n",
      "|    5| ACK|    8|  Nantucket Memorial| 0.5301435| 0.3307373|     0.3307373|[0.33073729276657...|         1|\n",
      "|    8| ACK|  522|  Nantucket Memorial| 0.5301435| 0.3307373|     0.3307373|[0.33073729276657...|         1|\n",
      "|    7| ACK|  513|  Nantucket Memorial| 0.5301435| 0.3307373|     0.3307373|[0.33073729276657...|         1|\n",
      "|    8| PWM|14560|Portland Internat...|0.56758374|0.32996598|    0.32996598|[0.32996597886085...|         1|\n",
      "|    7| PWM|14492|Portland Internat...|0.56758374|0.32996598|    0.32996598|[0.32996597886085...|         1|\n",
      "|   10| PWM|13619|Portland Internat...|0.56758374|0.32996598|    0.32996598|[0.32996597886085...|         1|\n",
      "+-----+----+-----+--------------------+----------+----------+--------------+--------------------+----------+\n",
      "only showing top 20 rows\n",
      "\n"
     ]
    }
   ],
   "source": [
    "from pyspark.sql import functions as f\n",
    "\n",
    "# cluster2_dataframe = pass_2_data_features.filter(pass_2_data_features.prediction==0)\n",
    "# cluster2_dataframe.groupBy('iata','Month','count').agg(F.max('count')).sort('count',ascending=False).show()\n",
    "\n",
    "from pyspark.sql import Window\n",
    "w = Window.partitionBy('iata')\n",
    "cluster2_dataframe.withColumn('total_DepDelayB', f.max('total_DepDelay').over(w))\\\n",
    "    .where(f.col('total_DepDelay') == f.col('total_DepDelayB'))\\\n",
    "    .drop('total_DepDelayB').filter(pass_2_data_features.prediction==1).sort('total_DepDelay',ascending=False).show()"
   ]
  },
  {
   "cell_type": "markdown",
   "id": "ce6e51e1-b3ac-4ede-b649-4ceda37e205d",
   "metadata": {},
   "source": [
    "## Cluster 2 with highest count"
   ]
  },
  {
   "cell_type": "code",
   "execution_count": 16,
   "id": "cf3c4ae3-c59d-491a-81d3-11d9c3d0660f",
   "metadata": {},
   "outputs": [],
   "source": [
    " # aaaa.filter(aaaa.prediction==2).show()"
   ]
  },
  {
   "cell_type": "code",
   "execution_count": 25,
   "id": "39a165a1-6cb5-49ab-a785-3fedfe2966fd",
   "metadata": {},
   "outputs": [
    {
     "name": "stdout",
     "output_type": "stream",
     "text": [
      "+-----+----+-----+--------------------+----------+----------+--------------+--------------------+----------+\n",
      "|Month|iata|count|             airport|       lat|      long|total_DepDelay|            features|prediction|\n",
      "+-----+----+-----+--------------------+----------+----------+--------------+--------------------+----------+\n",
      "|    7| ANC|43063|Ted Stevens Ancho...|0.84181154|0.08269482|    0.08269482|[0.08269482105970...|         2|\n",
      "|    8| ANC|42652|Ted Stevens Ancho...|0.84181154|0.08269482|    0.08269482|[0.08269482105970...|         2|\n",
      "|    6| ANC|39378|Ted Stevens Ancho...|0.84181154|0.08269482|    0.08269482|[0.08269482105970...|         2|\n",
      "|    9| ANC|32663|Ted Stevens Ancho...|0.84181154|0.08269482|    0.08269482|[0.08269482105970...|         2|\n",
      "|    5| ANC|30678|Ted Stevens Ancho...|0.84181154|0.08269482|    0.08269482|[0.08269482105970...|         2|\n",
      "|   10| ANC|29464|Ted Stevens Ancho...|0.84181154|0.08269482|    0.08269482|[0.08269482105970...|         2|\n",
      "|    3| ANC|28269|Ted Stevens Ancho...|0.84181154|0.08269482|    0.08269482|[0.08269482105970...|         2|\n",
      "|    1| ANC|27943|Ted Stevens Ancho...|0.84181154|0.08269482|    0.08269482|[0.08269482105970...|         2|\n",
      "|   12| ANC|27939|Ted Stevens Ancho...|0.84181154|0.08269482|    0.08269482|[0.08269482105970...|         2|\n",
      "|    4| ANC|27718|Ted Stevens Ancho...|0.84181154|0.08269482|    0.08269482|[0.08269482105970...|         2|\n",
      "|   11| ANC|26564|Ted Stevens Ancho...|0.84181154|0.08269482|    0.08269482|[0.08269482105970...|         2|\n",
      "|    2| ANC|25190|Ted Stevens Ancho...|0.84181154|0.08269482|    0.08269482|[0.08269482105970...|         2|\n",
      "|    7| JNU|10547|Juneau International|0.79770267|  0.130543|      0.130543|[0.13054299354553...|         2|\n",
      "|    8| JNU|10533|Juneau International|0.79770267|  0.130543|      0.130543|[0.13054299354553...|         2|\n",
      "|    7| FAI| 9938|Fairbanks Interna...|0.89874923|0.08932445|    0.08932445|[0.08932445198297...|         2|\n",
      "|    8| FAI| 9910|Fairbanks Interna...|0.89874923|0.08932445|    0.08932445|[0.08932445198297...|         2|\n",
      "|    6| JNU| 9504|Juneau International|0.79770267|  0.130543|      0.130543|[0.13054299354553...|         2|\n",
      "|    6| FAI| 9148|Fairbanks Interna...|0.89874923|0.08932445|    0.08932445|[0.08932445198297...|         2|\n",
      "|    9| FAI| 8099|Fairbanks Interna...|0.89874923|0.08932445|    0.08932445|[0.08932445198297...|         2|\n",
      "|    5| FAI| 7922|Fairbanks Interna...|0.89874923|0.08932445|    0.08932445|[0.08932445198297...|         2|\n",
      "+-----+----+-----+--------------------+----------+----------+--------------+--------------------+----------+\n",
      "only showing top 20 rows\n",
      "\n"
     ]
    }
   ],
   "source": [
    "cluster2_dataframe = pass_2_data_features.filter(pass_2_data_features.prediction==2)\n",
    "cluster2_dataframe.sort('count',ascending=False).show()"
   ]
  },
  {
   "cell_type": "code",
   "execution_count": 26,
   "id": "a5c6c516-9d3f-4395-ad46-39099f6add9f",
   "metadata": {},
   "outputs": [
    {
     "name": "stdout",
     "output_type": "stream",
     "text": [
      "+-----+----+-----+--------------------+----------+-----------+--------------+--------------------+----------+\n",
      "|Month|iata|count|             airport|       lat|       long|total_DepDelay|            features|prediction|\n",
      "+-----+----+-----+--------------------+----------+-----------+--------------+--------------------+----------+\n",
      "|    7| ANC|43063|Ted Stevens Ancho...|0.84181154| 0.08269482|    0.08269482|[0.08269482105970...|         2|\n",
      "|    7| JNU|10547|Juneau International|0.79770267|   0.130543|      0.130543|[0.13054299354553...|         2|\n",
      "|    7| FAI| 9938|Fairbanks Interna...|0.89874923| 0.08932445|    0.08932445|[0.08932445198297...|         2|\n",
      "|    8| KTN| 5318|Ketchikan Interna...| 0.7507772| 0.13942549|    0.13942549|[0.13942548632621...|         2|\n",
      "|    7| SIT| 3312|               Sitka|0.77724177| 0.12810613|    0.12810613|[0.12810613214969...|         2|\n",
      "|    8| OME| 2100|                Nome|0.89403266| 0.03475618|    0.03475618|[0.03475617989897...|         2|\n",
      "|    8| OTZ| 1954| Ralph Wien Memorial|0.93114996|0.043589517|   0.043589517|[0.04358951747417...|         2|\n",
      "|   10| BET| 1670|              Bethel| 0.8356389| 0.04594952|    0.04594952|[0.04594951868057...|         2|\n",
      "|    3| CDV| 1279|Merle K (Mudhole)...|  0.831134| 0.09671589|    0.09671589|[0.09671588987112...|         2|\n",
      "|    3| YAK| 1278|             Yakutat|0.81566936| 0.11476743|    0.11476743|[0.11476743221282...|         2|\n",
      "|    1| PSG| 1270|James C. Johnson ...|0.77340114| 0.13560401|    0.13560401|[0.13560400903224...|         2|\n",
      "|   10| WRG| 1269|            Wrangell| 0.7684366| 0.13738964|    0.13738964|[0.13738964498043...|         2|\n",
      "|    7| AKN| 1199|         King Salmon|0.80273783|0.062050372|   0.062050372|[0.06205037236213...|         2|\n",
      "|    7| BRW| 1146|Wiley Post Will R...|       1.0|0.061687987|   0.061687987|[0.06168798729777...|         2|\n",
      "|    8| SCC| 1005|           Deadhorse|0.98293614| 0.08744561|    0.08744561|[0.08744560927152...|         2|\n",
      "|    8| ADQ|  927|             Kodiak | 0.7882376| 0.07494452|    0.07494452|[0.07494451850652...|         2|\n",
      "|    7| ADQ|  927|             Kodiak | 0.7882376| 0.07494452|    0.07494452|[0.07494451850652...|         2|\n",
      "|    7| DLG|  785|          Dillingham|0.80850476|0.056297008|   0.056297008|[0.05629700794816...|         2|\n",
      "|   10| DUT|  639|            Unalaska|  0.728007|0.031348284|   0.031348284|[0.03134828433394...|         2|\n",
      "|    7| GST|  603|            Gustavus| 0.7987887| 0.12703316|    0.12703316|[0.12703315913677...|         2|\n",
      "+-----+----+-----+--------------------+----------+-----------+--------------+--------------------+----------+\n",
      "only showing top 20 rows\n",
      "\n"
     ]
    }
   ],
   "source": [
    "from pyspark.sql import Window\n",
    "w = Window.partitionBy('iata')\n",
    "cluster2_dataframe.withColumn('countB', f.max('count').over(w))\\\n",
    "    .where(f.col('count') == f.col('countB'))\\\n",
    "    .drop('countB').filter(pass_2_data_features.prediction==2).sort('count',ascending=False).show()"
   ]
  },
  {
   "cell_type": "markdown",
   "id": "4d0496cc-e9d6-48ba-a5da-48bd3d21a75e",
   "metadata": {},
   "source": [
    "## Highest delay in cluster 2"
   ]
  },
  {
   "cell_type": "code",
   "execution_count": 27,
   "id": "dddabb87-b1d7-4f79-af02-cf2553ec7197",
   "metadata": {},
   "outputs": [
    {
     "name": "stdout",
     "output_type": "stream",
     "text": [
      "+-----+----+-----+--------------------+---------+----------+--------------+--------------------+----------+\n",
      "|Month|iata|count|             airport|      lat|      long|total_DepDelay|            features|prediction|\n",
      "+-----+----+-----+--------------------+---------+----------+--------------+--------------------+----------+\n",
      "|    3| KTN| 3838|Ketchikan Interna...|0.7507772|0.13942549|    0.13942549|[0.13942548632621...|         2|\n",
      "|    1| KTN| 3816|Ketchikan Interna...|0.7507772|0.13942549|    0.13942549|[0.13942548632621...|         2|\n",
      "|   11| KTN| 3609|Ketchikan Interna...|0.7507772|0.13942549|    0.13942549|[0.13942548632621...|         2|\n",
      "|   10| KTN| 3836|Ketchikan Interna...|0.7507772|0.13942549|    0.13942549|[0.13942548632621...|         2|\n",
      "|    6| KTN| 4935|Ketchikan Interna...|0.7507772|0.13942549|    0.13942549|[0.13942548632621...|         2|\n",
      "|    9| KTN| 4262|Ketchikan Interna...|0.7507772|0.13942549|    0.13942549|[0.13942548632621...|         2|\n",
      "|    2| KTN| 3477|Ketchikan Interna...|0.7507772|0.13942549|    0.13942549|[0.13942548632621...|         2|\n",
      "|    5| KTN| 4104|Ketchikan Interna...|0.7507772|0.13942549|    0.13942549|[0.13942548632621...|         2|\n",
      "|    8| KTN| 5318|Ketchikan Interna...|0.7507772|0.13942549|    0.13942549|[0.13942548632621...|         2|\n",
      "|    4| KTN| 3784|Ketchikan Interna...|0.7507772|0.13942549|    0.13942549|[0.13942548632621...|         2|\n",
      "|   12| KTN| 3739|Ketchikan Interna...|0.7507772|0.13942549|    0.13942549|[0.13942548632621...|         2|\n",
      "|    7| KTN| 5292|Ketchikan Interna...|0.7507772|0.13942549|    0.13942549|[0.13942548632621...|         2|\n",
      "|    8| WRG| 1219|            Wrangell|0.7684366|0.13738964|    0.13738964|[0.13738964498043...|         2|\n",
      "|    5| WRG| 1208|            Wrangell|0.7684366|0.13738964|    0.13738964|[0.13738964498043...|         2|\n",
      "|   12| WRG| 1210|            Wrangell|0.7684366|0.13738964|    0.13738964|[0.13738964498043...|         2|\n",
      "|    1| WRG| 1268|            Wrangell|0.7684366|0.13738964|    0.13738964|[0.13738964498043...|         2|\n",
      "|    6| WRG| 1177|            Wrangell|0.7684366|0.13738964|    0.13738964|[0.13738964498043...|         2|\n",
      "|    9| WRG| 1170|            Wrangell|0.7684366|0.13738964|    0.13738964|[0.13738964498043...|         2|\n",
      "|    7| WRG| 1207|            Wrangell|0.7684366|0.13738964|    0.13738964|[0.13738964498043...|         2|\n",
      "|   10| WRG| 1269|            Wrangell|0.7684366|0.13738964|    0.13738964|[0.13738964498043...|         2|\n",
      "+-----+----+-----+--------------------+---------+----------+--------------+--------------------+----------+\n",
      "only showing top 20 rows\n",
      "\n"
     ]
    }
   ],
   "source": [
    "from pyspark.sql import functions as f\n",
    "\n",
    "# cluster2_dataframe = pass_2_data_features.filter(pass_2_data_features.prediction==0)\n",
    "# cluster2_dataframe.groupBy('iata','Month','count').agg(F.max('count')).sort('count',ascending=False).show()\n",
    "\n",
    "cluster2_dataframe.orderBy('total_DepDelay',ascending=False).show()"
   ]
  },
  {
   "cell_type": "code",
   "execution_count": 28,
   "id": "9a52e020-b488-4b58-8349-2699a01d3331",
   "metadata": {},
   "outputs": [
    {
     "name": "stdout",
     "output_type": "stream",
     "text": [
      "+-----+----+-----+--------------------+---------+----------+--------------+--------------------+----------+\n",
      "|Month|iata|count|             airport|      lat|      long|total_DepDelay|            features|prediction|\n",
      "+-----+----+-----+--------------------+---------+----------+--------------+--------------------+----------+\n",
      "|    6| KTN| 4935|Ketchikan Interna...|0.7507772|0.13942549|    0.13942549|[0.13942548632621...|         2|\n",
      "|    7| KTN| 5292|Ketchikan Interna...|0.7507772|0.13942549|    0.13942549|[0.13942548632621...|         2|\n",
      "|   11| KTN| 3609|Ketchikan Interna...|0.7507772|0.13942549|    0.13942549|[0.13942548632621...|         2|\n",
      "|    2| KTN| 3477|Ketchikan Interna...|0.7507772|0.13942549|    0.13942549|[0.13942548632621...|         2|\n",
      "|    3| KTN| 3838|Ketchikan Interna...|0.7507772|0.13942549|    0.13942549|[0.13942548632621...|         2|\n",
      "|   10| KTN| 3836|Ketchikan Interna...|0.7507772|0.13942549|    0.13942549|[0.13942548632621...|         2|\n",
      "|    8| KTN| 5318|Ketchikan Interna...|0.7507772|0.13942549|    0.13942549|[0.13942548632621...|         2|\n",
      "|    1| KTN| 3816|Ketchikan Interna...|0.7507772|0.13942549|    0.13942549|[0.13942548632621...|         2|\n",
      "|    9| KTN| 4262|Ketchikan Interna...|0.7507772|0.13942549|    0.13942549|[0.13942548632621...|         2|\n",
      "|    4| KTN| 3784|Ketchikan Interna...|0.7507772|0.13942549|    0.13942549|[0.13942548632621...|         2|\n",
      "|   12| KTN| 3739|Ketchikan Interna...|0.7507772|0.13942549|    0.13942549|[0.13942548632621...|         2|\n",
      "|    5| KTN| 4104|Ketchikan Interna...|0.7507772|0.13942549|    0.13942549|[0.13942548632621...|         2|\n",
      "|   10| WRG| 1269|            Wrangell|0.7684366|0.13738964|    0.13738964|[0.13738964498043...|         2|\n",
      "|    4| WRG| 1236|            Wrangell|0.7684366|0.13738964|    0.13738964|[0.13738964498043...|         2|\n",
      "|    1| WRG| 1268|            Wrangell|0.7684366|0.13738964|    0.13738964|[0.13738964498043...|         2|\n",
      "|    8| WRG| 1219|            Wrangell|0.7684366|0.13738964|    0.13738964|[0.13738964498043...|         2|\n",
      "|    7| WRG| 1207|            Wrangell|0.7684366|0.13738964|    0.13738964|[0.13738964498043...|         2|\n",
      "|    3| WRG| 1267|            Wrangell|0.7684366|0.13738964|    0.13738964|[0.13738964498043...|         2|\n",
      "|   12| WRG| 1210|            Wrangell|0.7684366|0.13738964|    0.13738964|[0.13738964498043...|         2|\n",
      "|    6| WRG| 1177|            Wrangell|0.7684366|0.13738964|    0.13738964|[0.13738964498043...|         2|\n",
      "+-----+----+-----+--------------------+---------+----------+--------------+--------------------+----------+\n",
      "only showing top 20 rows\n",
      "\n"
     ]
    }
   ],
   "source": [
    "from pyspark.sql import functions as f\n",
    "\n",
    "# cluster2_dataframe = pass_2_data_features.filter(pass_2_data_features.prediction==0)\n",
    "# cluster2_dataframe.groupBy('iata','Month','count').agg(F.max('count')).sort('count',ascending=False).show()\n",
    "\n",
    "from pyspark.sql import Window\n",
    "w = Window.partitionBy('iata')\n",
    "cluster2_dataframe.withColumn('total_DepDelayB', f.max('total_DepDelay').over(w))\\\n",
    "    .where(f.col('total_DepDelay') == f.col('total_DepDelayB'))\\\n",
    "    .drop('total_DepDelayB').filter(pass_2_data_features.prediction==2).sort('total_DepDelay',ascending=False).show()"
   ]
  },
  {
   "cell_type": "code",
   "execution_count": null,
   "id": "5cdcf1d7-3c29-4f87-ab42-031e7f5f7fe0",
   "metadata": {},
   "outputs": [],
   "source": []
  },
  {
   "cell_type": "markdown",
   "id": "1fb5ed63-9db0-4099-8098-60625086e54d",
   "metadata": {},
   "source": [
    "### Plot the clusters"
   ]
  },
  {
   "cell_type": "code",
   "execution_count": null,
   "id": "3225b188-bd1c-4bd2-9ebc-dfb464d25132",
   "metadata": {},
   "outputs": [],
   "source": []
  },
  {
   "cell_type": "code",
   "execution_count": 70,
   "id": "a88d4b18-16b4-456f-9a2e-cdc8e251e7ea",
   "metadata": {
    "tags": []
   },
   "outputs": [
    {
     "name": "stdout",
     "output_type": "stream",
     "text": [
      "pca_transformed\n",
      "+----+-----+------+--------------------+-----------+------------+-------------------------------+--------------------+\n",
      "|iata|Month| count|             airport|        lat|        long|busy_season_fly_out_of_features|                 pca|\n",
      "+----+-----+------+--------------------+-----------+------------+-------------------------------+--------------------+\n",
      "| ORD|    3|556663|Chicago O'Hare In...|  41.979595|-87.90446417|           [-87.90446417,41....|[92.7902433246390...|\n",
      "| ORD|   10|548480|Chicago O'Hare In...|  41.979595|-87.90446417|           [-87.90446417,41....|[92.7902433246390...|\n",
      "| ORD|    1|546669|Chicago O'Hare In...|  41.979595|-87.90446417|           [-87.90446417,41....|[92.7902433246390...|\n",
      "| ORD|    4|540226|Chicago O'Hare In...|  41.979595|-87.90446417|           [-87.90446417,41....|[92.7902433246390...|\n",
      "| ORD|    8|536420|Chicago O'Hare In...|  41.979595|-87.90446417|           [-87.90446417,41....|[92.7902433246390...|\n",
      "| ORD|   12|534155|Chicago O'Hare In...|  41.979595|-87.90446417|           [-87.90446417,41....|[92.7902433246390...|\n",
      "| ORD|    7|531262|Chicago O'Hare In...|  41.979595|-87.90446417|           [-87.90446417,41....|[92.7902433246390...|\n",
      "| ORD|    5|525760|Chicago O'Hare In...|  41.979595|-87.90446417|           [-87.90446417,41....|[92.7902433246390...|\n",
      "| ORD|   11|518190|Chicago O'Hare In...|  41.979595|-87.90446417|           [-87.90446417,41....|[92.7902433246390...|\n",
      "| ORD|    6|516619|Chicago O'Hare In...|  41.979595|-87.90446417|           [-87.90446417,41....|[92.7902433246390...|\n",
      "| ATL|    3|514557|William B Hartsfi...|33.64044444|-84.42694444|           [-84.42694444,33....|[88.2126726569801...|\n",
      "| ORD|    9|507630|Chicago O'Hare In...|  41.979595|-87.90446417|           [-87.90446417,41....|[92.7902433246390...|\n",
      "| ATL|    1|505035|William B Hartsfi...|33.64044444|-84.42694444|           [-84.42694444,33....|[88.2126726569801...|\n",
      "| ATL|   10|504649|William B Hartsfi...|33.64044444|-84.42694444|           [-84.42694444,33....|[88.2126726569801...|\n",
      "| ORD|    2|502996|Chicago O'Hare In...|  41.979595|-87.90446417|           [-87.90446417,41....|[92.7902433246390...|\n",
      "| ATL|   12|495894|William B Hartsfi...|33.64044444|-84.42694444|           [-84.42694444,33....|[88.2126726569801...|\n",
      "| ATL|    4|491713|William B Hartsfi...|33.64044444|-84.42694444|           [-84.42694444,33....|[88.2126726569801...|\n",
      "| ATL|    8|487253|William B Hartsfi...|33.64044444|-84.42694444|           [-84.42694444,33....|[88.2126726569801...|\n",
      "| ATL|   11|481193|William B Hartsfi...|33.64044444|-84.42694444|           [-84.42694444,33....|[88.2126726569801...|\n",
      "| ATL|    7|479405|William B Hartsfi...|33.64044444|-84.42694444|           [-84.42694444,33....|[88.2126726569801...|\n",
      "+----+-----+------+--------------------+-----------+------------+-------------------------------+--------------------+\n",
      "only showing top 20 rows\n",
      "\n",
      "None\n"
     ]
    },
    {
     "data": {
      "image/png": "[encoded data removed]",
      "text/plain": [
       "<Figure size 537.375x432 with 1 Axes>"
      ]
     },
     "metadata": {
      "needs_background": "light"
     },
     "output_type": "display_data"
    }
   ],
   "source": [
    "from pyspark.ml.feature import PCA as PCAml\n",
    "import pandas as pd\n",
    "import numpy as np\n",
    "import seaborn as sns\n",
    "import matplotlib.pyplot as plt\n",
    "\n",
    "pca = PCAml(k=2, inputCol=\"busy_season_fly_out_of_features\", outputCol=\"pca\")\n",
    "# pca_model = pca.fit(busy_season_fly_out_of_data)\n",
    "pca_model = pca.fit(BKMeans_transform)\n",
    "pca_transformed = pca_model.transform(busy_season_fly_out_of_data)\n",
    "print('pca_transformed')\n",
    "print(pca_transformed.show())\n",
    "\n",
    "# BKMeans_=BisectingKMeans(featuresCol='busy_season_fly_out_of_features', k=3) \n",
    "# BKMeans_Model=BKMeans_.fit(busy_season_fly_out_of_data)\n",
    "# BKMeans_transform=BKMeans_Model.transform(busy_season_fly_out_of_data)\n",
    "# # BKMeans_transform.show()\n",
    "\n",
    "# extracting the principal components\n",
    "X_pca = pca_transformed.rdd.map(lambda row: row.pca).collect()\n",
    "X_pca = np.array(X_pca)\n",
    "\n",
    "# Retrieve cluster assigned from the above clustering\n",
    "cluster_assignment = np.array(BKMeans_transform.rdd.map(lambda row: row.prediction).collect()).reshape(-1,1)\n",
    "\n",
    "\n",
    "# Plotting the data\n",
    "pca_data = np.hstack((X_pca,cluster_assignment))\n",
    "\n",
    "pca_df = pd.DataFrame(data=pca_data, columns=(\"lat\", \"long\",\"cluster_assignment\"))\n",
    "sns.FacetGrid(pca_df,hue=\"cluster_assignment\", height=6).map(plt.scatter, \"lat\", \"long\").add_legend()\n",
    "plt.show()"
   ]
  },
  {
   "cell_type": "code",
   "execution_count": 12,
   "id": "d3685464-afd7-4e20-b665-e398af8fd70e",
   "metadata": {},
   "outputs": [
    {
     "data": {
      "image/png": "[encoded data removed]",
      "text/plain": [
       "<Figure size 537.375x432 with 1 Axes>"
      ]
     },
     "metadata": {
      "needs_background": "light"
     },
     "output_type": "display_data"
    }
   ],
   "source": [
    "from pyspark.ml.feature import PCA as PCAml\n",
    "import pandas as pd\n",
    "import numpy as np\n",
    "import seaborn as sns\n",
    "import matplotlib.pyplot as plt\n",
    "\n",
    "pca1 = PCAml(k=2, inputCol=\"busy_season_fly_out_of_features\", outputCol=\"pca\")\n",
    "# pca_model = pca.fit(busy_season_fly_out_of_data)\n",
    "pca_model1 = pca1.fit(BKMeans_transform)\n",
    "\n",
    "pca_transformed1 = pca_model1.transform(busy_season_fly_out_of_data)\n",
    "\n",
    "\n",
    "# BKMeans_=BisectingKMeans(featuresCol='busy_season_fly_out_of_features', k=3) \n",
    "# BKMeans_Model=BKMeans_.fit(busy_season_fly_out_of_data)\n",
    "# BKMeans_transform=BKMeans_Model.transform(busy_season_fly_out_of_data)\n",
    "# # BKMeans_transform.show()\n",
    "\n",
    "# extracting the principal components\n",
    "X_pca1 = pca_transformed1.rdd.map(lambda row: row.pca).collect()\n",
    "X_pca1 = np.array(X_pca1)\n",
    "\n",
    "# Retrieve cluster assigned from the above clustering\n",
    "cluster_assignment1 = np.array(BKMeans_transform.rdd.map(lambda row: row.prediction).collect()).reshape(-1,1)\n",
    "\n",
    "\n",
    "# Plotting the data\n",
    "pca_data1 = np.hstack((X_pca1,cluster_assignment1))\n",
    "\n",
    "pca_df = pd.DataFrame(data=pca_data1, columns=(\"Month\", \"count\",\"cluster_assignment\"))\n",
    "sns.FacetGrid(pca_df,hue=\"cluster_assignment\", height=6).map(plt.scatter, \"Month\", \"count\").add_legend()\n",
    "plt.show()"
   ]
  },
  {
   "cell_type": "code",
   "execution_count": null,
   "id": "922ee99b-f082-48c6-ac85-b0df5fb429f0",
   "metadata": {},
   "outputs": [],
   "source": []
  },
  {
   "cell_type": "code",
   "execution_count": null,
   "id": "5a3ad7f9-52be-410c-aa37-130d83fa5c75",
   "metadata": {},
   "outputs": [],
   "source": []
  },
  {
   "cell_type": "code",
   "execution_count": null,
   "id": "bc36c9d1-5648-48c4-abe2-12c86fbf4646",
   "metadata": {},
   "outputs": [],
   "source": [
    "cluster000 = pass_2_data_features.filter(pass_2_data_features.prediction==0)\n",
    "cluster111 = pass_2_data_features.filter(pass_2_data_features.prediction==1)\n",
    "cluster222 = pass_2_data_features.filter(pass_2_data_features.prediction==2)\n"
   ]
  },
  {
   "cell_type": "code",
   "execution_count": 12,
   "id": "05e12f61-55a0-40d0-8472-bbff0f46a12a",
   "metadata": {},
   "outputs": [
    {
     "name": "stdout",
     "output_type": "stream",
     "text": [
      "+-----+----+------+--------------------+---------+------------+--------------+--------------------+----------+\n",
      "|Month|iata| count|             airport|      lat|        long|total_DepDelay|            features|prediction|\n",
      "+-----+----+------+--------------------+---------+------------+--------------+--------------------+----------+\n",
      "|    3| ORD|556663|Chicago O'Hare In...|41.979595|-87.90446417|     6812098.0|[-87.90446417,41....|         0|\n",
      "|   10| ORD|548480|Chicago O'Hare In...|41.979595|-87.90446417|     4287455.0|[-87.90446417,41....|         0|\n",
      "|    1| ORD|546669|Chicago O'Hare In...|41.979595|-87.90446417|     7620616.0|[-87.90446417,41....|         0|\n",
      "+-----+----+------+--------------------+---------+------------+--------------+--------------------+----------+\n",
      "only showing top 3 rows\n",
      "\n"
     ]
    }
   ],
   "source": [
    "cluster000.show(3)"
   ]
  },
  {
   "cell_type": "code",
   "execution_count": null,
   "id": "b0f39af3-262c-4d27-8620-8f90272ae94a",
   "metadata": {},
   "outputs": [],
   "source": [
    "cluster111.show(3)"
   ]
  },
  {
   "cell_type": "code",
   "execution_count": null,
   "id": "f587ecd5-bf86-45db-99dd-1f717a1b0b15",
   "metadata": {},
   "outputs": [],
   "source": [
    "cluster222.show(3)"
   ]
  },
  {
   "cell_type": "code",
   "execution_count": 28,
   "id": "8939c192-9250-4ecd-a286-f16dfc6388fa",
   "metadata": {},
   "outputs": [],
   "source": [
    "# import pyspark\n",
    "# from pyspark.sql import SparkSession\n",
    "\n",
    "# # data = cluster000\n",
    "# # columns = [\"Month\",\"iata\",\"count\",\"airport\",\"lat\",\"long\",\"total_DepDelay\",\"features\",\"prediction\",]\n",
    "\n",
    "\n",
    "# # pysparkDF = spark.createDataFrame(data = data, schema = columns)\n",
    "# # pysparkDF.printSchema()\n",
    "\n",
    "# c00 = cluster000.toPandas()\n",
    "# c11 = cluster111.toPandas()\n",
    "# c22 = cluster222.toPandas()\n",
    "\n",
    "\n",
    "\n",
    "# c00.plot.scatter(x='long',y='lat')\n",
    "# c11.plot.scatter(x='long',y='lat')\n",
    "# c22.plot.scatter(x='long',y='lat')\n",
    "# plt.show()\n"
   ]
  },
  {
   "cell_type": "code",
   "execution_count": 29,
   "id": "8da2e269-3a88-4c95-b901-502bb82cca58",
   "metadata": {},
   "outputs": [
    {
     "ename": "ImportError",
     "evalue": "Pandas >= 0.23.2 must be installed; however, it was not found.",
     "output_type": "error",
     "traceback": [
      "\u001b[0;31m---------------------------------------------------------------------------\u001b[0m",
      "\u001b[0;31mImportError\u001b[0m                               Traceback (most recent call last)",
      "\u001b[0;32m/koko/system/spark-3.2.1-bin-hadoop3.2/python/pyspark/sql/pandas/utils.py\u001b[0m in \u001b[0;36mrequire_minimum_pandas_version\u001b[0;34m()\u001b[0m\n\u001b[1;32m     26\u001b[0m     \u001b[0;32mtry\u001b[0m\u001b[0;34m:\u001b[0m\u001b[0;34m\u001b[0m\u001b[0;34m\u001b[0m\u001b[0m\n\u001b[0;32m---> 27\u001b[0;31m         \u001b[0;32mimport\u001b[0m \u001b[0mpandas\u001b[0m\u001b[0;34m\u001b[0m\u001b[0;34m\u001b[0m\u001b[0m\n\u001b[0m\u001b[1;32m     28\u001b[0m         \u001b[0mhave_pandas\u001b[0m \u001b[0;34m=\u001b[0m \u001b[0;32mTrue\u001b[0m\u001b[0;34m\u001b[0m\u001b[0;34m\u001b[0m\u001b[0m\n",
      "\u001b[0;32m~/.local/lib/python3.8/site-packages/pandas/__init__.py\u001b[0m in \u001b[0;36m<module>\u001b[0;34m\u001b[0m\n\u001b[1;32m     21\u001b[0m \u001b[0;31m# numpy compat\u001b[0m\u001b[0;34m\u001b[0m\u001b[0;34m\u001b[0m\u001b[0;34m\u001b[0m\u001b[0m\n\u001b[0;32m---> 22\u001b[0;31m \u001b[0;32mfrom\u001b[0m \u001b[0mpandas\u001b[0m\u001b[0;34m.\u001b[0m\u001b[0mcompat\u001b[0m \u001b[0;32mimport\u001b[0m \u001b[0mis_numpy_dev\u001b[0m \u001b[0;32mas\u001b[0m \u001b[0m_is_numpy_dev\u001b[0m  \u001b[0;31m# pyright: ignore # noqa:F401\u001b[0m\u001b[0;34m\u001b[0m\u001b[0;34m\u001b[0m\u001b[0m\n\u001b[0m\u001b[1;32m     23\u001b[0m \u001b[0;34m\u001b[0m\u001b[0m\n",
      "\u001b[0;32m~/.local/lib/python3.8/site-packages/pandas/compat/__init__.py\u001b[0m in \u001b[0;36m<module>\u001b[0;34m\u001b[0m\n\u001b[1;32m     17\u001b[0m \u001b[0;32mfrom\u001b[0m \u001b[0mpandas\u001b[0m\u001b[0;34m.\u001b[0m\u001b[0m_typing\u001b[0m \u001b[0;32mimport\u001b[0m \u001b[0mF\u001b[0m\u001b[0;34m\u001b[0m\u001b[0;34m\u001b[0m\u001b[0m\n\u001b[0;32m---> 18\u001b[0;31m from pandas.compat.numpy import (\n\u001b[0m\u001b[1;32m     19\u001b[0m     \u001b[0mis_numpy_dev\u001b[0m\u001b[0;34m,\u001b[0m\u001b[0;34m\u001b[0m\u001b[0;34m\u001b[0m\u001b[0m\n",
      "\u001b[0;32m~/.local/lib/python3.8/site-packages/pandas/compat/numpy/__init__.py\u001b[0m in \u001b[0;36m<module>\u001b[0;34m\u001b[0m\n\u001b[1;32m     21\u001b[0m \u001b[0;32mif\u001b[0m \u001b[0m_nlv\u001b[0m \u001b[0;34m<\u001b[0m \u001b[0mVersion\u001b[0m\u001b[0;34m(\u001b[0m\u001b[0m_min_numpy_ver\u001b[0m\u001b[0;34m)\u001b[0m\u001b[0;34m:\u001b[0m\u001b[0;34m\u001b[0m\u001b[0;34m\u001b[0m\u001b[0m\n\u001b[0;32m---> 22\u001b[0;31m     raise ImportError(\n\u001b[0m\u001b[1;32m     23\u001b[0m         \u001b[0;34mf\"this version of pandas is incompatible with numpy < {_min_numpy_ver}\\n\"\u001b[0m\u001b[0;34m\u001b[0m\u001b[0;34m\u001b[0m\u001b[0m\n",
      "\u001b[0;31mImportError\u001b[0m: this version of pandas is incompatible with numpy < 1.20.3\nyour numpy version is 1.18.5.\nPlease upgrade numpy to >= 1.20.3 to use this pandas version",
      "\nThe above exception was the direct cause of the following exception:\n",
      "\u001b[0;31mImportError\u001b[0m                               Traceback (most recent call last)",
      "\u001b[0;32m<ipython-input-29-fa2521728944>\u001b[0m in \u001b[0;36m<module>\u001b[0;34m\u001b[0m\n\u001b[1;32m      9\u001b[0m \u001b[0;31m# pysparkDF.printSchema()\u001b[0m\u001b[0;34m\u001b[0m\u001b[0;34m\u001b[0m\u001b[0;34m\u001b[0m\u001b[0m\n\u001b[1;32m     10\u001b[0m \u001b[0;34m\u001b[0m\u001b[0m\n\u001b[0;32m---> 11\u001b[0;31m \u001b[0mc00\u001b[0m \u001b[0;34m=\u001b[0m \u001b[0mcluster000\u001b[0m\u001b[0;34m.\u001b[0m\u001b[0mtoPandas\u001b[0m\u001b[0;34m(\u001b[0m\u001b[0;34m)\u001b[0m\u001b[0;34m\u001b[0m\u001b[0;34m\u001b[0m\u001b[0m\n\u001b[0m\u001b[1;32m     12\u001b[0m \u001b[0mc11\u001b[0m \u001b[0;34m=\u001b[0m \u001b[0mcluster111\u001b[0m\u001b[0;34m.\u001b[0m\u001b[0mtoPandas\u001b[0m\u001b[0;34m(\u001b[0m\u001b[0;34m)\u001b[0m\u001b[0;34m\u001b[0m\u001b[0;34m\u001b[0m\u001b[0m\n\u001b[1;32m     13\u001b[0m \u001b[0mc22\u001b[0m \u001b[0;34m=\u001b[0m \u001b[0mcluster222\u001b[0m\u001b[0;34m.\u001b[0m\u001b[0mtoPandas\u001b[0m\u001b[0;34m(\u001b[0m\u001b[0;34m)\u001b[0m\u001b[0;34m\u001b[0m\u001b[0;34m\u001b[0m\u001b[0m\n",
      "\u001b[0;32m/koko/system/spark-3.2.1-bin-hadoop3.2/python/pyspark/sql/pandas/conversion.py\u001b[0m in \u001b[0;36mtoPandas\u001b[0;34m(self)\u001b[0m\n\u001b[1;32m     60\u001b[0m \u001b[0;34m\u001b[0m\u001b[0m\n\u001b[1;32m     61\u001b[0m         \u001b[0;32mfrom\u001b[0m \u001b[0mpyspark\u001b[0m\u001b[0;34m.\u001b[0m\u001b[0msql\u001b[0m\u001b[0;34m.\u001b[0m\u001b[0mpandas\u001b[0m\u001b[0;34m.\u001b[0m\u001b[0mutils\u001b[0m \u001b[0;32mimport\u001b[0m \u001b[0mrequire_minimum_pandas_version\u001b[0m\u001b[0;34m\u001b[0m\u001b[0;34m\u001b[0m\u001b[0m\n\u001b[0;32m---> 62\u001b[0;31m         \u001b[0mrequire_minimum_pandas_version\u001b[0m\u001b[0;34m(\u001b[0m\u001b[0;34m)\u001b[0m\u001b[0;34m\u001b[0m\u001b[0;34m\u001b[0m\u001b[0m\n\u001b[0m\u001b[1;32m     63\u001b[0m \u001b[0;34m\u001b[0m\u001b[0m\n\u001b[1;32m     64\u001b[0m         \u001b[0;32mimport\u001b[0m \u001b[0mnumpy\u001b[0m \u001b[0;32mas\u001b[0m \u001b[0mnp\u001b[0m\u001b[0;34m\u001b[0m\u001b[0;34m\u001b[0m\u001b[0m\n",
      "\u001b[0;32m/koko/system/spark-3.2.1-bin-hadoop3.2/python/pyspark/sql/pandas/utils.py\u001b[0m in \u001b[0;36mrequire_minimum_pandas_version\u001b[0;34m()\u001b[0m\n\u001b[1;32m     31\u001b[0m         \u001b[0mraised_error\u001b[0m \u001b[0;34m=\u001b[0m \u001b[0merror\u001b[0m\u001b[0;34m\u001b[0m\u001b[0;34m\u001b[0m\u001b[0m\n\u001b[1;32m     32\u001b[0m     \u001b[0;32mif\u001b[0m \u001b[0;32mnot\u001b[0m \u001b[0mhave_pandas\u001b[0m\u001b[0;34m:\u001b[0m\u001b[0;34m\u001b[0m\u001b[0;34m\u001b[0m\u001b[0m\n\u001b[0;32m---> 33\u001b[0;31m         raise ImportError(\"Pandas >= %s must be installed; however, \"\n\u001b[0m\u001b[1;32m     34\u001b[0m                           \"it was not found.\" % minimum_pandas_version) from raised_error\n\u001b[1;32m     35\u001b[0m     \u001b[0;32mif\u001b[0m \u001b[0mLooseVersion\u001b[0m\u001b[0;34m(\u001b[0m\u001b[0mpandas\u001b[0m\u001b[0;34m.\u001b[0m\u001b[0m__version__\u001b[0m\u001b[0;34m)\u001b[0m \u001b[0;34m<\u001b[0m \u001b[0mLooseVersion\u001b[0m\u001b[0;34m(\u001b[0m\u001b[0mminimum_pandas_version\u001b[0m\u001b[0;34m)\u001b[0m\u001b[0;34m:\u001b[0m\u001b[0;34m\u001b[0m\u001b[0;34m\u001b[0m\u001b[0m\n",
      "\u001b[0;31mImportError\u001b[0m: Pandas >= 0.23.2 must be installed; however, it was not found."
     ]
    }
   ],
   "source": [
    "import pyspark\n",
    "from pyspark.sql import SparkSession\n",
    "\n",
    "# data = cluster000\n",
    "# columns = [\"Month\",\"iata\",\"count\",\"airport\",\"lat\",\"long\",\"total_DepDelay\",\"features\",\"prediction\",]\n",
    "\n",
    "\n",
    "# pysparkDF = spark.createDataFrame(data = data, schema = columns)\n",
    "# pysparkDF.printSchema()\n",
    "\n",
    "c00 = cluster000.toPandas()\n",
    "c11 = cluster111.toPandas()\n",
    "c22 = cluster222.toPandas()\n",
    "\n",
    "\n",
    "\n",
    "# c00.plot.scatter(x='long',y='lat')\n",
    "# c11.plot.scatter(x='long',y='lat')\n",
    "# c22.plot.scatter(x='long',y='lat')\n",
    "# plt.show()\n",
    "\n",
    "\n",
    "# fig1 = plt.figure()\n",
    "# ax1 = fig1.add_subplot(111)\n",
    "\n",
    "ax = c00.plot.scatter(x='long',y='lat', color=\"red\")\n",
    "c11.plot.scatter(x='long',y='lat',ax=ax, color=\"black\")"
   ]
  },
  {
   "cell_type": "code",
   "execution_count": 47,
   "id": "064a32f9-3903-4965-b014-f9e7f94f389f",
   "metadata": {},
   "outputs": [
    {
     "data": {
      "text/plain": [
       "<AxesSubplot:xlabel='long', ylabel='lat'>"
      ]
     },
     "execution_count": 47,
     "metadata": {},
     "output_type": "execute_result"
    },
    {
     "data": {
      "image/png": "[encoded data removed]",
      "text/plain": [
       "<Figure size 432x288 with 1 Axes>"
      ]
     },
     "metadata": {
      "needs_background": "light"
     },
     "output_type": "display_data"
    }
   ],
   "source": [
    "import pyspark\n",
    "from pyspark.sql import SparkSession\n",
    "\n",
    "# data = cluster000\n",
    "# columns = [\"Month\",\"iata\",\"count\",\"airport\",\"lat\",\"long\",\"total_DepDelay\",\"features\",\"prediction\",]\n",
    "\n",
    "\n",
    "# pysparkDF = spark.createDataFrame(data = data, schema = columns)\n",
    "# pysparkDF.printSchema()\n",
    "\n",
    "c00 = cluster000.toPandas()\n",
    "c11 = cluster111.toPandas()\n",
    "c22 = cluster222.toPandas()\n",
    "\n",
    "\n",
    "\n",
    "# c00.plot.scatter(x='long',y='lat')\n",
    "# c11.plot.scatter(x='long',y='lat')\n",
    "# c22.plot.scatter(x='long',y='lat')\n",
    "# plt.show()\n",
    "\n",
    "\n",
    "# fig1 = plt.figure()\n",
    "# ax1 = fig1.add_subplot(111)\n",
    "\n",
    "ax1 = c00.plot.scatter(x='long',y='lat', color=\"red\")\n",
    "c22.plot.scatter(x='long',y='lat',ax=ax1, color=\"green\")"
   ]
  },
  {
   "cell_type": "code",
   "execution_count": null,
   "id": "28a49967-fa08-4f0b-b0c7-f752f719123c",
   "metadata": {},
   "outputs": [],
   "source": []
  },
  {
   "cell_type": "code",
   "execution_count": 30,
   "id": "63501cb3-e0e4-4a04-bb2f-aa05b7a78b54",
   "metadata": {},
   "outputs": [
    {
     "ename": "ImportError",
     "evalue": "this version of pandas is incompatible with numpy < 1.20.3\nyour numpy version is 1.18.5.\nPlease upgrade numpy to >= 1.20.3 to use this pandas version",
     "output_type": "error",
     "traceback": [
      "\u001b[0;31m---------------------------------------------------------------------------\u001b[0m",
      "\u001b[0;31mImportError\u001b[0m                               Traceback (most recent call last)",
      "\u001b[0;32m<ipython-input-30-9caf7689f17e>\u001b[0m in \u001b[0;36m<module>\u001b[0;34m\u001b[0m\n\u001b[1;32m      1\u001b[0m \u001b[0;32mfrom\u001b[0m \u001b[0mpyspark\u001b[0m\u001b[0;34m.\u001b[0m\u001b[0mml\u001b[0m\u001b[0;34m.\u001b[0m\u001b[0mfeature\u001b[0m \u001b[0;32mimport\u001b[0m \u001b[0mPCA\u001b[0m \u001b[0;32mas\u001b[0m \u001b[0mPCAml\u001b[0m\u001b[0;34m\u001b[0m\u001b[0;34m\u001b[0m\u001b[0m\n\u001b[0;32m----> 2\u001b[0;31m \u001b[0;32mimport\u001b[0m \u001b[0mpandas\u001b[0m \u001b[0;32mas\u001b[0m \u001b[0mpd\u001b[0m\u001b[0;34m\u001b[0m\u001b[0;34m\u001b[0m\u001b[0m\n\u001b[0m\u001b[1;32m      3\u001b[0m \u001b[0;32mimport\u001b[0m \u001b[0mnumpy\u001b[0m \u001b[0;32mas\u001b[0m \u001b[0mnp\u001b[0m\u001b[0;34m\u001b[0m\u001b[0;34m\u001b[0m\u001b[0m\n\u001b[1;32m      4\u001b[0m \u001b[0;32mimport\u001b[0m \u001b[0mseaborn\u001b[0m \u001b[0;32mas\u001b[0m \u001b[0msns\u001b[0m\u001b[0;34m\u001b[0m\u001b[0;34m\u001b[0m\u001b[0m\n\u001b[1;32m      5\u001b[0m \u001b[0;32mimport\u001b[0m \u001b[0mmatplotlib\u001b[0m\u001b[0;34m.\u001b[0m\u001b[0mpyplot\u001b[0m \u001b[0;32mas\u001b[0m \u001b[0mplt\u001b[0m\u001b[0;34m\u001b[0m\u001b[0;34m\u001b[0m\u001b[0m\n",
      "\u001b[0;32m~/.local/lib/python3.8/site-packages/pandas/__init__.py\u001b[0m in \u001b[0;36m<module>\u001b[0;34m\u001b[0m\n\u001b[1;32m     20\u001b[0m \u001b[0;34m\u001b[0m\u001b[0m\n\u001b[1;32m     21\u001b[0m \u001b[0;31m# numpy compat\u001b[0m\u001b[0;34m\u001b[0m\u001b[0;34m\u001b[0m\u001b[0;34m\u001b[0m\u001b[0m\n\u001b[0;32m---> 22\u001b[0;31m \u001b[0;32mfrom\u001b[0m \u001b[0mpandas\u001b[0m\u001b[0;34m.\u001b[0m\u001b[0mcompat\u001b[0m \u001b[0;32mimport\u001b[0m \u001b[0mis_numpy_dev\u001b[0m \u001b[0;32mas\u001b[0m \u001b[0m_is_numpy_dev\u001b[0m  \u001b[0;31m# pyright: ignore # noqa:F401\u001b[0m\u001b[0;34m\u001b[0m\u001b[0;34m\u001b[0m\u001b[0m\n\u001b[0m\u001b[1;32m     23\u001b[0m \u001b[0;34m\u001b[0m\u001b[0m\n\u001b[1;32m     24\u001b[0m \u001b[0;32mtry\u001b[0m\u001b[0;34m:\u001b[0m\u001b[0;34m\u001b[0m\u001b[0;34m\u001b[0m\u001b[0m\n",
      "\u001b[0;32m~/.local/lib/python3.8/site-packages/pandas/compat/__init__.py\u001b[0m in \u001b[0;36m<module>\u001b[0;34m\u001b[0m\n\u001b[1;32m     16\u001b[0m \u001b[0;34m\u001b[0m\u001b[0m\n\u001b[1;32m     17\u001b[0m \u001b[0;32mfrom\u001b[0m \u001b[0mpandas\u001b[0m\u001b[0;34m.\u001b[0m\u001b[0m_typing\u001b[0m \u001b[0;32mimport\u001b[0m \u001b[0mF\u001b[0m\u001b[0;34m\u001b[0m\u001b[0;34m\u001b[0m\u001b[0m\n\u001b[0;32m---> 18\u001b[0;31m from pandas.compat.numpy import (\n\u001b[0m\u001b[1;32m     19\u001b[0m     \u001b[0mis_numpy_dev\u001b[0m\u001b[0;34m,\u001b[0m\u001b[0;34m\u001b[0m\u001b[0;34m\u001b[0m\u001b[0m\n\u001b[1;32m     20\u001b[0m     \u001b[0mnp_version_under1p21\u001b[0m\u001b[0;34m,\u001b[0m\u001b[0;34m\u001b[0m\u001b[0;34m\u001b[0m\u001b[0m\n",
      "\u001b[0;32m~/.local/lib/python3.8/site-packages/pandas/compat/numpy/__init__.py\u001b[0m in \u001b[0;36m<module>\u001b[0;34m\u001b[0m\n\u001b[1;32m     20\u001b[0m \u001b[0;34m\u001b[0m\u001b[0m\n\u001b[1;32m     21\u001b[0m \u001b[0;32mif\u001b[0m \u001b[0m_nlv\u001b[0m \u001b[0;34m<\u001b[0m \u001b[0mVersion\u001b[0m\u001b[0;34m(\u001b[0m\u001b[0m_min_numpy_ver\u001b[0m\u001b[0;34m)\u001b[0m\u001b[0;34m:\u001b[0m\u001b[0;34m\u001b[0m\u001b[0;34m\u001b[0m\u001b[0m\n\u001b[0;32m---> 22\u001b[0;31m     raise ImportError(\n\u001b[0m\u001b[1;32m     23\u001b[0m         \u001b[0;34mf\"this version of pandas is incompatible with numpy < {_min_numpy_ver}\\n\"\u001b[0m\u001b[0;34m\u001b[0m\u001b[0;34m\u001b[0m\u001b[0m\n\u001b[1;32m     24\u001b[0m         \u001b[0;34mf\"your numpy version is {_np_version}.\\n\"\u001b[0m\u001b[0;34m\u001b[0m\u001b[0;34m\u001b[0m\u001b[0m\n",
      "\u001b[0;31mImportError\u001b[0m: this version of pandas is incompatible with numpy < 1.20.3\nyour numpy version is 1.18.5.\nPlease upgrade numpy to >= 1.20.3 to use this pandas version"
     ]
    }
   ],
   "source": [
    "from pyspark.ml.feature import PCA as PCAml\n",
    "import pandas as pd\n",
    "import numpy as np\n",
    "import seaborn as sns\n",
    "import matplotlib.pyplot as plt\n",
    "\n",
    "pca1 = PCAml(k=2, inputCol=\"features\", outputCol=\"pca\")\n",
    "# pca_model = pca.fit(pass_2_data_features)\n",
    "pca_model1 = pca1.fit(pass_2_data_features)\n",
    "\n",
    "pca_transformed1 = pca_model1.transform(pass_2_data_features)\n",
    "\n",
    "\n",
    "# BKMeans_=BisectingKMeans(featuresCol='busy_season_fly_out_of_features', k=3) \n",
    "# BKMeans_Model=BKMeans_.fit(pass_2_data_features)\n",
    "# pass_2_data_features=BKMeans_Model.transform(pass_2_data_features)\n",
    "# # pass_2_data_features.show()\n",
    "\n",
    "# extracting the principal components\n",
    "X_pca1 = pca_transformed1.rdd.map(lambda row: row.pca).collect()\n",
    "X_pca1 = np.array(X_pca1)\n",
    "\n",
    "# Retrieve cluster assigned from the above clustering\n",
    "cluster_assignment1 = np.array(pass_2_data_features.rdd.map(lambda row: row.prediction).collect()).reshape(-1,1)\n",
    "\n",
    "\n",
    "# Plotting the data\n",
    "pca_data1 = np.hstack((X_pca1,cluster_assignment1))\n",
    "\n",
    "pca_df = pd.DataFrame(data=pca_data1, columns=(\"lat\", \"long\",\"cluster_assignment\"))\n",
    "sns.FacetGrid(pca_df,hue=\"cluster_assignment\", height=6).map(plt.scatter, \"lat\", \"long\").add_legend()\n",
    "plt.show()"
   ]
  },
  {
   "cell_type": "code",
   "execution_count": null,
   "id": "20976f81-55e6-4eed-9ebc-6f8c215d3c17",
   "metadata": {},
   "outputs": [],
   "source": []
  },
  {
   "cell_type": "code",
   "execution_count": null,
   "id": "862fe094-431b-4d3a-9a71-80d0b6090544",
   "metadata": {},
   "outputs": [],
   "source": []
  },
  {
   "cell_type": "code",
   "execution_count": 5,
   "id": "875a1bfa-242e-4473-893f-8d6e88cf1aa8",
   "metadata": {},
   "outputs": [
    {
     "name": "stdout",
     "output_type": "stream",
     "text": [
      "+------+--------+\n",
      "|Season|   count|\n",
      "+------+--------+\n",
      "|winter|29731012|\n",
      "|summer|29596848|\n",
      "|spring|30254195|\n",
      "|  fall|29332403|\n",
      "+------+--------+\n",
      "\n"
     ]
    }
   ],
   "source": [
    "\n",
    "from pyspark.sql import functions as F\n",
    "from pyspark.sql import types as T\n",
    "\n",
    "\n",
    "\n",
    "# September through November is Fall, December through February is Winter, March through May is Spring, June through August is Summer\n",
    "\n",
    "    \n",
    "\n",
    "\n",
    "@F.udf(returnType=T.StringType())\n",
    "def mapMonthToSeason(month):\n",
    "    if 9<=month<=11:\n",
    "        return \"fall\"\n",
    "    elif month == 12 or month == 1 or month ==2:\n",
    "        return \"winter\"\n",
    "    elif 3<=month<=5:\n",
    "        return \"spring\"\n",
    "    else:\n",
    "        return \"summer\"\n",
    "\n",
    "\n",
    "\n",
    "# mapping flight records to their season\n",
    "season_dataframe = raw.select('Month').withColumn('Month',mapMonthToSeason(F.col('Month'))).withColumnRenamed('Month','Season')\\\n",
    "                                      .groupBy('Season')\\\n",
    "                                      .count()\\\n",
    "                                      .show()\n",
    "    "
   ]
  },
  {
   "cell_type": "markdown",
   "id": "a1e0be62-cf4e-4036-bad7-2ce664f655aa",
   "metadata": {},
   "source": [
    "**Which airport as the origin has the most delays?**"
   ]
  },
  {
   "cell_type": "code",
   "execution_count": null,
   "id": "b17f56c5-417c-49f9-903f-1293730c4e13",
   "metadata": {},
   "outputs": [],
   "source": []
  },
  {
   "cell_type": "markdown",
   "id": "a8a5865b-e5a8-4d85-b3eb-26dcb8c0ee8e",
   "metadata": {},
   "source": [
    "**Which airport as the destination has the most delays?**"
   ]
  },
  {
   "cell_type": "code",
   "execution_count": null,
   "id": "c14be6cf-2422-486b-81fa-44c488922950",
   "metadata": {},
   "outputs": [],
   "source": []
  },
  {
   "cell_type": "markdown",
   "id": "13cc2d01-d114-43c5-9081-e72dcd600d93",
   "metadata": {},
   "source": [
    "**Which Seasons have the most delays?**"
   ]
  },
  {
   "cell_type": "code",
   "execution_count": null,
   "id": "a7ca9649-635f-4753-b228-ccad3487f056",
   "metadata": {},
   "outputs": [],
   "source": []
  },
  {
   "cell_type": "markdown",
   "id": "2998296a-3978-4f39-99d6-491c2c1b59a8",
   "metadata": {},
   "source": [
    "**Feature Exploration and Distribution Analysis**"
   ]
  },
  {
   "cell_type": "code",
   "execution_count": null,
   "id": "3b744b96-e7da-4bc9-bff8-cd1f76a570e2",
   "metadata": {},
   "outputs": [],
   "source": []
  }
 ],
 "metadata": {
  "kernelspec": {
   "display_name": "Spark 3 in Python 3",
   "language": "python",
   "name": "pyspark3"
  },
  "language_info": {
   "codemirror_mode": {
    "name": "ipython",
    "version": 3
   },
   "file_extension": ".py",
   "mimetype": "text/x-python",
   "name": "python",
   "nbconvert_exporter": "python",
   "pygments_lexer": "ipython3",
   "version": "3.8.10"
  }
 },
 "nbformat": 4,
 "nbformat_minor": 5
}
