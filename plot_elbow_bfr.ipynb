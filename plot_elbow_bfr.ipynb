{
 "cells": [
  {
   "cell_type": "code",
   "execution_count": 1,
   "id": "f2493419-38df-4106-b1be-64b2c1c10f7e",
   "metadata": {},
   "outputs": [],
   "source": [
    "def obtain_errors(season):\n",
    "    if season !=4:\n",
    "        errors = spark.read.csv('./New_BFR_Errors/season='+str(season),header=True,inferSchema=True)\n",
    "    else:\n",
    "        errors = spark.read.csv('./New_BFR_Errors/season=EVERYTHING',header=True,inferSchema=True)\n",
    "    fin = errors.orderBy('k').select('error').toPandas().to_numpy()\n",
    "    print(fin)\n",
    "    return fin\n"
   ]
  },
  {
   "cell_type": "code",
   "execution_count": null,
   "id": "6fb991b2-ae38-4e67-a757-d389e1c73582",
   "metadata": {},
   "outputs": [],
   "source": [
    "import matplotlib.pyplot as plt\n",
    "# elbow plot\n",
    "plt.plot([i for i in range(3,10)],obtain_errors(0))\n",
    "plt.xlabel(\"Number of Clusters\")\n",
    "plt.ylabel(\"Sum of Squared Error\")\n",
    "plt.title(\"BFR: Season=0 (Winter)\")\n",
    "\n"
   ]
  },
  {
   "cell_type": "code",
   "execution_count": null,
   "id": "cb7c11ce-e17d-4548-a277-a449d571e47a",
   "metadata": {},
   "outputs": [],
   "source": [
    "import matplotlib.pyplot as plt\n",
    "# elbow plot\n",
    "plt.plot([i for i in range(3,10)],obtain_errors(1))\n",
    "plt.xlabel(\"Number of Clusters\")\n",
    "plt.ylabel(\"Sum of Squared Error\")\n",
    "plt.title(\"BFR: Season=1 (Spring)\")\n"
   ]
  },
  {
   "cell_type": "code",
   "execution_count": null,
   "id": "8d60ddec-ae63-4362-bec4-ed7f223da049",
   "metadata": {},
   "outputs": [],
   "source": [
    "import matplotlib.pyplot as plt\n",
    "# elbow plot\n",
    "plt.plot([i for i in range(3,10)],obtain_errors(2))\n",
    "plt.xlabel(\"Number of Clusters\")\n",
    "plt.ylabel(\"Sum of Squared Error\")\n",
    "plt.title(\"BFR: Season=2 (Summer)\")\n"
   ]
  },
  {
   "cell_type": "code",
   "execution_count": null,
   "id": "bde6b1de-efb4-4aa6-92ea-83ab12952ad9",
   "metadata": {},
   "outputs": [],
   "source": [
    "import matplotlib.pyplot as plt\n",
    "# elbow plot\n",
    "plt.plot([i for i in range(3,10)],obtain_errors(3))\n",
    "plt.xlabel(\"Number of Clusters\")\n",
    "plt.ylabel(\"Sum of Squared Error\")\n",
    "plt.title(\"BFR: Season=3 (Fall)\")\n"
   ]
  },
  {
   "cell_type": "code",
   "execution_count": null,
   "id": "fba642cf-5e1c-45a8-867a-d4e699f0e0e3",
   "metadata": {},
   "outputs": [],
   "source": [
    "import matplotlib.pyplot as plt\n",
    "# elbow plot\n",
    "plt.plot([i for i in range(3,10)],obtain_errors(4))\n",
    "plt.xlabel(\"Number of Clusters\")\n",
    "plt.ylabel(\"Sum of Squared Error\")\n",
    "plt.title(\"BFR on All Data\")\n"
   ]
  }
 ],
 "metadata": {
  "kernelspec": {
   "display_name": "Spark 3 in Python 3",
   "language": "python",
   "name": "pyspark3"
  },
  "language_info": {
   "codemirror_mode": {
    "name": "ipython",
    "version": 3
   },
   "file_extension": ".py",
   "mimetype": "text/x-python",
   "name": "python",
   "nbconvert_exporter": "python",
   "pygments_lexer": "ipython3",
   "version": "3.9.5"
  }
 },
 "nbformat": 4,
 "nbformat_minor": 5
}
